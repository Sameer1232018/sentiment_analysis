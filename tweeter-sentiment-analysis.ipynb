{
 "cells": [
  {
   "cell_type": "raw",
   "id": "e9ab2f3d",
   "metadata": {
    "_cell_guid": "b1076dfc-b9ad-4769-8c92-a6c4dae69d19",
    "_uuid": "8f2839f25d086af736a60e9eeb907d3b93b6e0e5",
    "papermill": {
     "duration": 0.01941,
     "end_time": "2024-06-01T13:08:45.802557",
     "exception": false,
     "start_time": "2024-06-01T13:08:45.783147",
     "status": "completed"
    },
    "tags": []
   },
   "source": [
    "# This Python 3 environment comes with many helpful analytics libraries installed\n",
    "# It is defined by the kaggle/python Docker image: https://github.com/kaggle/docker-python\n",
    "# For example, here's several helpful packages to load\n",
    "\n",
    "import numpy as np # linear algebra\n",
    "import pandas as pd # data processing, CSV file I/O (e.g. pd.read_csv)\n",
    "\n",
    "# Input data files are available in the read-only \"../input/\" directory\n",
    "# For example, running this (by clicking run or pressing Shift+Enter) will list all files under the input directory\n",
    "\n",
    "import os\n",
    "for dirname, _, filenames in os.walk('/kaggle/input'):\n",
    "    for filename in filenames:\n",
    "        print(os.path.join(dirname, filename))\n",
    "\n",
    "# You can write up to 20GB to the current directory (/kaggle/working/) that gets preserved as output when you create a version using \"Save & Run All\" \n",
    "# You can also write temporary files to /kaggle/temp/, but they won't be saved outside of the current session"
   ]
  },
  {
   "cell_type": "markdown",
   "id": "40da7bee",
   "metadata": {
    "papermill": {
     "duration": 0.018388,
     "end_time": "2024-06-01T13:08:45.839971",
     "exception": false,
     "start_time": "2024-06-01T13:08:45.821583",
     "status": "completed"
    },
    "tags": []
   },
   "source": [
    "# Import Libraries\n"
   ]
  },
  {
   "cell_type": "code",
   "execution_count": 1,
   "id": "b231529a",
   "metadata": {
    "execution": {
     "iopub.execute_input": "2024-06-01T13:08:45.878865Z",
     "iopub.status.busy": "2024-06-01T13:08:45.878037Z",
     "iopub.status.idle": "2024-06-01T13:08:48.701218Z",
     "shell.execute_reply": "2024-06-01T13:08:48.700031Z"
    },
    "papermill": {
     "duration": 2.845876,
     "end_time": "2024-06-01T13:08:48.703880",
     "exception": false,
     "start_time": "2024-06-01T13:08:45.858004",
     "status": "completed"
    },
    "tags": []
   },
   "outputs": [],
   "source": [
    "import pandas as pd\n",
    "import numpy as np\n",
    "import csv\n",
    "import re \n",
    "import string\n",
    "from sklearn.model_selection import train_test_split\n",
    "from sklearn.feature_extraction.text import CountVectorizer\n",
    "from sklearn.feature_extraction.text import TfidfVectorizer\n",
    "import string\n",
    "from nltk.stem import PorterStemmer\n",
    "from nltk.corpus import stopwords\n",
    "\n",
    "from matplotlib import pyplot as plt\n",
    "import seaborn as sns\n",
    "\n",
    "from wordcloud import WordCloud\n",
    "\n",
    "\n",
    "from sklearn.linear_model import LogisticRegression\n",
    "from sklearn.naive_bayes import GaussianNB\n",
    "from sklearn.ensemble import RandomForestClassifier\n",
    "from sklearn.tree import DecisionTreeClassifier\n",
    "from sklearn.neighbors import KNeighborsClassifier\n",
    "from sklearn.ensemble import GradientBoostingClassifier\n",
    "\n",
    "from sklearn import metrics\n",
    "from sklearn.metrics import precision_score, recall_score, f1_score\n",
    "import seaborn as sns\n",
    "\n",
    "\n",
    "import warnings\n",
    "warnings.filterwarnings('ignore')"
   ]
  },
  {
   "cell_type": "code",
   "execution_count": 2,
   "id": "e2ba8a18",
   "metadata": {
    "execution": {
     "iopub.execute_input": "2024-06-01T13:08:48.741455Z",
     "iopub.status.busy": "2024-06-01T13:08:48.741083Z",
     "iopub.status.idle": "2024-06-01T13:08:49.184043Z",
     "shell.execute_reply": "2024-06-01T13:08:49.182920Z"
    },
    "papermill": {
     "duration": 0.465371,
     "end_time": "2024-06-01T13:08:49.187352",
     "exception": false,
     "start_time": "2024-06-01T13:08:48.721981",
     "status": "completed"
    },
    "tags": []
   },
   "outputs": [],
   "source": [
    "train = pd.read_csv(\"/kaggle/input/covid-19-nlp-text-classification/Corona_NLP_train.csv\", encoding='latin-1')\n",
    "test = pd.read_csv(\"/kaggle/input/covid-19-nlp-text-classification/Corona_NLP_test.csv\", encoding='latin-1')"
   ]
  },
  {
   "cell_type": "code",
   "execution_count": 3,
   "id": "e34885dc",
   "metadata": {
    "execution": {
     "iopub.execute_input": "2024-06-01T13:08:49.225609Z",
     "iopub.status.busy": "2024-06-01T13:08:49.224580Z",
     "iopub.status.idle": "2024-06-01T13:08:49.261586Z",
     "shell.execute_reply": "2024-06-01T13:08:49.260369Z"
    },
    "papermill": {
     "duration": 0.059408,
     "end_time": "2024-06-01T13:08:49.264808",
     "exception": false,
     "start_time": "2024-06-01T13:08:49.205400",
     "status": "completed"
    },
    "tags": []
   },
   "outputs": [
    {
     "data": {
      "text/html": [
       "<div>\n",
       "<style scoped>\n",
       "    .dataframe tbody tr th:only-of-type {\n",
       "        vertical-align: middle;\n",
       "    }\n",
       "\n",
       "    .dataframe tbody tr th {\n",
       "        vertical-align: top;\n",
       "    }\n",
       "\n",
       "    .dataframe thead th {\n",
       "        text-align: right;\n",
       "    }\n",
       "</style>\n",
       "<table border=\"1\" class=\"dataframe\">\n",
       "  <thead>\n",
       "    <tr style=\"text-align: right;\">\n",
       "      <th></th>\n",
       "      <th>UserName</th>\n",
       "      <th>ScreenName</th>\n",
       "      <th>Location</th>\n",
       "      <th>TweetAt</th>\n",
       "      <th>OriginalTweet</th>\n",
       "      <th>Sentiment</th>\n",
       "    </tr>\n",
       "  </thead>\n",
       "  <tbody>\n",
       "    <tr>\n",
       "      <th>0</th>\n",
       "      <td>3799</td>\n",
       "      <td>48751</td>\n",
       "      <td>London</td>\n",
       "      <td>16-03-2020</td>\n",
       "      <td>@MeNyrbie @Phil_Gahan @Chrisitv https://t.co/i...</td>\n",
       "      <td>Neutral</td>\n",
       "    </tr>\n",
       "    <tr>\n",
       "      <th>1</th>\n",
       "      <td>3800</td>\n",
       "      <td>48752</td>\n",
       "      <td>UK</td>\n",
       "      <td>16-03-2020</td>\n",
       "      <td>advice Talk to your neighbours family to excha...</td>\n",
       "      <td>Positive</td>\n",
       "    </tr>\n",
       "    <tr>\n",
       "      <th>2</th>\n",
       "      <td>3801</td>\n",
       "      <td>48753</td>\n",
       "      <td>Vagabonds</td>\n",
       "      <td>16-03-2020</td>\n",
       "      <td>Coronavirus Australia: Woolworths to give elde...</td>\n",
       "      <td>Positive</td>\n",
       "    </tr>\n",
       "    <tr>\n",
       "      <th>3</th>\n",
       "      <td>3802</td>\n",
       "      <td>48754</td>\n",
       "      <td>NaN</td>\n",
       "      <td>16-03-2020</td>\n",
       "      <td>My food stock is not the only one which is emp...</td>\n",
       "      <td>Positive</td>\n",
       "    </tr>\n",
       "    <tr>\n",
       "      <th>4</th>\n",
       "      <td>3803</td>\n",
       "      <td>48755</td>\n",
       "      <td>NaN</td>\n",
       "      <td>16-03-2020</td>\n",
       "      <td>Me, ready to go at supermarket during the #COV...</td>\n",
       "      <td>Extremely Negative</td>\n",
       "    </tr>\n",
       "    <tr>\n",
       "      <th>5</th>\n",
       "      <td>3804</td>\n",
       "      <td>48756</td>\n",
       "      <td>ÃT: 36.319708,-82.363649</td>\n",
       "      <td>16-03-2020</td>\n",
       "      <td>As news of the regionÂs first confirmed COVID...</td>\n",
       "      <td>Positive</td>\n",
       "    </tr>\n",
       "    <tr>\n",
       "      <th>6</th>\n",
       "      <td>3805</td>\n",
       "      <td>48757</td>\n",
       "      <td>35.926541,-78.753267</td>\n",
       "      <td>16-03-2020</td>\n",
       "      <td>Cashier at grocery store was sharing his insig...</td>\n",
       "      <td>Positive</td>\n",
       "    </tr>\n",
       "    <tr>\n",
       "      <th>7</th>\n",
       "      <td>3806</td>\n",
       "      <td>48758</td>\n",
       "      <td>Austria</td>\n",
       "      <td>16-03-2020</td>\n",
       "      <td>Was at the supermarket today. Didn't buy toile...</td>\n",
       "      <td>Neutral</td>\n",
       "    </tr>\n",
       "    <tr>\n",
       "      <th>8</th>\n",
       "      <td>3807</td>\n",
       "      <td>48759</td>\n",
       "      <td>Atlanta, GA USA</td>\n",
       "      <td>16-03-2020</td>\n",
       "      <td>Due to COVID-19 our retail store and classroom...</td>\n",
       "      <td>Positive</td>\n",
       "    </tr>\n",
       "    <tr>\n",
       "      <th>9</th>\n",
       "      <td>3808</td>\n",
       "      <td>48760</td>\n",
       "      <td>BHAVNAGAR,GUJRAT</td>\n",
       "      <td>16-03-2020</td>\n",
       "      <td>For corona prevention,we should stop to buy th...</td>\n",
       "      <td>Negative</td>\n",
       "    </tr>\n",
       "  </tbody>\n",
       "</table>\n",
       "</div>"
      ],
      "text/plain": [
       "   UserName  ScreenName                   Location     TweetAt  \\\n",
       "0      3799       48751                     London  16-03-2020   \n",
       "1      3800       48752                         UK  16-03-2020   \n",
       "2      3801       48753                  Vagabonds  16-03-2020   \n",
       "3      3802       48754                        NaN  16-03-2020   \n",
       "4      3803       48755                        NaN  16-03-2020   \n",
       "5      3804       48756  ÃT: 36.319708,-82.363649  16-03-2020   \n",
       "6      3805       48757       35.926541,-78.753267  16-03-2020   \n",
       "7      3806       48758                    Austria  16-03-2020   \n",
       "8      3807       48759            Atlanta, GA USA  16-03-2020   \n",
       "9      3808       48760           BHAVNAGAR,GUJRAT  16-03-2020   \n",
       "\n",
       "                                       OriginalTweet           Sentiment  \n",
       "0  @MeNyrbie @Phil_Gahan @Chrisitv https://t.co/i...             Neutral  \n",
       "1  advice Talk to your neighbours family to excha...            Positive  \n",
       "2  Coronavirus Australia: Woolworths to give elde...            Positive  \n",
       "3  My food stock is not the only one which is emp...            Positive  \n",
       "4  Me, ready to go at supermarket during the #COV...  Extremely Negative  \n",
       "5  As news of the regionÂs first confirmed COVID...            Positive  \n",
       "6  Cashier at grocery store was sharing his insig...            Positive  \n",
       "7  Was at the supermarket today. Didn't buy toile...             Neutral  \n",
       "8  Due to COVID-19 our retail store and classroom...            Positive  \n",
       "9  For corona prevention,we should stop to buy th...            Negative  "
      ]
     },
     "execution_count": 3,
     "metadata": {},
     "output_type": "execute_result"
    }
   ],
   "source": [
    "train.head(10)"
   ]
  },
  {
   "cell_type": "code",
   "execution_count": 4,
   "id": "bc022bd8",
   "metadata": {
    "execution": {
     "iopub.execute_input": "2024-06-01T13:08:49.316463Z",
     "iopub.status.busy": "2024-06-01T13:08:49.315188Z",
     "iopub.status.idle": "2024-06-01T13:08:49.325116Z",
     "shell.execute_reply": "2024-06-01T13:08:49.323851Z"
    },
    "papermill": {
     "duration": 0.038376,
     "end_time": "2024-06-01T13:08:49.327330",
     "exception": false,
     "start_time": "2024-06-01T13:08:49.288954",
     "status": "completed"
    },
    "tags": []
   },
   "outputs": [
    {
     "data": {
      "text/plain": [
       "Index(['UserName', 'ScreenName', 'Location', 'TweetAt', 'OriginalTweet',\n",
       "       'Sentiment'],\n",
       "      dtype='object')"
      ]
     },
     "execution_count": 4,
     "metadata": {},
     "output_type": "execute_result"
    }
   ],
   "source": [
    "train.columns\n"
   ]
  },
  {
   "cell_type": "code",
   "execution_count": 5,
   "id": "e4f97585",
   "metadata": {
    "execution": {
     "iopub.execute_input": "2024-06-01T13:08:49.367126Z",
     "iopub.status.busy": "2024-06-01T13:08:49.365954Z",
     "iopub.status.idle": "2024-06-01T13:08:49.391646Z",
     "shell.execute_reply": "2024-06-01T13:08:49.390568Z"
    },
    "papermill": {
     "duration": 0.048389,
     "end_time": "2024-06-01T13:08:49.394458",
     "exception": false,
     "start_time": "2024-06-01T13:08:49.346069",
     "status": "completed"
    },
    "tags": []
   },
   "outputs": [],
   "source": [
    "train = train.drop(columns = 'UserName')\n",
    "train = train.drop(columns = 'ScreenName')\n",
    "train = train.drop(columns = 'Location')\n",
    "train = train.drop(columns = 'TweetAt')\n"
   ]
  },
  {
   "cell_type": "code",
   "execution_count": 6,
   "id": "86379ee9",
   "metadata": {
    "execution": {
     "iopub.execute_input": "2024-06-01T13:08:49.433315Z",
     "iopub.status.busy": "2024-06-01T13:08:49.432935Z",
     "iopub.status.idle": "2024-06-01T13:08:49.441366Z",
     "shell.execute_reply": "2024-06-01T13:08:49.440305Z"
    },
    "papermill": {
     "duration": 0.030247,
     "end_time": "2024-06-01T13:08:49.443415",
     "exception": false,
     "start_time": "2024-06-01T13:08:49.413168",
     "status": "completed"
    },
    "tags": []
   },
   "outputs": [],
   "source": [
    "test = test.drop(columns = 'UserName')\n",
    "test = test.drop(columns = 'ScreenName')\n",
    "test = test.drop(columns = 'Location')\n",
    "test = test.drop(columns = 'TweetAt')\n"
   ]
  },
  {
   "cell_type": "code",
   "execution_count": 7,
   "id": "af446f77",
   "metadata": {
    "execution": {
     "iopub.execute_input": "2024-06-01T13:08:49.482938Z",
     "iopub.status.busy": "2024-06-01T13:08:49.481919Z",
     "iopub.status.idle": "2024-06-01T13:08:49.497046Z",
     "shell.execute_reply": "2024-06-01T13:08:49.496168Z"
    },
    "papermill": {
     "duration": 0.037417,
     "end_time": "2024-06-01T13:08:49.499255",
     "exception": false,
     "start_time": "2024-06-01T13:08:49.461838",
     "status": "completed"
    },
    "tags": []
   },
   "outputs": [
    {
     "data": {
      "text/plain": [
       "Positive              11422\n",
       "Negative               9917\n",
       "Neutral                7713\n",
       "Extremely Positive     6624\n",
       "Extremely Negative     5481\n",
       "Name: Sentiment, dtype: int64"
      ]
     },
     "execution_count": 7,
     "metadata": {},
     "output_type": "execute_result"
    }
   ],
   "source": [
    "train['Sentiment'].value_counts()\n"
   ]
  },
  {
   "cell_type": "code",
   "execution_count": 8,
   "id": "490f4ce8",
   "metadata": {
    "execution": {
     "iopub.execute_input": "2024-06-01T13:08:49.539655Z",
     "iopub.status.busy": "2024-06-01T13:08:49.538913Z",
     "iopub.status.idle": "2024-06-01T13:08:49.545211Z",
     "shell.execute_reply": "2024-06-01T13:08:49.544235Z"
    },
    "papermill": {
     "duration": 0.028833,
     "end_time": "2024-06-01T13:08:49.547408",
     "exception": false,
     "start_time": "2024-06-01T13:08:49.518575",
     "status": "completed"
    },
    "tags": []
   },
   "outputs": [
    {
     "data": {
      "text/plain": [
       "((41157, 2), (3798, 2))"
      ]
     },
     "execution_count": 8,
     "metadata": {},
     "output_type": "execute_result"
    }
   ],
   "source": [
    "train.shape, test.shape\n"
   ]
  },
  {
   "cell_type": "code",
   "execution_count": 9,
   "id": "31cfcc66",
   "metadata": {
    "execution": {
     "iopub.execute_input": "2024-06-01T13:08:49.587620Z",
     "iopub.status.busy": "2024-06-01T13:08:49.587031Z",
     "iopub.status.idle": "2024-06-01T13:08:49.616620Z",
     "shell.execute_reply": "2024-06-01T13:08:49.615518Z"
    },
    "papermill": {
     "duration": 0.052318,
     "end_time": "2024-06-01T13:08:49.619151",
     "exception": false,
     "start_time": "2024-06-01T13:08:49.566833",
     "status": "completed"
    },
    "tags": []
   },
   "outputs": [],
   "source": [
    "train0=train[train['Sentiment']=='Positive']\n",
    "train1=train[train['Sentiment']=='Negative']\n",
    "train2=train[train['Sentiment']=='Neutral']\n",
    "train3=train[train['Sentiment']=='Extremely Positive']\n",
    "train4=train[train['Sentiment']=='Extremely Negative']"
   ]
  },
  {
   "cell_type": "code",
   "execution_count": 10,
   "id": "c837bde9",
   "metadata": {
    "execution": {
     "iopub.execute_input": "2024-06-01T13:08:49.661318Z",
     "iopub.status.busy": "2024-06-01T13:08:49.660660Z",
     "iopub.status.idle": "2024-06-01T13:08:49.666647Z",
     "shell.execute_reply": "2024-06-01T13:08:49.665759Z"
    },
    "papermill": {
     "duration": 0.029868,
     "end_time": "2024-06-01T13:08:49.668673",
     "exception": false,
     "start_time": "2024-06-01T13:08:49.638805",
     "status": "completed"
    },
    "tags": []
   },
   "outputs": [
    {
     "data": {
      "text/plain": [
       "'advice Talk to your neighbours family to exchange phone numbers create contact list with phone numbers of neighbours schools employer chemist GP set up online shopping accounts if poss adequate supplies of regular meds but not over order'"
      ]
     },
     "execution_count": 10,
     "metadata": {},
     "output_type": "execute_result"
    }
   ],
   "source": [
    "train0.iloc[0]['OriginalTweet']"
   ]
  },
  {
   "cell_type": "code",
   "execution_count": 11,
   "id": "bc535afb",
   "metadata": {
    "execution": {
     "iopub.execute_input": "2024-06-01T13:08:49.710312Z",
     "iopub.status.busy": "2024-06-01T13:08:49.709569Z",
     "iopub.status.idle": "2024-06-01T13:08:49.716509Z",
     "shell.execute_reply": "2024-06-01T13:08:49.715139Z"
    },
    "papermill": {
     "duration": 0.031665,
     "end_time": "2024-06-01T13:08:49.719068",
     "exception": false,
     "start_time": "2024-06-01T13:08:49.687403",
     "status": "completed"
    },
    "tags": []
   },
   "outputs": [
    {
     "data": {
      "text/plain": [
       "\"For corona prevention,we should stop to buy things with the cash and should use online payment methods because corona can spread through the notes. Also we should prefer online shopping from our home. It's time to fight against COVID 19?. #govindia #IndiaFightsCorona\""
      ]
     },
     "execution_count": 11,
     "metadata": {},
     "output_type": "execute_result"
    }
   ],
   "source": [
    "train1.iloc[0]['OriginalTweet']"
   ]
  },
  {
   "cell_type": "code",
   "execution_count": 12,
   "id": "bd4a050f",
   "metadata": {
    "execution": {
     "iopub.execute_input": "2024-06-01T13:08:49.761263Z",
     "iopub.status.busy": "2024-06-01T13:08:49.760839Z",
     "iopub.status.idle": "2024-06-01T13:08:49.767950Z",
     "shell.execute_reply": "2024-06-01T13:08:49.767163Z"
    },
    "papermill": {
     "duration": 0.030552,
     "end_time": "2024-06-01T13:08:49.770191",
     "exception": false,
     "start_time": "2024-06-01T13:08:49.739639",
     "status": "completed"
    },
    "tags": []
   },
   "outputs": [
    {
     "data": {
      "text/plain": [
       "'@MeNyrbie @Phil_Gahan @Chrisitv https://t.co/iFz9FAn2Pa and https://t.co/xX6ghGFzCC and https://t.co/I2NlzdxNo8'"
      ]
     },
     "execution_count": 12,
     "metadata": {},
     "output_type": "execute_result"
    }
   ],
   "source": [
    "train2.iloc[0]['OriginalTweet']"
   ]
  },
  {
   "cell_type": "code",
   "execution_count": 13,
   "id": "31ecb600",
   "metadata": {
    "execution": {
     "iopub.execute_input": "2024-06-01T13:08:49.811941Z",
     "iopub.status.busy": "2024-06-01T13:08:49.811256Z",
     "iopub.status.idle": "2024-06-01T13:08:49.817513Z",
     "shell.execute_reply": "2024-06-01T13:08:49.816424Z"
    },
    "papermill": {
     "duration": 0.029213,
     "end_time": "2024-06-01T13:08:49.819464",
     "exception": false,
     "start_time": "2024-06-01T13:08:49.790251",
     "status": "completed"
    },
    "tags": []
   },
   "outputs": [
    {
     "data": {
      "text/plain": [
       "((11422, 2), (9917, 2), (7713, 2), (6624, 2), (5481, 2))"
      ]
     },
     "execution_count": 13,
     "metadata": {},
     "output_type": "execute_result"
    }
   ],
   "source": [
    "train0.shape, train1.shape, train2.shape, train3.shape, train4.shape"
   ]
  },
  {
   "cell_type": "code",
   "execution_count": 14,
   "id": "50161ab8",
   "metadata": {
    "execution": {
     "iopub.execute_input": "2024-06-01T13:08:49.859320Z",
     "iopub.status.busy": "2024-06-01T13:08:49.858649Z",
     "iopub.status.idle": "2024-06-01T13:08:49.866105Z",
     "shell.execute_reply": "2024-06-01T13:08:49.864810Z"
    },
    "papermill": {
     "duration": 0.030124,
     "end_time": "2024-06-01T13:08:49.868371",
     "exception": false,
     "start_time": "2024-06-01T13:08:49.838247",
     "status": "completed"
    },
    "tags": []
   },
   "outputs": [],
   "source": [
    "train = pd.concat([train0, train1, train2, train3, train4])\n"
   ]
  },
  {
   "cell_type": "code",
   "execution_count": 15,
   "id": "14997f60",
   "metadata": {
    "execution": {
     "iopub.execute_input": "2024-06-01T13:08:49.908432Z",
     "iopub.status.busy": "2024-06-01T13:08:49.907740Z",
     "iopub.status.idle": "2024-06-01T13:08:49.915780Z",
     "shell.execute_reply": "2024-06-01T13:08:49.914491Z"
    },
    "papermill": {
     "duration": 0.031097,
     "end_time": "2024-06-01T13:08:49.918452",
     "exception": false,
     "start_time": "2024-06-01T13:08:49.887355",
     "status": "completed"
    },
    "tags": []
   },
   "outputs": [
    {
     "data": {
      "text/plain": [
       "\"Me, ready to go at supermarket during the #COVID19 outbreak.\\r\\r\\n\\r\\r\\nNot because I'm paranoid, but because my food stock is litteraly empty. The #coronavirus is a serious thing, but please, don't panic. It causes shortage...\\r\\r\\n\\r\\r\\n#CoronavirusFrance #restezchezvous #StayAtHome #confinement https://t.co/usmuaLq72n\""
      ]
     },
     "execution_count": 15,
     "metadata": {},
     "output_type": "execute_result"
    }
   ],
   "source": [
    "train.loc[4, 'OriginalTweet']"
   ]
  },
  {
   "cell_type": "markdown",
   "id": "4cc76576",
   "metadata": {
    "papermill": {
     "duration": 0.018782,
     "end_time": "2024-06-01T13:08:49.956608",
     "exception": false,
     "start_time": "2024-06-01T13:08:49.937826",
     "status": "completed"
    },
    "tags": []
   },
   "source": [
    "# Pre-Processing Data"
   ]
  },
  {
   "cell_type": "code",
   "execution_count": 16,
   "id": "9204c87e",
   "metadata": {
    "execution": {
     "iopub.execute_input": "2024-06-01T13:08:49.996326Z",
     "iopub.status.busy": "2024-06-01T13:08:49.995912Z",
     "iopub.status.idle": "2024-06-01T13:08:50.760439Z",
     "shell.execute_reply": "2024-06-01T13:08:50.759217Z"
    },
    "papermill": {
     "duration": 0.78788,
     "end_time": "2024-06-01T13:08:50.763338",
     "exception": false,
     "start_time": "2024-06-01T13:08:49.975458",
     "status": "completed"
    },
    "tags": []
   },
   "outputs": [],
   "source": [
    "#Remove Hashtags\n",
    "train['OriginalTweet'].replace( { r\"#(\\w+)\" : '' }, inplace= True, regex = True)\n",
    "\n",
    "#Remove Mention\n",
    "train['OriginalTweet'].replace( { r\"@(\\w+)\" : '' }, inplace= True, regex = True)\n",
    "\n",
    "#Remove URL\n",
    "train['OriginalTweet'].astype(str).replace( { r\"http\\S+\" : '' }, inplace= True, regex = True)\n",
    "\n",
    "train['OriginalTweet']=train['OriginalTweet'].str.lower()\n",
    "\n",
    "#Remove Punctuations\n",
    "train['OriginalTweet'] = train['OriginalTweet'].apply(lambda x: x.translate(str.maketrans('', '', string.punctuation)))\n"
   ]
  },
  {
   "cell_type": "code",
   "execution_count": 17,
   "id": "abf2490f",
   "metadata": {
    "execution": {
     "iopub.execute_input": "2024-06-01T13:08:50.803870Z",
     "iopub.status.busy": "2024-06-01T13:08:50.803437Z",
     "iopub.status.idle": "2024-06-01T13:08:50.891776Z",
     "shell.execute_reply": "2024-06-01T13:08:50.890616Z"
    },
    "papermill": {
     "duration": 0.111624,
     "end_time": "2024-06-01T13:08:50.894638",
     "exception": false,
     "start_time": "2024-06-01T13:08:50.783014",
     "status": "completed"
    },
    "tags": []
   },
   "outputs": [],
   "source": [
    "#Remove Hashtags\n",
    "test['OriginalTweet'].replace( { r\"#(\\w+)\" : '' }, inplace= True, regex = True)\n",
    "\n",
    "#Remove Mention\n",
    "test['OriginalTweet'].replace( { r\"@(\\w+)\" : '' }, inplace= True, regex = True)\n",
    "\n",
    "#Remove URL\n",
    "test['OriginalTweet'].astype(str).replace( { r\"http\\S+\" : '' }, inplace= True, regex = True)\n",
    "\n",
    "test['OriginalTweet']=test['OriginalTweet'].str.lower()\n",
    "\n",
    "#Remove Punctuations\n",
    "test['OriginalTweet'] = test['OriginalTweet'].apply(lambda x: x.translate(str.maketrans('', '', string.punctuation)))\n"
   ]
  },
  {
   "cell_type": "code",
   "execution_count": 18,
   "id": "7a696f76",
   "metadata": {
    "execution": {
     "iopub.execute_input": "2024-06-01T13:08:50.935815Z",
     "iopub.status.busy": "2024-06-01T13:08:50.935368Z",
     "iopub.status.idle": "2024-06-01T13:09:17.005726Z",
     "shell.execute_reply": "2024-06-01T13:09:17.004432Z"
    },
    "papermill": {
     "duration": 26.093584,
     "end_time": "2024-06-01T13:09:17.008493",
     "exception": false,
     "start_time": "2024-06-01T13:08:50.914909",
     "status": "completed"
    },
    "tags": []
   },
   "outputs": [],
   "source": [
    "stemmer = PorterStemmer()\n",
    "train['OriginalTweet'] = train['OriginalTweet'].apply(lambda x: ' '.join([stemmer.stem(word) for word in x.split()]))"
   ]
  },
  {
   "cell_type": "code",
   "execution_count": 19,
   "id": "8a9b66bc",
   "metadata": {
    "execution": {
     "iopub.execute_input": "2024-06-01T13:09:17.049082Z",
     "iopub.status.busy": "2024-06-01T13:09:17.048692Z",
     "iopub.status.idle": "2024-06-01T13:09:19.490526Z",
     "shell.execute_reply": "2024-06-01T13:09:19.489376Z"
    },
    "papermill": {
     "duration": 2.465397,
     "end_time": "2024-06-01T13:09:19.493584",
     "exception": false,
     "start_time": "2024-06-01T13:09:17.028187",
     "status": "completed"
    },
    "tags": []
   },
   "outputs": [],
   "source": [
    "stop = stopwords.words('english')\n",
    "\n",
    "train['OriginalTweet'] = train['OriginalTweet'].apply(lambda x: ' '.join([word for word in x.split() if word not in (stop)]))"
   ]
  },
  {
   "cell_type": "code",
   "execution_count": 20,
   "id": "a579a4c1",
   "metadata": {
    "execution": {
     "iopub.execute_input": "2024-06-01T13:09:19.535067Z",
     "iopub.status.busy": "2024-06-01T13:09:19.534693Z",
     "iopub.status.idle": "2024-06-01T13:09:19.541557Z",
     "shell.execute_reply": "2024-06-01T13:09:19.540453Z"
    },
    "papermill": {
     "duration": 0.029689,
     "end_time": "2024-06-01T13:09:19.543993",
     "exception": false,
     "start_time": "2024-06-01T13:09:19.514304",
     "status": "completed"
    },
    "tags": []
   },
   "outputs": [
    {
     "data": {
      "text/plain": [
       "'readi go supermarket dure outbreak becaus im paranoid becaus food stock litterali empti seriou thing pleas dont panic caus shortag httpstcousmualq72n'"
      ]
     },
     "execution_count": 20,
     "metadata": {},
     "output_type": "execute_result"
    }
   ],
   "source": [
    "train.loc[4, 'OriginalTweet']"
   ]
  },
  {
   "cell_type": "code",
   "execution_count": 21,
   "id": "5289fa0f",
   "metadata": {
    "execution": {
     "iopub.execute_input": "2024-06-01T13:09:19.585844Z",
     "iopub.status.busy": "2024-06-01T13:09:19.585434Z",
     "iopub.status.idle": "2024-06-01T13:09:19.592806Z",
     "shell.execute_reply": "2024-06-01T13:09:19.591451Z"
    },
    "papermill": {
     "duration": 0.03164,
     "end_time": "2024-06-01T13:09:19.595071",
     "exception": false,
     "start_time": "2024-06-01T13:09:19.563431",
     "status": "completed"
    },
    "tags": []
   },
   "outputs": [
    {
     "data": {
      "text/plain": [
       "'httpstcoifz9fan2pa httpstcoxx6ghgfzcc httpstcoi2nlzdxno8'"
      ]
     },
     "execution_count": 21,
     "metadata": {},
     "output_type": "execute_result"
    }
   ],
   "source": [
    "train.loc[0, 'OriginalTweet']"
   ]
  },
  {
   "cell_type": "code",
   "execution_count": null,
   "id": "dec6fa57",
   "metadata": {
    "papermill": {
     "duration": 0.019055,
     "end_time": "2024-06-01T13:09:19.633611",
     "exception": false,
     "start_time": "2024-06-01T13:09:19.614556",
     "status": "completed"
    },
    "tags": []
   },
   "outputs": [],
   "source": []
  },
  {
   "cell_type": "code",
   "execution_count": null,
   "id": "f4417442",
   "metadata": {
    "papermill": {
     "duration": 0.019189,
     "end_time": "2024-06-01T13:09:19.673108",
     "exception": false,
     "start_time": "2024-06-01T13:09:19.653919",
     "status": "completed"
    },
    "tags": []
   },
   "outputs": [],
   "source": []
  },
  {
   "cell_type": "markdown",
   "id": "d9ba724f",
   "metadata": {
    "papermill": {
     "duration": 0.019542,
     "end_time": "2024-06-01T13:09:19.712587",
     "exception": false,
     "start_time": "2024-06-01T13:09:19.693045",
     "status": "completed"
    },
    "tags": []
   },
   "source": [
    "# Post EDA"
   ]
  },
  {
   "cell_type": "code",
   "execution_count": 22,
   "id": "fdc600a8",
   "metadata": {
    "execution": {
     "iopub.execute_input": "2024-06-01T13:09:19.752884Z",
     "iopub.status.busy": "2024-06-01T13:09:19.752469Z",
     "iopub.status.idle": "2024-06-01T13:09:19.764304Z",
     "shell.execute_reply": "2024-06-01T13:09:19.763277Z"
    },
    "papermill": {
     "duration": 0.034741,
     "end_time": "2024-06-01T13:09:19.766610",
     "exception": false,
     "start_time": "2024-06-01T13:09:19.731869",
     "status": "completed"
    },
    "tags": []
   },
   "outputs": [
    {
     "data": {
      "text/html": [
       "<div>\n",
       "<style scoped>\n",
       "    .dataframe tbody tr th:only-of-type {\n",
       "        vertical-align: middle;\n",
       "    }\n",
       "\n",
       "    .dataframe tbody tr th {\n",
       "        vertical-align: top;\n",
       "    }\n",
       "\n",
       "    .dataframe thead th {\n",
       "        text-align: right;\n",
       "    }\n",
       "</style>\n",
       "<table border=\"1\" class=\"dataframe\">\n",
       "  <thead>\n",
       "    <tr style=\"text-align: right;\">\n",
       "      <th></th>\n",
       "      <th>OriginalTweet</th>\n",
       "      <th>Sentiment</th>\n",
       "    </tr>\n",
       "  </thead>\n",
       "  <tbody>\n",
       "    <tr>\n",
       "      <th>1</th>\n",
       "      <td>advic talk neighbour famili exchang phone numb...</td>\n",
       "      <td>Positive</td>\n",
       "    </tr>\n",
       "    <tr>\n",
       "      <th>2</th>\n",
       "      <td>coronaviru australia woolworth give elderli di...</td>\n",
       "      <td>Positive</td>\n",
       "    </tr>\n",
       "    <tr>\n",
       "      <th>3</th>\n",
       "      <td>food stock onli one empti pleas dont panic eno...</td>\n",
       "      <td>Positive</td>\n",
       "    </tr>\n",
       "    <tr>\n",
       "      <th>5</th>\n",
       "      <td>news regionâ first confirm covid19 case came ...</td>\n",
       "      <td>Positive</td>\n",
       "    </tr>\n",
       "    <tr>\n",
       "      <th>6</th>\n",
       "      <td>cashier groceri store wa share hi insight prov...</td>\n",
       "      <td>Positive</td>\n",
       "    </tr>\n",
       "    <tr>\n",
       "      <th>8</th>\n",
       "      <td>due covid19 retail store classroom atlanta ope...</td>\n",
       "      <td>Positive</td>\n",
       "    </tr>\n",
       "    <tr>\n",
       "      <th>13</th>\n",
       "      <td>dont need stock food ill amazon deliv whatev n...</td>\n",
       "      <td>Positive</td>\n",
       "    </tr>\n",
       "    <tr>\n",
       "      <th>14</th>\n",
       "      <td>adara releas covid19 resourc center travel bra...</td>\n",
       "      <td>Positive</td>\n",
       "    </tr>\n",
       "    <tr>\n",
       "      <th>15</th>\n",
       "      <td>line groceri store unpredict eat safe altern f...</td>\n",
       "      <td>Positive</td>\n",
       "    </tr>\n",
       "    <tr>\n",
       "      <th>19</th>\n",
       "      <td>arent struggl pleas consid donat food bank non...</td>\n",
       "      <td>Positive</td>\n",
       "    </tr>\n",
       "    <tr>\n",
       "      <th>36</th>\n",
       "      <td>ye buy onli need point post photo peopl superm...</td>\n",
       "      <td>Positive</td>\n",
       "    </tr>\n",
       "    <tr>\n",
       "      <th>37</th>\n",
       "      <td>worri impact current covid19 pandem financ weâ...</td>\n",
       "      <td>Positive</td>\n",
       "    </tr>\n",
       "    <tr>\n",
       "      <th>39</th>\n",
       "      <td>go supermarket like thi without judg httpstcok...</td>\n",
       "      <td>Positive</td>\n",
       "    </tr>\n",
       "    <tr>\n",
       "      <th>41</th>\n",
       "      <td>curiou think retail shopper lot onlin shop bc ...</td>\n",
       "      <td>Positive</td>\n",
       "    </tr>\n",
       "    <tr>\n",
       "      <th>47</th>\n",
       "      <td>peopl post share photo half complet empti shel...</td>\n",
       "      <td>Positive</td>\n",
       "    </tr>\n",
       "    <tr>\n",
       "      <th>53</th>\n",
       "      <td>dear coronaviru ive follow social distanc rule...</td>\n",
       "      <td>Positive</td>\n",
       "    </tr>\n",
       "    <tr>\n",
       "      <th>57</th>\n",
       "      <td>thank groceri clerk went groceri store today l...</td>\n",
       "      <td>Positive</td>\n",
       "    </tr>\n",
       "    <tr>\n",
       "      <th>62</th>\n",
       "      <td>work capit demand packag food make us stay ope...</td>\n",
       "      <td>Positive</td>\n",
       "    </tr>\n",
       "    <tr>\n",
       "      <th>68</th>\n",
       "      <td>yeah parent riski peopl covid 19 thatâ whi st...</td>\n",
       "      <td>Positive</td>\n",
       "    </tr>\n",
       "    <tr>\n",
       "      <th>69</th>\n",
       "      <td>cn group mum live group need shield 12 week 3 ...</td>\n",
       "      <td>Positive</td>\n",
       "    </tr>\n",
       "  </tbody>\n",
       "</table>\n",
       "</div>"
      ],
      "text/plain": [
       "                                        OriginalTweet Sentiment\n",
       "1   advic talk neighbour famili exchang phone numb...  Positive\n",
       "2   coronaviru australia woolworth give elderli di...  Positive\n",
       "3   food stock onli one empti pleas dont panic eno...  Positive\n",
       "5   news regionâ first confirm covid19 case came ...  Positive\n",
       "6   cashier groceri store wa share hi insight prov...  Positive\n",
       "8   due covid19 retail store classroom atlanta ope...  Positive\n",
       "13  dont need stock food ill amazon deliv whatev n...  Positive\n",
       "14  adara releas covid19 resourc center travel bra...  Positive\n",
       "15  line groceri store unpredict eat safe altern f...  Positive\n",
       "19  arent struggl pleas consid donat food bank non...  Positive\n",
       "36  ye buy onli need point post photo peopl superm...  Positive\n",
       "37  worri impact current covid19 pandem financ weâ...  Positive\n",
       "39  go supermarket like thi without judg httpstcok...  Positive\n",
       "41  curiou think retail shopper lot onlin shop bc ...  Positive\n",
       "47  peopl post share photo half complet empti shel...  Positive\n",
       "53  dear coronaviru ive follow social distanc rule...  Positive\n",
       "57  thank groceri clerk went groceri store today l...  Positive\n",
       "62  work capit demand packag food make us stay ope...  Positive\n",
       "68  yeah parent riski peopl covid 19 thatâ whi st...  Positive\n",
       "69  cn group mum live group need shield 12 week 3 ...  Positive"
      ]
     },
     "execution_count": 22,
     "metadata": {},
     "output_type": "execute_result"
    }
   ],
   "source": [
    "train.head(20)"
   ]
  },
  {
   "cell_type": "code",
   "execution_count": 23,
   "id": "4e14bd62",
   "metadata": {
    "execution": {
     "iopub.execute_input": "2024-06-01T13:09:19.808229Z",
     "iopub.status.busy": "2024-06-01T13:09:19.807846Z",
     "iopub.status.idle": "2024-06-01T13:09:19.859867Z",
     "shell.execute_reply": "2024-06-01T13:09:19.858627Z"
    },
    "papermill": {
     "duration": 0.075677,
     "end_time": "2024-06-01T13:09:19.862318",
     "exception": false,
     "start_time": "2024-06-01T13:09:19.786641",
     "status": "completed"
    },
    "tags": []
   },
   "outputs": [
    {
     "data": {
      "text/html": [
       "<div>\n",
       "<style scoped>\n",
       "    .dataframe tbody tr th:only-of-type {\n",
       "        vertical-align: middle;\n",
       "    }\n",
       "\n",
       "    .dataframe tbody tr th {\n",
       "        vertical-align: top;\n",
       "    }\n",
       "\n",
       "    .dataframe thead th {\n",
       "        text-align: right;\n",
       "    }\n",
       "</style>\n",
       "<table border=\"1\" class=\"dataframe\">\n",
       "  <thead>\n",
       "    <tr style=\"text-align: right;\">\n",
       "      <th></th>\n",
       "      <th>OriginalTweet</th>\n",
       "      <th>Sentiment</th>\n",
       "    </tr>\n",
       "  </thead>\n",
       "  <tbody>\n",
       "    <tr>\n",
       "      <th>count</th>\n",
       "      <td>41157</td>\n",
       "      <td>41157</td>\n",
       "    </tr>\n",
       "    <tr>\n",
       "      <th>unique</th>\n",
       "      <td>41056</td>\n",
       "      <td>5</td>\n",
       "    </tr>\n",
       "    <tr>\n",
       "      <th>top</th>\n",
       "      <td></td>\n",
       "      <td>Positive</td>\n",
       "    </tr>\n",
       "    <tr>\n",
       "      <th>freq</th>\n",
       "      <td>15</td>\n",
       "      <td>11422</td>\n",
       "    </tr>\n",
       "  </tbody>\n",
       "</table>\n",
       "</div>"
      ],
      "text/plain": [
       "       OriginalTweet Sentiment\n",
       "count          41157     41157\n",
       "unique         41056         5\n",
       "top                   Positive\n",
       "freq              15     11422"
      ]
     },
     "execution_count": 23,
     "metadata": {},
     "output_type": "execute_result"
    }
   ],
   "source": [
    "train.describe()"
   ]
  },
  {
   "cell_type": "code",
   "execution_count": 24,
   "id": "5f953368",
   "metadata": {
    "execution": {
     "iopub.execute_input": "2024-06-01T13:09:19.905848Z",
     "iopub.status.busy": "2024-06-01T13:09:19.905401Z",
     "iopub.status.idle": "2024-06-01T13:09:19.937982Z",
     "shell.execute_reply": "2024-06-01T13:09:19.936405Z"
    },
    "papermill": {
     "duration": 0.057582,
     "end_time": "2024-06-01T13:09:19.940801",
     "exception": false,
     "start_time": "2024-06-01T13:09:19.883219",
     "status": "completed"
    },
    "tags": []
   },
   "outputs": [
    {
     "name": "stdout",
     "output_type": "stream",
     "text": [
      "<class 'pandas.core.frame.DataFrame'>\n",
      "Int64Index: 41157 entries, 1 to 41153\n",
      "Data columns (total 2 columns):\n",
      " #   Column         Non-Null Count  Dtype \n",
      "---  ------         --------------  ----- \n",
      " 0   OriginalTweet  41157 non-null  object\n",
      " 1   Sentiment      41157 non-null  object\n",
      "dtypes: object(2)\n",
      "memory usage: 1.9+ MB\n"
     ]
    }
   ],
   "source": [
    "train.info()"
   ]
  },
  {
   "cell_type": "code",
   "execution_count": 25,
   "id": "50511409",
   "metadata": {
    "execution": {
     "iopub.execute_input": "2024-06-01T13:09:19.982755Z",
     "iopub.status.busy": "2024-06-01T13:09:19.982331Z",
     "iopub.status.idle": "2024-06-01T13:09:20.019535Z",
     "shell.execute_reply": "2024-06-01T13:09:20.018191Z"
    },
    "papermill": {
     "duration": 0.061436,
     "end_time": "2024-06-01T13:09:20.022403",
     "exception": false,
     "start_time": "2024-06-01T13:09:19.960967",
     "status": "completed"
    },
    "tags": []
   },
   "outputs": [
    {
     "data": {
      "text/plain": [
       "OriginalTweet    41056\n",
       "Sentiment            5\n",
       "dtype: int64"
      ]
     },
     "execution_count": 25,
     "metadata": {},
     "output_type": "execute_result"
    }
   ],
   "source": [
    "train.nunique()"
   ]
  },
  {
   "cell_type": "code",
   "execution_count": 26,
   "id": "d51cee66",
   "metadata": {
    "execution": {
     "iopub.execute_input": "2024-06-01T13:09:20.065357Z",
     "iopub.status.busy": "2024-06-01T13:09:20.064989Z",
     "iopub.status.idle": "2024-06-01T13:09:20.072108Z",
     "shell.execute_reply": "2024-06-01T13:09:20.070940Z"
    },
    "papermill": {
     "duration": 0.030853,
     "end_time": "2024-06-01T13:09:20.074534",
     "exception": false,
     "start_time": "2024-06-01T13:09:20.043681",
     "status": "completed"
    },
    "tags": []
   },
   "outputs": [
    {
     "data": {
      "text/plain": [
       "(41157, 2)"
      ]
     },
     "execution_count": 26,
     "metadata": {},
     "output_type": "execute_result"
    }
   ],
   "source": [
    "train.shape"
   ]
  },
  {
   "cell_type": "code",
   "execution_count": 27,
   "id": "753e839e",
   "metadata": {
    "execution": {
     "iopub.execute_input": "2024-06-01T13:09:20.118015Z",
     "iopub.status.busy": "2024-06-01T13:09:20.117612Z",
     "iopub.status.idle": "2024-06-01T13:09:20.143683Z",
     "shell.execute_reply": "2024-06-01T13:09:20.142367Z"
    },
    "papermill": {
     "duration": 0.050909,
     "end_time": "2024-06-01T13:09:20.146183",
     "exception": false,
     "start_time": "2024-06-01T13:09:20.095274",
     "status": "completed"
    },
    "tags": []
   },
   "outputs": [
    {
     "data": {
      "text/plain": [
       "OriginalTweet    0.0\n",
       "Sentiment        0.0\n",
       "dtype: float64"
      ]
     },
     "execution_count": 27,
     "metadata": {},
     "output_type": "execute_result"
    }
   ],
   "source": [
    "nullValues = (train.isnull().sum()/len(train)*100).sort_values(ascending = False)\n",
    "nullValues"
   ]
  },
  {
   "cell_type": "code",
   "execution_count": 28,
   "id": "d7b01bb7",
   "metadata": {
    "execution": {
     "iopub.execute_input": "2024-06-01T13:09:20.188733Z",
     "iopub.status.busy": "2024-06-01T13:09:20.188295Z",
     "iopub.status.idle": "2024-06-01T13:09:20.203946Z",
     "shell.execute_reply": "2024-06-01T13:09:20.202803Z"
    },
    "papermill": {
     "duration": 0.040081,
     "end_time": "2024-06-01T13:09:20.206658",
     "exception": false,
     "start_time": "2024-06-01T13:09:20.166577",
     "status": "completed"
    },
    "tags": []
   },
   "outputs": [],
   "source": [
    "# Replace \"Extremely Positive\" with \"Positive\"\n",
    "train['Sentiment'] = train['Sentiment'].replace({'Extremely Positive': 'Positive', 'Neutral': 'Positive'})\n",
    "\n",
    "# Replace \"Extremely Negative\" with \"Negative\"\n",
    "train['Sentiment'] = train['Sentiment'].replace('Extremely Negative', 'Negative',)"
   ]
  },
  {
   "cell_type": "code",
   "execution_count": 29,
   "id": "abfb7774",
   "metadata": {
    "execution": {
     "iopub.execute_input": "2024-06-01T13:09:20.250575Z",
     "iopub.status.busy": "2024-06-01T13:09:20.249422Z",
     "iopub.status.idle": "2024-06-01T13:09:20.258023Z",
     "shell.execute_reply": "2024-06-01T13:09:20.257052Z"
    },
    "papermill": {
     "duration": 0.033195,
     "end_time": "2024-06-01T13:09:20.260599",
     "exception": false,
     "start_time": "2024-06-01T13:09:20.227404",
     "status": "completed"
    },
    "tags": []
   },
   "outputs": [],
   "source": [
    "# Replace \"Extremely Positive\" with \"Positive\"\n",
    "test['Sentiment'] = test['Sentiment'].replace({'Extremely Positive': 'Positive', 'Neutral': 'Positive'})\n",
    "\n",
    "# Replace \"Extremely Negative\" with \"Negative\"\n",
    "test['Sentiment'] = test['Sentiment'].replace('Extremely Negative', 'Negative')"
   ]
  },
  {
   "cell_type": "code",
   "execution_count": 30,
   "id": "22fedd8b",
   "metadata": {
    "execution": {
     "iopub.execute_input": "2024-06-01T13:09:20.307223Z",
     "iopub.status.busy": "2024-06-01T13:09:20.306830Z",
     "iopub.status.idle": "2024-06-01T13:09:20.318984Z",
     "shell.execute_reply": "2024-06-01T13:09:20.317825Z"
    },
    "papermill": {
     "duration": 0.040236,
     "end_time": "2024-06-01T13:09:20.321377",
     "exception": false,
     "start_time": "2024-06-01T13:09:20.281141",
     "status": "completed"
    },
    "tags": []
   },
   "outputs": [
    {
     "data": {
      "text/plain": [
       "Positive    25759\n",
       "Negative    15398\n",
       "Name: Sentiment, dtype: int64"
      ]
     },
     "execution_count": 30,
     "metadata": {},
     "output_type": "execute_result"
    }
   ],
   "source": [
    "sentimentClass = train['Sentiment'].value_counts();\n",
    "sentimentClass"
   ]
  },
  {
   "cell_type": "code",
   "execution_count": 31,
   "id": "320177d7",
   "metadata": {
    "execution": {
     "iopub.execute_input": "2024-06-01T13:09:20.364265Z",
     "iopub.status.busy": "2024-06-01T13:09:20.363347Z",
     "iopub.status.idle": "2024-06-01T13:09:20.372193Z",
     "shell.execute_reply": "2024-06-01T13:09:20.371021Z"
    },
    "papermill": {
     "duration": 0.032838,
     "end_time": "2024-06-01T13:09:20.374521",
     "exception": false,
     "start_time": "2024-06-01T13:09:20.341683",
     "status": "completed"
    },
    "tags": []
   },
   "outputs": [
    {
     "data": {
      "text/plain": [
       "Positive    2165\n",
       "Negative    1633\n",
       "Name: Sentiment, dtype: int64"
      ]
     },
     "execution_count": 31,
     "metadata": {},
     "output_type": "execute_result"
    }
   ],
   "source": [
    "sentimentClass = test['Sentiment'].value_counts();\n",
    "sentimentClass"
   ]
  },
  {
   "cell_type": "code",
   "execution_count": null,
   "id": "aa4705ce",
   "metadata": {
    "papermill": {
     "duration": 0.020309,
     "end_time": "2024-06-01T13:09:20.415762",
     "exception": false,
     "start_time": "2024-06-01T13:09:20.395453",
     "status": "completed"
    },
    "tags": []
   },
   "outputs": [],
   "source": []
  },
  {
   "cell_type": "markdown",
   "id": "8b45c426",
   "metadata": {
    "papermill": {
     "duration": 0.020413,
     "end_time": "2024-06-01T13:09:20.456830",
     "exception": false,
     "start_time": "2024-06-01T13:09:20.436417",
     "status": "completed"
    },
    "tags": []
   },
   "source": [
    "# **Distribution of sentiment categories using a bar plot**"
   ]
  },
  {
   "cell_type": "code",
   "execution_count": 32,
   "id": "29276f08",
   "metadata": {
    "execution": {
     "iopub.execute_input": "2024-06-01T13:09:20.500727Z",
     "iopub.status.busy": "2024-06-01T13:09:20.500196Z",
     "iopub.status.idle": "2024-06-01T13:09:20.777293Z",
     "shell.execute_reply": "2024-06-01T13:09:20.776254Z"
    },
    "papermill": {
     "duration": 0.302675,
     "end_time": "2024-06-01T13:09:20.779945",
     "exception": false,
     "start_time": "2024-06-01T13:09:20.477270",
     "status": "completed"
    },
    "tags": []
   },
   "outputs": [
    {
     "data": {
      "image/png": "[encoded data removed]",
      "text/plain": [
       "<Figure size 800x600 with 1 Axes>"
      ]
     },
     "metadata": {},
     "output_type": "display_data"
    }
   ],
   "source": [
    "plt.figure(figsize=(8, 6))\n",
    "sns.countplot(data=train, x='Sentiment')\n",
    "plt.title('Sentiment Distribution')\n",
    "plt.xlabel('Sentiment')\n",
    "plt.ylabel('Count')\n",
    "plt.show()"
   ]
  },
  {
   "cell_type": "markdown",
   "id": "3d1384c7",
   "metadata": {
    "papermill": {
     "duration": 0.021018,
     "end_time": "2024-06-01T13:09:20.821679",
     "exception": false,
     "start_time": "2024-06-01T13:09:20.800661",
     "status": "completed"
    },
    "tags": []
   },
   "source": [
    "# Word Cloud"
   ]
  },
  {
   "cell_type": "code",
   "execution_count": 33,
   "id": "8ef42262",
   "metadata": {
    "execution": {
     "iopub.execute_input": "2024-06-01T13:09:20.865897Z",
     "iopub.status.busy": "2024-06-01T13:09:20.865458Z",
     "iopub.status.idle": "2024-06-01T13:09:27.576071Z",
     "shell.execute_reply": "2024-06-01T13:09:27.574754Z"
    },
    "papermill": {
     "duration": 6.735706,
     "end_time": "2024-06-01T13:09:27.578908",
     "exception": false,
     "start_time": "2024-06-01T13:09:20.843202",
     "status": "completed"
    },
    "tags": []
   },
   "outputs": [
    {
     "data": {
      "image/png": "[encoded data removed]",
      "text/plain": [
       "<Figure size 1000x600 with 1 Axes>"
      ]
     },
     "metadata": {},
     "output_type": "display_data"
    }
   ],
   "source": [
    "all_tweets_text = \" \".join(tweet for tweet in train['OriginalTweet'])\n",
    "\n",
    "wordcloud = WordCloud(width=800, height=400, background_color='white').generate(all_tweets_text)\n",
    "\n",
    "\n",
    "plt.figure(figsize=(10, 6))\n",
    "plt.imshow(wordcloud, interpolation='bilinear')\n",
    "plt.axis('off')\n",
    "plt.title('Word Cloud of Tweets')\n",
    "plt.show()"
   ]
  },
  {
   "cell_type": "code",
   "execution_count": 34,
   "id": "01f0ba63",
   "metadata": {
    "execution": {
     "iopub.execute_input": "2024-06-01T13:09:27.632123Z",
     "iopub.status.busy": "2024-06-01T13:09:27.631138Z",
     "iopub.status.idle": "2024-06-01T13:09:27.635567Z",
     "shell.execute_reply": "2024-06-01T13:09:27.634827Z"
    },
    "papermill": {
     "duration": 0.032873,
     "end_time": "2024-06-01T13:09:27.637567",
     "exception": false,
     "start_time": "2024-06-01T13:09:27.604694",
     "status": "completed"
    },
    "tags": []
   },
   "outputs": [],
   "source": [
    "x = train['OriginalTweet']\n",
    "y = train['Sentiment']"
   ]
  },
  {
   "cell_type": "code",
   "execution_count": 35,
   "id": "f2699493",
   "metadata": {
    "execution": {
     "iopub.execute_input": "2024-06-01T13:09:27.691241Z",
     "iopub.status.busy": "2024-06-01T13:09:27.690511Z",
     "iopub.status.idle": "2024-06-01T13:09:27.695069Z",
     "shell.execute_reply": "2024-06-01T13:09:27.694009Z"
    },
    "papermill": {
     "duration": 0.034195,
     "end_time": "2024-06-01T13:09:27.697386",
     "exception": false,
     "start_time": "2024-06-01T13:09:27.663191",
     "status": "completed"
    },
    "tags": []
   },
   "outputs": [],
   "source": [
    "train_bgw = train"
   ]
  },
  {
   "cell_type": "code",
   "execution_count": 36,
   "id": "5fb17919",
   "metadata": {
    "execution": {
     "iopub.execute_input": "2024-06-01T13:09:27.750649Z",
     "iopub.status.busy": "2024-06-01T13:09:27.750192Z",
     "iopub.status.idle": "2024-06-01T13:09:27.755133Z",
     "shell.execute_reply": "2024-06-01T13:09:27.753974Z"
    },
    "papermill": {
     "duration": 0.034499,
     "end_time": "2024-06-01T13:09:27.757315",
     "exception": false,
     "start_time": "2024-06-01T13:09:27.722816",
     "status": "completed"
    },
    "tags": []
   },
   "outputs": [],
   "source": [
    "y_bgw = y"
   ]
  },
  {
   "cell_type": "code",
   "execution_count": 37,
   "id": "c12df3df",
   "metadata": {
    "execution": {
     "iopub.execute_input": "2024-06-01T13:09:27.811860Z",
     "iopub.status.busy": "2024-06-01T13:09:27.811155Z",
     "iopub.status.idle": "2024-06-01T13:09:27.818537Z",
     "shell.execute_reply": "2024-06-01T13:09:27.817100Z"
    },
    "papermill": {
     "duration": 0.037959,
     "end_time": "2024-06-01T13:09:27.820985",
     "exception": false,
     "start_time": "2024-06-01T13:09:27.783026",
     "status": "completed"
    },
    "tags": []
   },
   "outputs": [
    {
     "data": {
      "text/plain": [
       "(41157,)"
      ]
     },
     "execution_count": 37,
     "metadata": {},
     "output_type": "execute_result"
    }
   ],
   "source": [
    "x.shape"
   ]
  },
  {
   "cell_type": "markdown",
   "id": "a165106f",
   "metadata": {
    "papermill": {
     "duration": 0.02613,
     "end_time": "2024-06-01T13:09:27.873334",
     "exception": false,
     "start_time": "2024-06-01T13:09:27.847204",
     "status": "completed"
    },
    "tags": []
   },
   "source": [
    "# Vectorization"
   ]
  },
  {
   "cell_type": "markdown",
   "id": "d5fad4cb",
   "metadata": {
    "papermill": {
     "duration": 0.025316,
     "end_time": "2024-06-01T13:09:27.925114",
     "exception": false,
     "start_time": "2024-06-01T13:09:27.899798",
     "status": "completed"
    },
    "tags": []
   },
   "source": [
    "## TF-IDF "
   ]
  },
  {
   "cell_type": "code",
   "execution_count": 38,
   "id": "2a677d8a",
   "metadata": {
    "execution": {
     "iopub.execute_input": "2024-06-01T13:09:27.979136Z",
     "iopub.status.busy": "2024-06-01T13:09:27.978238Z",
     "iopub.status.idle": "2024-06-01T13:09:28.312650Z",
     "shell.execute_reply": "2024-06-01T13:09:28.311362Z"
    },
    "papermill": {
     "duration": 0.364179,
     "end_time": "2024-06-01T13:09:28.315240",
     "exception": false,
     "start_time": "2024-06-01T13:09:27.951061",
     "status": "completed"
    },
    "tags": []
   },
   "outputs": [],
   "source": [
    "corpus = []\n",
    "for i in range(x.shape[0]):\n",
    "    corpus.append(x.iloc[i])"
   ]
  },
  {
   "cell_type": "code",
   "execution_count": 39,
   "id": "1620eb34",
   "metadata": {
    "execution": {
     "iopub.execute_input": "2024-06-01T13:09:28.371398Z",
     "iopub.status.busy": "2024-06-01T13:09:28.370991Z",
     "iopub.status.idle": "2024-06-01T13:09:49.963451Z",
     "shell.execute_reply": "2024-06-01T13:09:49.962179Z"
    },
    "papermill": {
     "duration": 21.622473,
     "end_time": "2024-06-01T13:09:49.966177",
     "exception": false,
     "start_time": "2024-06-01T13:09:28.343704",
     "status": "completed"
    },
    "tags": []
   },
   "outputs": [],
   "source": [
    "vectorizer1 = TfidfVectorizer(max_features=1000)\n",
    "X1 = vectorizer1.fit_transform(x)\n",
    "feature_names1 = vectorizer1.get_feature_names_out()\n",
    "denselist1 = X1.todense().tolist()\n",
    "train = pd.DataFrame(denselist1, columns=feature_names1)"
   ]
  },
  {
   "cell_type": "code",
   "execution_count": 40,
   "id": "d085f1a6",
   "metadata": {
    "execution": {
     "iopub.execute_input": "2024-06-01T13:09:50.021016Z",
     "iopub.status.busy": "2024-06-01T13:09:50.020592Z",
     "iopub.status.idle": "2024-06-01T13:09:50.315948Z",
     "shell.execute_reply": "2024-06-01T13:09:50.315089Z"
    },
    "papermill": {
     "duration": 0.325403,
     "end_time": "2024-06-01T13:09:50.318372",
     "exception": false,
     "start_time": "2024-06-01T13:09:49.992969",
     "status": "completed"
    },
    "tags": []
   },
   "outputs": [],
   "source": [
    "X_temp, X_test, y_temp, y_test = train_test_split(train, y, test_size=0.2, random_state=0)\n"
   ]
  },
  {
   "cell_type": "code",
   "execution_count": 41,
   "id": "f8940d2c",
   "metadata": {
    "execution": {
     "iopub.execute_input": "2024-06-01T13:09:50.372105Z",
     "iopub.status.busy": "2024-06-01T13:09:50.370924Z",
     "iopub.status.idle": "2024-06-01T13:09:50.376293Z",
     "shell.execute_reply": "2024-06-01T13:09:50.375460Z"
    },
    "papermill": {
     "duration": 0.034417,
     "end_time": "2024-06-01T13:09:50.378393",
     "exception": false,
     "start_time": "2024-06-01T13:09:50.343976",
     "status": "completed"
    },
    "tags": []
   },
   "outputs": [],
   "source": [
    "accuracy = {'TF-IDF':[]}\n"
   ]
  },
  {
   "cell_type": "markdown",
   "id": "24b110a5",
   "metadata": {
    "papermill": {
     "duration": 0.026698,
     "end_time": "2024-06-01T13:09:50.430812",
     "exception": false,
     "start_time": "2024-06-01T13:09:50.404114",
     "status": "completed"
    },
    "tags": []
   },
   "source": [
    "# Models"
   ]
  },
  {
   "cell_type": "markdown",
   "id": "246b8e6b",
   "metadata": {
    "papermill": {
     "duration": 0.027042,
     "end_time": "2024-06-01T13:09:50.483194",
     "exception": false,
     "start_time": "2024-06-01T13:09:50.456152",
     "status": "completed"
    },
    "tags": []
   },
   "source": [
    "## Logistic Regression"
   ]
  },
  {
   "cell_type": "code",
   "execution_count": 42,
   "id": "984a5201",
   "metadata": {
    "execution": {
     "iopub.execute_input": "2024-06-01T13:09:50.538086Z",
     "iopub.status.busy": "2024-06-01T13:09:50.536822Z",
     "iopub.status.idle": "2024-06-01T13:09:56.558930Z",
     "shell.execute_reply": "2024-06-01T13:09:56.557591Z"
    },
    "papermill": {
     "duration": 6.054173,
     "end_time": "2024-06-01T13:09:56.563076",
     "exception": false,
     "start_time": "2024-06-01T13:09:50.508903",
     "status": "completed"
    },
    "tags": []
   },
   "outputs": [
    {
     "name": "stdout",
     "output_type": "stream",
     "text": [
      "0.8264091350826045\n"
     ]
    }
   ],
   "source": [
    "regressor_LR_tf = LogisticRegression(C=1.0,penalty='l2',solver='newton-cg')\n",
    "regressor_LR_tf.fit(X_temp, y_temp)\n",
    "y_predict_LR_tf = regressor_LR_tf.predict(X_test)\n",
    "a=(regressor_LR_tf.score(X_test, y_test))\n",
    "accuracy['TF-IDF'].append(a)\n",
    "\n",
    "print(metrics.accuracy_score(y_test, y_predict_LR_tf))"
   ]
  },
  {
   "cell_type": "markdown",
   "id": "d4b96218",
   "metadata": {
    "papermill": {
     "duration": 0.025476,
     "end_time": "2024-06-01T13:09:56.626592",
     "exception": false,
     "start_time": "2024-06-01T13:09:56.601116",
     "status": "completed"
    },
    "tags": []
   },
   "source": [
    "## Decision Tree"
   ]
  },
  {
   "cell_type": "code",
   "execution_count": 43,
   "id": "9c935953",
   "metadata": {
    "execution": {
     "iopub.execute_input": "2024-06-01T13:09:56.680829Z",
     "iopub.status.busy": "2024-06-01T13:09:56.680438Z",
     "iopub.status.idle": "2024-06-01T13:09:57.281454Z",
     "shell.execute_reply": "2024-06-01T13:09:57.280255Z"
    },
    "papermill": {
     "duration": 0.631593,
     "end_time": "2024-06-01T13:09:57.283752",
     "exception": false,
     "start_time": "2024-06-01T13:09:56.652159",
     "status": "completed"
    },
    "tags": []
   },
   "outputs": [
    {
     "name": "stdout",
     "output_type": "stream",
     "text": [
      "0.6932701652089407\n"
     ]
    }
   ],
   "source": [
    "model_DT_tf = DecisionTreeClassifier(criterion = 'gini', max_depth=2) \n",
    "model_DT_tf.fit(X_temp, y_temp)\n",
    "y_predict_DT_tf = model_DT_tf.predict(X_test)\n",
    "a=(model_DT_tf.score(X_test,y_test))\n",
    "accuracy['TF-IDF'].append(a)\n",
    "\n",
    "print(metrics.accuracy_score(y_test, y_predict_DT_tf))"
   ]
  },
  {
   "cell_type": "markdown",
   "id": "db3c9569",
   "metadata": {
    "papermill": {
     "duration": 0.025653,
     "end_time": "2024-06-01T13:09:57.335167",
     "exception": false,
     "start_time": "2024-06-01T13:09:57.309514",
     "status": "completed"
    },
    "tags": []
   },
   "source": [
    "## Gradient Boosting "
   ]
  },
  {
   "cell_type": "code",
   "execution_count": 44,
   "id": "450bdfe6",
   "metadata": {
    "execution": {
     "iopub.execute_input": "2024-06-01T13:09:57.390924Z",
     "iopub.status.busy": "2024-06-01T13:09:57.390263Z",
     "iopub.status.idle": "2024-06-01T13:10:50.334488Z",
     "shell.execute_reply": "2024-06-01T13:10:50.333280Z"
    },
    "papermill": {
     "duration": 52.999212,
     "end_time": "2024-06-01T13:10:50.361780",
     "exception": false,
     "start_time": "2024-06-01T13:09:57.362568",
     "status": "completed"
    },
    "tags": []
   },
   "outputs": [
    {
     "name": "stdout",
     "output_type": "stream",
     "text": [
      "0.761418853255588\n"
     ]
    }
   ],
   "source": [
    "model_GB_tf = GradientBoostingClassifier(learning_rate= 0.1, max_depth=3, n_estimators= 100,subsample=1.0) \n",
    "model_GB_tf.fit(X_temp, y_temp)\n",
    "y_predict_GB_tf = model_GB_tf.predict(X_test)\n",
    "a=(model_GB_tf.score(X_test,y_test))\n",
    "accuracy['TF-IDF'].append(a)\n",
    "\n",
    "print(metrics.accuracy_score(y_test, y_predict_GB_tf))"
   ]
  },
  {
   "cell_type": "markdown",
   "id": "8abd99fb",
   "metadata": {
    "papermill": {
     "duration": 0.025307,
     "end_time": "2024-06-01T13:10:50.413001",
     "exception": false,
     "start_time": "2024-06-01T13:10:50.387694",
     "status": "completed"
    },
    "tags": []
   },
   "source": [
    "## Random Forest"
   ]
  },
  {
   "cell_type": "code",
   "execution_count": 45,
   "id": "c3ce9f7b",
   "metadata": {
    "execution": {
     "iopub.execute_input": "2024-06-01T13:10:50.466686Z",
     "iopub.status.busy": "2024-06-01T13:10:50.466045Z",
     "iopub.status.idle": "2024-06-01T13:11:23.296858Z",
     "shell.execute_reply": "2024-06-01T13:11:23.295563Z"
    },
    "papermill": {
     "duration": 32.885881,
     "end_time": "2024-06-01T13:11:23.324517",
     "exception": false,
     "start_time": "2024-06-01T13:10:50.438636",
     "status": "completed"
    },
    "tags": []
   },
   "outputs": [
    {
     "name": "stdout",
     "output_type": "stream",
     "text": [
      "0.8137755102040817\n"
     ]
    }
   ],
   "source": [
    "model_RF_tf = RandomForestClassifier(n_estimators= 100, max_features = 'log2')\n",
    "model_RF_tf.fit(X_temp, y_temp)\n",
    "y_predict_RF_tf = model_RF_tf.predict(X_test)\n",
    "a=(model_RF_tf.score(X_test,y_test))\n",
    "accuracy['TF-IDF'].append(a)\n",
    "\n",
    "print(metrics.accuracy_score(y_test, y_predict_RF_tf))"
   ]
  },
  {
   "cell_type": "markdown",
   "id": "26429e21",
   "metadata": {
    "papermill": {
     "duration": 0.025568,
     "end_time": "2024-06-01T13:11:23.376009",
     "exception": false,
     "start_time": "2024-06-01T13:11:23.350441",
     "status": "completed"
    },
    "tags": []
   },
   "source": [
    "## K Nearest Neighbour"
   ]
  },
  {
   "cell_type": "code",
   "execution_count": 46,
   "id": "b998bd66",
   "metadata": {
    "execution": {
     "iopub.execute_input": "2024-06-01T13:11:23.429036Z",
     "iopub.status.busy": "2024-06-01T13:11:23.428638Z",
     "iopub.status.idle": "2024-06-01T13:17:00.786279Z",
     "shell.execute_reply": "2024-06-01T13:17:00.785288Z"
    },
    "papermill": {
     "duration": 337.41282,
     "end_time": "2024-06-01T13:17:00.814380",
     "exception": false,
     "start_time": "2024-06-01T13:11:23.401560",
     "status": "completed"
    },
    "tags": []
   },
   "outputs": [
    {
     "name": "stdout",
     "output_type": "stream",
     "text": [
      "0.6704324586977648\n"
     ]
    }
   ],
   "source": [
    "model_KN_tf = KNeighborsClassifier(metric= 'manhattan', n_neighbors= 5, weights= 'distance') \n",
    "model_KN_tf.fit(X_temp, y_temp)\n",
    "y_predict_KN_tf = model_KN_tf.predict(X_test)\n",
    "a=(model_KN_tf.score(X_test,y_test))\n",
    "accuracy['TF-IDF'].append(a)\n",
    "\n",
    "print(metrics.accuracy_score(y_test, y_predict_KN_tf))"
   ]
  },
  {
   "cell_type": "markdown",
   "id": "06dd8983",
   "metadata": {
    "papermill": {
     "duration": 0.027182,
     "end_time": "2024-06-01T13:17:00.869797",
     "exception": false,
     "start_time": "2024-06-01T13:17:00.842615",
     "status": "completed"
    },
    "tags": []
   },
   "source": [
    "# Evaluation"
   ]
  },
  {
   "cell_type": "code",
   "execution_count": 47,
   "id": "9247376b",
   "metadata": {
    "execution": {
     "iopub.execute_input": "2024-06-01T13:17:00.926762Z",
     "iopub.status.busy": "2024-06-01T13:17:00.925633Z",
     "iopub.status.idle": "2024-06-01T13:17:00.938229Z",
     "shell.execute_reply": "2024-06-01T13:17:00.936854Z"
    },
    "papermill": {
     "duration": 0.042395,
     "end_time": "2024-06-01T13:17:00.940308",
     "exception": false,
     "start_time": "2024-06-01T13:17:00.897913",
     "status": "completed"
    },
    "tags": []
   },
   "outputs": [
    {
     "data": {
      "text/html": [
       "<div>\n",
       "<style scoped>\n",
       "    .dataframe tbody tr th:only-of-type {\n",
       "        vertical-align: middle;\n",
       "    }\n",
       "\n",
       "    .dataframe tbody tr th {\n",
       "        vertical-align: top;\n",
       "    }\n",
       "\n",
       "    .dataframe thead th {\n",
       "        text-align: right;\n",
       "    }\n",
       "</style>\n",
       "<table border=\"1\" class=\"dataframe\">\n",
       "  <thead>\n",
       "    <tr style=\"text-align: right;\">\n",
       "      <th></th>\n",
       "      <th>model</th>\n",
       "      <th>accuracy</th>\n",
       "    </tr>\n",
       "  </thead>\n",
       "  <tbody>\n",
       "    <tr>\n",
       "      <th>0</th>\n",
       "      <td>LR</td>\n",
       "      <td>0.826409</td>\n",
       "    </tr>\n",
       "    <tr>\n",
       "      <th>1</th>\n",
       "      <td>DT</td>\n",
       "      <td>0.693270</td>\n",
       "    </tr>\n",
       "    <tr>\n",
       "      <th>2</th>\n",
       "      <td>GB</td>\n",
       "      <td>0.761419</td>\n",
       "    </tr>\n",
       "    <tr>\n",
       "      <th>3</th>\n",
       "      <td>RF</td>\n",
       "      <td>0.813776</td>\n",
       "    </tr>\n",
       "    <tr>\n",
       "      <th>4</th>\n",
       "      <td>KN</td>\n",
       "      <td>0.670432</td>\n",
       "    </tr>\n",
       "  </tbody>\n",
       "</table>\n",
       "</div>"
      ],
      "text/plain": [
       "  model  accuracy\n",
       "0    LR  0.826409\n",
       "1    DT  0.693270\n",
       "2    GB  0.761419\n",
       "3    RF  0.813776\n",
       "4    KN  0.670432"
      ]
     },
     "execution_count": 47,
     "metadata": {},
     "output_type": "execute_result"
    }
   ],
   "source": [
    "model = ['LR','DT','GB','RF','KN']\n",
    "data = {'model': model,'accuracy': accuracy['TF-IDF']}\n",
    "compare_models = pd.DataFrame(data)\n",
    "compare_models"
   ]
  },
  {
   "cell_type": "code",
   "execution_count": 48,
   "id": "2fcccd51",
   "metadata": {
    "execution": {
     "iopub.execute_input": "2024-06-01T13:17:00.996664Z",
     "iopub.status.busy": "2024-06-01T13:17:00.995932Z",
     "iopub.status.idle": "2024-06-01T13:17:01.300864Z",
     "shell.execute_reply": "2024-06-01T13:17:01.299571Z"
    },
    "papermill": {
     "duration": 0.335785,
     "end_time": "2024-06-01T13:17:01.303535",
     "exception": false,
     "start_time": "2024-06-01T13:17:00.967750",
     "status": "completed"
    },
    "tags": []
   },
   "outputs": [
    {
     "data": {
      "image/png": "[encoded data removed]",
      "text/plain": [
       "<Figure size 1000x800 with 1 Axes>"
      ]
     },
     "metadata": {},
     "output_type": "display_data"
    }
   ],
   "source": [
    "x, y = compare_models['model'],compare_models['accuracy']\n",
    "ind = np.arange(len(y))\n",
    "fig, ax = plt.subplots(figsize=(10,8))\n",
    "ax.bar(ind, y)\n",
    "ax.set_xticks(ind)\n",
    "ax.set_xticklabels(x)\n",
    "ax.bar_label(ax.containers[0])\n",
    "ax.tick_params(axis='both', which='major', labelsize=16)\n",
    "ax.tick_params(axis='both', which='minor', labelsize=12)\n",
    "plt.show()\n",
    "#fig.savefig('Comparision of Models, TFIDF.pdf', format='pdf', bbox_inches = \"tight\")"
   ]
  },
  {
   "cell_type": "markdown",
   "id": "9f250866",
   "metadata": {
    "papermill": {
     "duration": 0.027011,
     "end_time": "2024-06-01T13:17:01.358609",
     "exception": false,
     "start_time": "2024-06-01T13:17:01.331598",
     "status": "completed"
    },
    "tags": []
   },
   "source": [
    "## BoW"
   ]
  },
  {
   "cell_type": "code",
   "execution_count": 49,
   "id": "4f65c204",
   "metadata": {
    "execution": {
     "iopub.execute_input": "2024-06-01T13:17:01.414677Z",
     "iopub.status.busy": "2024-06-01T13:17:01.414236Z",
     "iopub.status.idle": "2024-06-01T13:17:01.431913Z",
     "shell.execute_reply": "2024-06-01T13:17:01.430628Z"
    },
    "papermill": {
     "duration": 0.049038,
     "end_time": "2024-06-01T13:17:01.434561",
     "exception": false,
     "start_time": "2024-06-01T13:17:01.385523",
     "status": "completed"
    },
    "tags": []
   },
   "outputs": [],
   "source": [
    "from sklearn.model_selection import train_test_split\n",
    "\n",
    "\n",
    "X_temp, X_test, y_temp, y_test = train_test_split(train_bgw, y_bgw, test_size=0.2, random_state=0)\n"
   ]
  },
  {
   "cell_type": "code",
   "execution_count": 50,
   "id": "832b429c",
   "metadata": {
    "execution": {
     "iopub.execute_input": "2024-06-01T13:17:01.491850Z",
     "iopub.status.busy": "2024-06-01T13:17:01.490559Z",
     "iopub.status.idle": "2024-06-01T13:17:01.497588Z",
     "shell.execute_reply": "2024-06-01T13:17:01.496548Z"
    },
    "papermill": {
     "duration": 0.037588,
     "end_time": "2024-06-01T13:17:01.500017",
     "exception": false,
     "start_time": "2024-06-01T13:17:01.462429",
     "status": "completed"
    },
    "tags": []
   },
   "outputs": [
    {
     "data": {
      "text/plain": [
       "((8232, 2), (32925, 2), 8232, 32925)"
      ]
     },
     "execution_count": 50,
     "metadata": {},
     "output_type": "execute_result"
    }
   ],
   "source": [
    "X_test.shape, X_temp.shape, len(y_test), len(y_temp)\n"
   ]
  },
  {
   "cell_type": "code",
   "execution_count": 51,
   "id": "3d2ddebe",
   "metadata": {
    "execution": {
     "iopub.execute_input": "2024-06-01T13:17:01.556461Z",
     "iopub.status.busy": "2024-06-01T13:17:01.555448Z",
     "iopub.status.idle": "2024-06-01T13:17:01.562236Z",
     "shell.execute_reply": "2024-06-01T13:17:01.560924Z"
    },
    "papermill": {
     "duration": 0.037528,
     "end_time": "2024-06-01T13:17:01.564723",
     "exception": false,
     "start_time": "2024-06-01T13:17:01.527195",
     "status": "completed"
    },
    "tags": []
   },
   "outputs": [],
   "source": [
    "X_temp['label'] = y_temp\n"
   ]
  },
  {
   "cell_type": "code",
   "execution_count": 52,
   "id": "23a566e1",
   "metadata": {
    "execution": {
     "iopub.execute_input": "2024-06-01T13:17:01.621136Z",
     "iopub.status.busy": "2024-06-01T13:17:01.620766Z",
     "iopub.status.idle": "2024-06-01T13:17:01.631612Z",
     "shell.execute_reply": "2024-06-01T13:17:01.630341Z"
    },
    "papermill": {
     "duration": 0.042333,
     "end_time": "2024-06-01T13:17:01.634146",
     "exception": false,
     "start_time": "2024-06-01T13:17:01.591813",
     "status": "completed"
    },
    "tags": []
   },
   "outputs": [
    {
     "data": {
      "text/html": [
       "<div>\n",
       "<style scoped>\n",
       "    .dataframe tbody tr th:only-of-type {\n",
       "        vertical-align: middle;\n",
       "    }\n",
       "\n",
       "    .dataframe tbody tr th {\n",
       "        vertical-align: top;\n",
       "    }\n",
       "\n",
       "    .dataframe thead th {\n",
       "        text-align: right;\n",
       "    }\n",
       "</style>\n",
       "<table border=\"1\" class=\"dataframe\">\n",
       "  <thead>\n",
       "    <tr style=\"text-align: right;\">\n",
       "      <th></th>\n",
       "      <th>OriginalTweet</th>\n",
       "      <th>Sentiment</th>\n",
       "      <th>label</th>\n",
       "    </tr>\n",
       "  </thead>\n",
       "  <tbody>\n",
       "    <tr>\n",
       "      <th>26225</th>\n",
       "      <td>world could soon run space store oil may plung...</td>\n",
       "      <td>Negative</td>\n",
       "      <td>Negative</td>\n",
       "    </tr>\n",
       "    <tr>\n",
       "      <th>23163</th>\n",
       "      <td>stay safe indoor familyâ medic deliv offer lo...</td>\n",
       "      <td>Positive</td>\n",
       "      <td>Positive</td>\n",
       "    </tr>\n",
       "    <tr>\n",
       "      <th>38100</th>\n",
       "      <td>ubiquit latex plexiglass barrier forc tape sup...</td>\n",
       "      <td>Negative</td>\n",
       "      <td>Negative</td>\n",
       "    </tr>\n",
       "    <tr>\n",
       "      <th>22569</th>\n",
       "      <td>check new blog post httpstconfogpcufp7</td>\n",
       "      <td>Positive</td>\n",
       "      <td>Positive</td>\n",
       "    </tr>\n",
       "    <tr>\n",
       "      <th>7883</th>\n",
       "      <td>billionair jack maâ foundat donat mask test k...</td>\n",
       "      <td>Positive</td>\n",
       "      <td>Positive</td>\n",
       "    </tr>\n",
       "  </tbody>\n",
       "</table>\n",
       "</div>"
      ],
      "text/plain": [
       "                                           OriginalTweet Sentiment     label\n",
       "26225  world could soon run space store oil may plung...  Negative  Negative\n",
       "23163  stay safe indoor familyâ medic deliv offer lo...  Positive  Positive\n",
       "38100  ubiquit latex plexiglass barrier forc tape sup...  Negative  Negative\n",
       "22569             check new blog post httpstconfogpcufp7  Positive  Positive\n",
       "7883   billionair jack maâ foundat donat mask test k...  Positive  Positive"
      ]
     },
     "execution_count": 52,
     "metadata": {},
     "output_type": "execute_result"
    }
   ],
   "source": [
    "X_temp.head()"
   ]
  },
  {
   "cell_type": "code",
   "execution_count": 53,
   "id": "d42aadde",
   "metadata": {
    "execution": {
     "iopub.execute_input": "2024-06-01T13:17:01.690910Z",
     "iopub.status.busy": "2024-06-01T13:17:01.690464Z",
     "iopub.status.idle": "2024-06-01T13:17:01.701872Z",
     "shell.execute_reply": "2024-06-01T13:17:01.700739Z"
    },
    "papermill": {
     "duration": 0.042675,
     "end_time": "2024-06-01T13:17:01.704135",
     "exception": false,
     "start_time": "2024-06-01T13:17:01.661460",
     "status": "completed"
    },
    "tags": []
   },
   "outputs": [
    {
     "data": {
      "text/html": [
       "<div>\n",
       "<style scoped>\n",
       "    .dataframe tbody tr th:only-of-type {\n",
       "        vertical-align: middle;\n",
       "    }\n",
       "\n",
       "    .dataframe tbody tr th {\n",
       "        vertical-align: top;\n",
       "    }\n",
       "\n",
       "    .dataframe thead th {\n",
       "        text-align: right;\n",
       "    }\n",
       "</style>\n",
       "<table border=\"1\" class=\"dataframe\">\n",
       "  <thead>\n",
       "    <tr style=\"text-align: right;\">\n",
       "      <th></th>\n",
       "      <th>OriginalTweet</th>\n",
       "      <th>Sentiment</th>\n",
       "      <th>label</th>\n",
       "    </tr>\n",
       "  </thead>\n",
       "  <tbody>\n",
       "    <tr>\n",
       "      <th>26225</th>\n",
       "      <td>world could soon run space store oil may plung...</td>\n",
       "      <td>Negative</td>\n",
       "      <td>Negative</td>\n",
       "    </tr>\n",
       "    <tr>\n",
       "      <th>23163</th>\n",
       "      <td>stay safe indoor familyâ medic deliv offer lo...</td>\n",
       "      <td>Positive</td>\n",
       "      <td>Positive</td>\n",
       "    </tr>\n",
       "    <tr>\n",
       "      <th>38100</th>\n",
       "      <td>ubiquit latex plexiglass barrier forc tape sup...</td>\n",
       "      <td>Negative</td>\n",
       "      <td>Negative</td>\n",
       "    </tr>\n",
       "    <tr>\n",
       "      <th>22569</th>\n",
       "      <td>check new blog post httpstconfogpcufp7</td>\n",
       "      <td>Positive</td>\n",
       "      <td>Positive</td>\n",
       "    </tr>\n",
       "    <tr>\n",
       "      <th>7883</th>\n",
       "      <td>billionair jack maâ foundat donat mask test k...</td>\n",
       "      <td>Positive</td>\n",
       "      <td>Positive</td>\n",
       "    </tr>\n",
       "  </tbody>\n",
       "</table>\n",
       "</div>"
      ],
      "text/plain": [
       "                                           OriginalTweet Sentiment     label\n",
       "26225  world could soon run space store oil may plung...  Negative  Negative\n",
       "23163  stay safe indoor familyâ medic deliv offer lo...  Positive  Positive\n",
       "38100  ubiquit latex plexiglass barrier forc tape sup...  Negative  Negative\n",
       "22569             check new blog post httpstconfogpcufp7  Positive  Positive\n",
       "7883   billionair jack maâ foundat donat mask test k...  Positive  Positive"
      ]
     },
     "execution_count": 53,
     "metadata": {},
     "output_type": "execute_result"
    }
   ],
   "source": [
    "X_temp.head()"
   ]
  },
  {
   "cell_type": "code",
   "execution_count": 54,
   "id": "778a6ff1",
   "metadata": {
    "execution": {
     "iopub.execute_input": "2024-06-01T13:17:01.761281Z",
     "iopub.status.busy": "2024-06-01T13:17:01.760511Z",
     "iopub.status.idle": "2024-06-01T13:17:01.781749Z",
     "shell.execute_reply": "2024-06-01T13:17:01.780437Z"
    },
    "papermill": {
     "duration": 0.05282,
     "end_time": "2024-06-01T13:17:01.784394",
     "exception": false,
     "start_time": "2024-06-01T13:17:01.731574",
     "status": "completed"
    },
    "tags": []
   },
   "outputs": [
    {
     "data": {
      "text/plain": [
       "(20514, 12411)"
      ]
     },
     "execution_count": 54,
     "metadata": {},
     "output_type": "execute_result"
    }
   ],
   "source": [
    "Positive = X_temp[X_temp['label'] == 'Positive']\n",
    "Negative = X_temp[X_temp['label'] == 'Negative']\n",
    "\n",
    "Positive.shape[0], Negative.shape[0]"
   ]
  },
  {
   "cell_type": "code",
   "execution_count": 55,
   "id": "e814b3cc",
   "metadata": {
    "execution": {
     "iopub.execute_input": "2024-06-01T13:17:01.841951Z",
     "iopub.status.busy": "2024-06-01T13:17:01.841542Z",
     "iopub.status.idle": "2024-06-01T13:17:01.850262Z",
     "shell.execute_reply": "2024-06-01T13:17:01.849292Z"
    },
    "papermill": {
     "duration": 0.0405,
     "end_time": "2024-06-01T13:17:01.852759",
     "exception": false,
     "start_time": "2024-06-01T13:17:01.812259",
     "status": "completed"
    },
    "tags": []
   },
   "outputs": [
    {
     "data": {
      "text/plain": [
       "(8232, 3)"
      ]
     },
     "execution_count": 55,
     "metadata": {},
     "output_type": "execute_result"
    }
   ],
   "source": [
    "testdf = X_test\n",
    "testdf['label'] = y_test\n",
    "testdf.shape"
   ]
  },
  {
   "cell_type": "code",
   "execution_count": 56,
   "id": "02f3de6c",
   "metadata": {
    "execution": {
     "iopub.execute_input": "2024-06-01T13:17:01.911469Z",
     "iopub.status.busy": "2024-06-01T13:17:01.911086Z",
     "iopub.status.idle": "2024-06-01T13:17:01.918298Z",
     "shell.execute_reply": "2024-06-01T13:17:01.916827Z"
    },
    "papermill": {
     "duration": 0.03928,
     "end_time": "2024-06-01T13:17:01.920639",
     "exception": false,
     "start_time": "2024-06-01T13:17:01.881359",
     "status": "completed"
    },
    "tags": []
   },
   "outputs": [],
   "source": [
    "ds = pd.concat([Positive, Negative], axis = 0)\n"
   ]
  },
  {
   "cell_type": "code",
   "execution_count": 57,
   "id": "653d9490",
   "metadata": {
    "execution": {
     "iopub.execute_input": "2024-06-01T13:17:01.978944Z",
     "iopub.status.busy": "2024-06-01T13:17:01.978567Z",
     "iopub.status.idle": "2024-06-01T13:17:01.990929Z",
     "shell.execute_reply": "2024-06-01T13:17:01.989795Z"
    },
    "papermill": {
     "duration": 0.044596,
     "end_time": "2024-06-01T13:17:01.993601",
     "exception": false,
     "start_time": "2024-06-01T13:17:01.949005",
     "status": "completed"
    },
    "tags": []
   },
   "outputs": [
    {
     "data": {
      "text/html": [
       "<div>\n",
       "<style scoped>\n",
       "    .dataframe tbody tr th:only-of-type {\n",
       "        vertical-align: middle;\n",
       "    }\n",
       "\n",
       "    .dataframe tbody tr th {\n",
       "        vertical-align: top;\n",
       "    }\n",
       "\n",
       "    .dataframe thead th {\n",
       "        text-align: right;\n",
       "    }\n",
       "</style>\n",
       "<table border=\"1\" class=\"dataframe\">\n",
       "  <thead>\n",
       "    <tr style=\"text-align: right;\">\n",
       "      <th></th>\n",
       "      <th>OriginalTweet</th>\n",
       "      <th>Sentiment</th>\n",
       "      <th>label</th>\n",
       "    </tr>\n",
       "  </thead>\n",
       "  <tbody>\n",
       "    <tr>\n",
       "      <th>23163</th>\n",
       "      <td>stay safe indoor familyâ medic deliv offer lo...</td>\n",
       "      <td>Positive</td>\n",
       "      <td>Positive</td>\n",
       "    </tr>\n",
       "    <tr>\n",
       "      <th>22569</th>\n",
       "      <td>check new blog post httpstconfogpcufp7</td>\n",
       "      <td>Positive</td>\n",
       "      <td>Positive</td>\n",
       "    </tr>\n",
       "    <tr>\n",
       "      <th>7883</th>\n",
       "      <td>billionair jack maâ foundat donat mask test k...</td>\n",
       "      <td>Positive</td>\n",
       "      <td>Positive</td>\n",
       "    </tr>\n",
       "    <tr>\n",
       "      <th>36543</th>\n",
       "      <td>know amaz effort thi advers httpstcowvvydjcu20</td>\n",
       "      <td>Positive</td>\n",
       "      <td>Positive</td>\n",
       "    </tr>\n",
       "    <tr>\n",
       "      <th>13620</th>\n",
       "      <td>thank groceri store worker dont know</td>\n",
       "      <td>Positive</td>\n",
       "      <td>Positive</td>\n",
       "    </tr>\n",
       "    <tr>\n",
       "      <th>...</th>\n",
       "      <td>...</td>\n",
       "      <td>...</td>\n",
       "      <td>...</td>\n",
       "    </tr>\n",
       "    <tr>\n",
       "      <th>27257</th>\n",
       "      <td>know disgust groceri store rais price milk egg...</td>\n",
       "      <td>Negative</td>\n",
       "      <td>Negative</td>\n",
       "    </tr>\n",
       "    <tr>\n",
       "      <th>15973</th>\n",
       "      <td>stop hoard u r caus problem 4peopl canât get ...</td>\n",
       "      <td>Negative</td>\n",
       "      <td>Negative</td>\n",
       "    </tr>\n",
       "    <tr>\n",
       "      <th>13897</th>\n",
       "      <td>dane solv supermarket price sanit 1x 5dkk 2x 1...</td>\n",
       "      <td>Negative</td>\n",
       "      <td>Negative</td>\n",
       "    </tr>\n",
       "    <tr>\n",
       "      <th>38713</th>\n",
       "      <td>linger air longer previous thought scientist w...</td>\n",
       "      <td>Negative</td>\n",
       "      <td>Negative</td>\n",
       "    </tr>\n",
       "    <tr>\n",
       "      <th>40730</th>\n",
       "      <td>punish us sanction reimpos 2018 target iran cr...</td>\n",
       "      <td>Negative</td>\n",
       "      <td>Negative</td>\n",
       "    </tr>\n",
       "  </tbody>\n",
       "</table>\n",
       "<p>32925 rows × 3 columns</p>\n",
       "</div>"
      ],
      "text/plain": [
       "                                           OriginalTweet Sentiment     label\n",
       "23163  stay safe indoor familyâ medic deliv offer lo...  Positive  Positive\n",
       "22569             check new blog post httpstconfogpcufp7  Positive  Positive\n",
       "7883   billionair jack maâ foundat donat mask test k...  Positive  Positive\n",
       "36543     know amaz effort thi advers httpstcowvvydjcu20  Positive  Positive\n",
       "13620               thank groceri store worker dont know  Positive  Positive\n",
       "...                                                  ...       ...       ...\n",
       "27257  know disgust groceri store rais price milk egg...  Negative  Negative\n",
       "15973  stop hoard u r caus problem 4peopl canât get ...  Negative  Negative\n",
       "13897  dane solv supermarket price sanit 1x 5dkk 2x 1...  Negative  Negative\n",
       "38713  linger air longer previous thought scientist w...  Negative  Negative\n",
       "40730  punish us sanction reimpos 2018 target iran cr...  Negative  Negative\n",
       "\n",
       "[32925 rows x 3 columns]"
      ]
     },
     "execution_count": 57,
     "metadata": {},
     "output_type": "execute_result"
    }
   ],
   "source": [
    "ds"
   ]
  },
  {
   "cell_type": "code",
   "execution_count": 58,
   "id": "28f4f350",
   "metadata": {
    "execution": {
     "iopub.execute_input": "2024-06-01T13:17:02.051755Z",
     "iopub.status.busy": "2024-06-01T13:17:02.051345Z",
     "iopub.status.idle": "2024-06-01T13:17:03.423801Z",
     "shell.execute_reply": "2024-06-01T13:17:03.422415Z"
    },
    "papermill": {
     "duration": 1.404461,
     "end_time": "2024-06-01T13:17:03.426449",
     "exception": false,
     "start_time": "2024-06-01T13:17:02.021988",
     "status": "completed"
    },
    "tags": []
   },
   "outputs": [],
   "source": [
    "corpus = []\n",
    "for i in range(ds.shape[0]):\n",
    "    corpus.append(ds.iloc[i][0])"
   ]
  },
  {
   "cell_type": "code",
   "execution_count": 59,
   "id": "e8342e53",
   "metadata": {
    "execution": {
     "iopub.execute_input": "2024-06-01T13:17:03.485005Z",
     "iopub.status.busy": "2024-06-01T13:17:03.484610Z",
     "iopub.status.idle": "2024-06-01T13:17:04.423424Z",
     "shell.execute_reply": "2024-06-01T13:17:04.421973Z"
    },
    "papermill": {
     "duration": 0.971601,
     "end_time": "2024-06-01T13:17:04.426705",
     "exception": false,
     "start_time": "2024-06-01T13:17:03.455104",
     "status": "completed"
    },
    "tags": []
   },
   "outputs": [],
   "source": [
    "vectorizer_train = CountVectorizer(max_features=1000)\n",
    "vocabulary_train = vectorizer_train.fit_transform(corpus)\n",
    "bow = pd.DataFrame(vocabulary_train.toarray(), columns = vectorizer_train.get_feature_names_out())"
   ]
  },
  {
   "cell_type": "code",
   "execution_count": 60,
   "id": "b46b75b9",
   "metadata": {
    "execution": {
     "iopub.execute_input": "2024-06-01T13:17:04.488679Z",
     "iopub.status.busy": "2024-06-01T13:17:04.488281Z",
     "iopub.status.idle": "2024-06-01T13:17:04.499502Z",
     "shell.execute_reply": "2024-06-01T13:17:04.498259Z"
    },
    "papermill": {
     "duration": 0.045558,
     "end_time": "2024-06-01T13:17:04.502272",
     "exception": false,
     "start_time": "2024-06-01T13:17:04.456714",
     "status": "completed"
    },
    "tags": []
   },
   "outputs": [],
   "source": [
    "bow['labelxyz'] = list(ds.label)"
   ]
  },
  {
   "cell_type": "code",
   "execution_count": 61,
   "id": "3ff6a963",
   "metadata": {
    "execution": {
     "iopub.execute_input": "2024-06-01T13:17:04.563416Z",
     "iopub.status.busy": "2024-06-01T13:17:04.562384Z",
     "iopub.status.idle": "2024-06-01T13:17:05.094200Z",
     "shell.execute_reply": "2024-06-01T13:17:05.092952Z"
    },
    "papermill": {
     "duration": 0.565229,
     "end_time": "2024-06-01T13:17:05.096808",
     "exception": false,
     "start_time": "2024-06-01T13:17:04.531579",
     "status": "completed"
    },
    "tags": []
   },
   "outputs": [],
   "source": [
    "bow_positive = bow[bow.labelxyz == 'Positive']\n",
    "bow_negative = bow[bow.labelxyz == 'Negative']\n",
    "bow_neutral = bow[bow.labelxyz == 'Neutral']\n",
    "\n",
    "X_train_positive = bow_positive.sample(frac=0.8, random_state=0)\n",
    "X_test_positive = bow_positive.drop(X_train_positive.index)\n",
    "X_train_negative = bow_negative.sample(frac=0.8, random_state=0)\n",
    "X_test_negative = bow_negative.drop(X_train_negative.index)\n",
    "X_train_neutral = bow_neutral.sample(frac=0.8, random_state=0)\n",
    "X_test_neutral = bow_neutral.drop(X_train_neutral.index)\n",
    "\n",
    "\n",
    "X_train_df = pd.concat([X_train_positive, X_train_negative, X_train_neutral], axis = 0)\n",
    "bow_train = X_train_df.drop(['labelxyz'], axis = 1)\n",
    "y_train = list(X_train_df.labelxyz)\n",
    "X_test_df = pd.concat([X_test_positive, X_test_negative, X_test_neutral], axis = 0)\n",
    "bow_test = X_test_df.drop(['labelxyz'], axis = 1)\n",
    "y_test = list(X_test_df.labelxyz)"
   ]
  },
  {
   "cell_type": "code",
   "execution_count": 62,
   "id": "75256070",
   "metadata": {
    "execution": {
     "iopub.execute_input": "2024-06-01T13:17:05.156176Z",
     "iopub.status.busy": "2024-06-01T13:17:05.155456Z",
     "iopub.status.idle": "2024-06-01T13:17:05.161000Z",
     "shell.execute_reply": "2024-06-01T13:17:05.159774Z"
    },
    "papermill": {
     "duration": 0.037787,
     "end_time": "2024-06-01T13:17:05.163556",
     "exception": false,
     "start_time": "2024-06-01T13:17:05.125769",
     "status": "completed"
    },
    "tags": []
   },
   "outputs": [],
   "source": [
    "model = ['LR','RF','DT','KN','GB']\n",
    "accuracy = {'BOW':[]}"
   ]
  },
  {
   "cell_type": "markdown",
   "id": "123844b3",
   "metadata": {
    "papermill": {
     "duration": 0.027664,
     "end_time": "2024-06-01T13:17:05.219911",
     "exception": false,
     "start_time": "2024-06-01T13:17:05.192247",
     "status": "completed"
    },
    "tags": []
   },
   "source": [
    "# Models"
   ]
  },
  {
   "cell_type": "markdown",
   "id": "204737e4",
   "metadata": {
    "papermill": {
     "duration": 0.029404,
     "end_time": "2024-06-01T13:17:05.277253",
     "exception": false,
     "start_time": "2024-06-01T13:17:05.247849",
     "status": "completed"
    },
    "tags": []
   },
   "source": [
    "## Logistic Regression"
   ]
  },
  {
   "cell_type": "code",
   "execution_count": 63,
   "id": "43ffec4e",
   "metadata": {
    "execution": {
     "iopub.execute_input": "2024-06-01T13:17:05.336247Z",
     "iopub.status.busy": "2024-06-01T13:17:05.335330Z",
     "iopub.status.idle": "2024-06-01T13:17:06.168906Z",
     "shell.execute_reply": "2024-06-01T13:17:06.167713Z"
    },
    "papermill": {
     "duration": 0.866816,
     "end_time": "2024-06-01T13:17:06.172180",
     "exception": false,
     "start_time": "2024-06-01T13:17:05.305364",
     "status": "completed"
    },
    "tags": []
   },
   "outputs": [
    {
     "name": "stdout",
     "output_type": "stream",
     "text": [
      "0.8223234624145785\n"
     ]
    }
   ],
   "source": [
    "regressor_LR_bow = LogisticRegression(C= 1.0, penalty='l2', solver= 'liblinear')\n",
    "regressor_LR_bow.fit(bow_train,y_train)\n",
    "y_predict_LR_bow = regressor_LR_bow.predict(bow_test)\n",
    "a=(regressor_LR_bow.score(bow_test,y_test))\n",
    "accuracy['BOW'].append(a)\n",
    "\n",
    "print(metrics.accuracy_score(y_test, y_predict_LR_bow))"
   ]
  },
  {
   "cell_type": "markdown",
   "id": "9e5e8870",
   "metadata": {
    "papermill": {
     "duration": 0.043848,
     "end_time": "2024-06-01T13:17:06.268878",
     "exception": false,
     "start_time": "2024-06-01T13:17:06.225030",
     "status": "completed"
    },
    "tags": []
   },
   "source": [
    "# **Decision Tree**"
   ]
  },
  {
   "cell_type": "code",
   "execution_count": 64,
   "id": "6f62fb06",
   "metadata": {
    "execution": {
     "iopub.execute_input": "2024-06-01T13:17:06.327962Z",
     "iopub.status.busy": "2024-06-01T13:17:06.327540Z",
     "iopub.status.idle": "2024-06-01T13:17:06.704075Z",
     "shell.execute_reply": "2024-06-01T13:17:06.702660Z"
    },
    "papermill": {
     "duration": 0.408523,
     "end_time": "2024-06-01T13:17:06.706750",
     "exception": false,
     "start_time": "2024-06-01T13:17:06.298227",
     "status": "completed"
    },
    "tags": []
   },
   "outputs": [
    {
     "name": "stdout",
     "output_type": "stream",
     "text": [
      "0.6772968868640851\n"
     ]
    }
   ],
   "source": [
    "model_DT_bow = DecisionTreeClassifier(criterion= 'gini', max_depth= 2) \n",
    "model_DT_bow.fit(bow_train,y_train)\n",
    "y_predict_DT_bow = model_DT_bow.predict(bow_test)\n",
    "a=(model_DT_bow.score(bow_test,y_test))\n",
    "accuracy['BOW'].append(a)\n",
    "\n",
    "print(metrics.accuracy_score(y_test, y_predict_DT_bow))"
   ]
  },
  {
   "cell_type": "markdown",
   "id": "2a0310e8",
   "metadata": {
    "papermill": {
     "duration": 0.027652,
     "end_time": "2024-06-01T13:17:06.762357",
     "exception": false,
     "start_time": "2024-06-01T13:17:06.734705",
     "status": "completed"
    },
    "tags": []
   },
   "source": [
    "# **Gradient Boosting**"
   ]
  },
  {
   "cell_type": "code",
   "execution_count": 65,
   "id": "eda54af9",
   "metadata": {
    "execution": {
     "iopub.execute_input": "2024-06-01T13:17:06.821927Z",
     "iopub.status.busy": "2024-06-01T13:17:06.820989Z",
     "iopub.status.idle": "2024-06-01T13:17:38.953781Z",
     "shell.execute_reply": "2024-06-01T13:17:38.952402Z"
    },
    "papermill": {
     "duration": 32.191588,
     "end_time": "2024-06-01T13:17:38.983393",
     "exception": false,
     "start_time": "2024-06-01T13:17:06.791805",
     "status": "completed"
    },
    "tags": []
   },
   "outputs": [
    {
     "name": "stdout",
     "output_type": "stream",
     "text": [
      "0.7491268033409263\n"
     ]
    }
   ],
   "source": [
    "model_GB_bow = GradientBoostingClassifier(learning_rate= 0.1, max_depth= 3, n_estimators= 100, subsample= 1.0)\n",
    "model_GB_bow.fit(bow_train,y_train)\n",
    "y_predict_GB_bow = model_GB_bow.predict(bow_test)\n",
    "a=(model_GB_bow.score(bow_test,y_test))\n",
    "accuracy['BOW'].append(a)\n",
    "\n",
    "print(metrics.accuracy_score(y_test, y_predict_GB_bow))"
   ]
  },
  {
   "cell_type": "markdown",
   "id": "c6e5cc36",
   "metadata": {
    "papermill": {
     "duration": 0.028246,
     "end_time": "2024-06-01T13:17:39.039508",
     "exception": false,
     "start_time": "2024-06-01T13:17:39.011262",
     "status": "completed"
    },
    "tags": []
   },
   "source": [
    "## Random Forest"
   ]
  },
  {
   "cell_type": "code",
   "execution_count": 66,
   "id": "c38a839b",
   "metadata": {
    "execution": {
     "iopub.execute_input": "2024-06-01T13:17:39.099389Z",
     "iopub.status.busy": "2024-06-01T13:17:39.098302Z",
     "iopub.status.idle": "2024-06-01T13:24:46.821182Z",
     "shell.execute_reply": "2024-06-01T13:24:46.820105Z"
    },
    "papermill": {
     "duration": 427.784641,
     "end_time": "2024-06-01T13:24:46.851889",
     "exception": false,
     "start_time": "2024-06-01T13:17:39.067248",
     "status": "completed"
    },
    "tags": []
   },
   "outputs": [
    {
     "name": "stdout",
     "output_type": "stream",
     "text": [
      "0.8069855732725892\n"
     ]
    }
   ],
   "source": [
    "model_RF_bow = RandomForestClassifier(max_features='sqrt', n_estimators= 1000)\n",
    "model_RF_bow.fit(bow_train,y_train)\n",
    "y_predict_RF_bow = model_RF_bow.predict(bow_test)\n",
    "a=(model_RF_bow.score(bow_test,y_test))\n",
    "accuracy['BOW'].append(a)\n",
    "\n",
    "print(metrics.accuracy_score(y_test, y_predict_RF_bow))"
   ]
  },
  {
   "cell_type": "markdown",
   "id": "6b203ef3",
   "metadata": {
    "papermill": {
     "duration": 0.028202,
     "end_time": "2024-06-01T13:24:46.908095",
     "exception": false,
     "start_time": "2024-06-01T13:24:46.879893",
     "status": "completed"
    },
    "tags": []
   },
   "source": [
    "## K Neighbours"
   ]
  },
  {
   "cell_type": "code",
   "execution_count": 67,
   "id": "dfb3c932",
   "metadata": {
    "execution": {
     "iopub.execute_input": "2024-06-01T13:24:47.035137Z",
     "iopub.status.busy": "2024-06-01T13:24:47.034631Z",
     "iopub.status.idle": "2024-06-01T13:25:05.375555Z",
     "shell.execute_reply": "2024-06-01T13:25:05.374374Z"
    },
    "papermill": {
     "duration": 18.44122,
     "end_time": "2024-06-01T13:25:05.378232",
     "exception": false,
     "start_time": "2024-06-01T13:24:46.937012",
     "status": "completed"
    },
    "tags": []
   },
   "outputs": [
    {
     "name": "stdout",
     "output_type": "stream",
     "text": [
      "0.6660592255125285\n"
     ]
    }
   ],
   "source": [
    "model_KN_bow = KNeighborsClassifier(metric= 'euclidean', n_neighbors= 19, weights= 'distance') \n",
    "model_KN_bow.fit(bow_train,y_train)\n",
    "y_predict_KN_bow = model_KN_bow.predict(bow_test)\n",
    "a=(model_KN_bow.score(bow_test,y_test))\n",
    "accuracy['BOW'].append(a)\n",
    "\n",
    "print(metrics.accuracy_score(y_test, y_predict_KN_bow))"
   ]
  },
  {
   "cell_type": "markdown",
   "id": "2c4a68dc",
   "metadata": {
    "papermill": {
     "duration": 0.027649,
     "end_time": "2024-06-01T13:25:05.433785",
     "exception": false,
     "start_time": "2024-06-01T13:25:05.406136",
     "status": "completed"
    },
    "tags": []
   },
   "source": [
    "## Evaluation"
   ]
  },
  {
   "cell_type": "code",
   "execution_count": 68,
   "id": "d53c3f4f",
   "metadata": {
    "execution": {
     "iopub.execute_input": "2024-06-01T13:25:05.492661Z",
     "iopub.status.busy": "2024-06-01T13:25:05.492016Z",
     "iopub.status.idle": "2024-06-01T13:25:05.503750Z",
     "shell.execute_reply": "2024-06-01T13:25:05.502573Z"
    },
    "papermill": {
     "duration": 0.043961,
     "end_time": "2024-06-01T13:25:05.506155",
     "exception": false,
     "start_time": "2024-06-01T13:25:05.462194",
     "status": "completed"
    },
    "tags": []
   },
   "outputs": [
    {
     "data": {
      "text/html": [
       "<div>\n",
       "<style scoped>\n",
       "    .dataframe tbody tr th:only-of-type {\n",
       "        vertical-align: middle;\n",
       "    }\n",
       "\n",
       "    .dataframe tbody tr th {\n",
       "        vertical-align: top;\n",
       "    }\n",
       "\n",
       "    .dataframe thead th {\n",
       "        text-align: right;\n",
       "    }\n",
       "</style>\n",
       "<table border=\"1\" class=\"dataframe\">\n",
       "  <thead>\n",
       "    <tr style=\"text-align: right;\">\n",
       "      <th></th>\n",
       "      <th>model</th>\n",
       "      <th>accuracy</th>\n",
       "    </tr>\n",
       "  </thead>\n",
       "  <tbody>\n",
       "    <tr>\n",
       "      <th>0</th>\n",
       "      <td>LR</td>\n",
       "      <td>0.822323</td>\n",
       "    </tr>\n",
       "    <tr>\n",
       "      <th>1</th>\n",
       "      <td>RF</td>\n",
       "      <td>0.677297</td>\n",
       "    </tr>\n",
       "    <tr>\n",
       "      <th>2</th>\n",
       "      <td>DT</td>\n",
       "      <td>0.749127</td>\n",
       "    </tr>\n",
       "    <tr>\n",
       "      <th>3</th>\n",
       "      <td>KN</td>\n",
       "      <td>0.806986</td>\n",
       "    </tr>\n",
       "    <tr>\n",
       "      <th>4</th>\n",
       "      <td>GB</td>\n",
       "      <td>0.666059</td>\n",
       "    </tr>\n",
       "  </tbody>\n",
       "</table>\n",
       "</div>"
      ],
      "text/plain": [
       "  model  accuracy\n",
       "0    LR  0.822323\n",
       "1    RF  0.677297\n",
       "2    DT  0.749127\n",
       "3    KN  0.806986\n",
       "4    GB  0.666059"
      ]
     },
     "execution_count": 68,
     "metadata": {},
     "output_type": "execute_result"
    }
   ],
   "source": [
    "data_bow = {'model':model,'accuracy':accuracy['BOW']}\n",
    "compare_models_bow = pd.DataFrame(data_bow)\n",
    "compare_models_bow"
   ]
  },
  {
   "cell_type": "code",
   "execution_count": 69,
   "id": "a2f520ea",
   "metadata": {
    "execution": {
     "iopub.execute_input": "2024-06-01T13:25:05.565670Z",
     "iopub.status.busy": "2024-06-01T13:25:05.565240Z",
     "iopub.status.idle": "2024-06-01T13:25:06.207106Z",
     "shell.execute_reply": "2024-06-01T13:25:06.205495Z"
    },
    "papermill": {
     "duration": 0.676112,
     "end_time": "2024-06-01T13:25:06.210820",
     "exception": false,
     "start_time": "2024-06-01T13:25:05.534708",
     "status": "completed"
    },
    "tags": []
   },
   "outputs": [
    {
     "data": {
      "image/png": "[encoded data removed]",
      "text/plain": [
       "<Figure size 800x500 with 1 Axes>"
      ]
     },
     "metadata": {},
     "output_type": "display_data"
    }
   ],
   "source": [
    "x, y = compare_models_bow['model'],compare_models_bow['accuracy']\n",
    "ind = np.arange(len(y))\n",
    "fig, ax = plt.subplots(figsize=(8,5))\n",
    "ax.bar(ind, y)\n",
    "ax.set_xticks(ind)\n",
    "ax.set_xticklabels(x)\n",
    "ax.bar_label(ax.containers[0])\n",
    "ax.tick_params(axis='both', which='major', labelsize=16)\n",
    "ax.tick_params(axis='both', which='minor', labelsize=12)\n",
    "plt.show()\n",
    "fig.savefig('Comparision of Models, BoW.pdf', format='pdf')"
   ]
  },
  {
   "cell_type": "code",
   "execution_count": 70,
   "id": "debcd3bc",
   "metadata": {
    "execution": {
     "iopub.execute_input": "2024-06-01T13:25:06.289896Z",
     "iopub.status.busy": "2024-06-01T13:25:06.289042Z",
     "iopub.status.idle": "2024-06-01T13:25:06.585918Z",
     "shell.execute_reply": "2024-06-01T13:25:06.584926Z"
    },
    "papermill": {
     "duration": 0.331772,
     "end_time": "2024-06-01T13:25:06.588151",
     "exception": false,
     "start_time": "2024-06-01T13:25:06.256379",
     "status": "completed"
    },
    "tags": []
   },
   "outputs": [
    {
     "data": {
      "image/png": "[encoded data removed]",
      "text/plain": [
       "<Figure size 1000x600 with 1 Axes>"
      ]
     },
     "metadata": {},
     "output_type": "display_data"
    }
   ],
   "source": [
    "import matplotlib.pyplot as plt\n",
    "import numpy as np\n",
    "\n",
    "model = ['Logistic Regression', 'Decision Trees', 'Gradient Boosting', 'Random Forest', 'KNN']\n",
    "position1 = np.arange(len(model)) * 1.5  # Increased spacing by multiplying by a factor\n",
    "position2 = [x + 0.4 for x in position1]  # Shifted by 0.6 for side-by-side placement\n",
    "\n",
    "# Create the figure and axes\n",
    "fig, ax = plt.subplots(figsize=(10, 6))  # Correct way to set figsize\n",
    "\n",
    "accuracy_tfidf = [0.826, 0.69, 0.76, 0.81, 0.67]  # Accuracy for tfidf\n",
    "accuracy_bow = [0.823, 0.67, 0.74, 0.80, 0.66]    # Accuracy for bow\n",
    "\n",
    "# Plot the bars\n",
    "ax.bar(position1, accuracy_bow, width=0.5, label='BoW')  # Corrected the label\n",
    "ax.bar(position2, accuracy_tfidf, width=0.5, label='TF-IDF')\n",
    "\n",
    "# Set the x-axis tick positions and labels\n",
    "ax.set_xticks([p + 0.3 for p in position1])  # Centering the ticks\n",
    "ax.set_xticklabels(model, rotation=45, ha=\"right\")  # Rotating labels for better readability\n",
    "\n",
    "# Add data labels to the bars\n",
    "for i in range(len(model)):\n",
    "    ax.text(position1[i], accuracy_bow[i] + 0.01, f\"{accuracy_bow[i]:.2f}\", ha=\"center\")\n",
    "    ax.text(position2[i], accuracy_tfidf[i] + 0.01, f\"{accuracy_tfidf[i]:.2f}\", ha=\"center\")\n",
    "\n",
    "# Add legend\n",
    "ax.legend()\n",
    "\n",
    "# Display the plot\n",
    "plt.show()\n"
   ]
  },
  {
   "cell_type": "code",
   "execution_count": null,
   "id": "66115326",
   "metadata": {
    "papermill": {
     "duration": 0.031211,
     "end_time": "2024-06-01T13:25:06.649579",
     "exception": false,
     "start_time": "2024-06-01T13:25:06.618368",
     "status": "completed"
    },
    "tags": []
   },
   "outputs": [],
   "source": []
  }
 ],
 "metadata": {
  "kaggle": {
   "accelerator": "none",
   "dataSources": [
    {
     "datasetId": 863934,
     "sourceId": 1472453,
     "sourceType": "datasetVersion"
    }
   ],
   "dockerImageVersionId": 30497,
   "isGpuEnabled": false,
   "isInternetEnabled": true,
   "language": "python",
   "sourceType": "notebook"
  },
  "kernelspec": {
   "display_name": "Python 3",
   "language": "python",
   "name": "python3"
  },
  "language_info": {
   "codemirror_mode": {
    "name": "ipython",
    "version": 3
   },
   "file_extension": ".py",
   "mimetype": "text/x-python",
   "name": "python",
   "nbconvert_exporter": "python",
   "pygments_lexer": "ipython3",
   "version": "3.10.10"
  },
  "papermill": {
   "default_parameters": {},
   "duration": 995.56747,
   "end_time": "2024-06-01T13:25:08.909933",
   "environment_variables": {},
   "exception": null,
   "input_path": "__notebook__.ipynb",
   "output_path": "__notebook__.ipynb",
   "parameters": {},
   "start_time": "2024-06-01T13:08:33.342463",
   "version": "2.4.0"
  }
 },
 "nbformat": 4,
 "nbformat_minor": 5
}
