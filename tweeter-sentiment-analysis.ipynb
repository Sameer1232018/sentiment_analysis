{
 "cells": [
  {
   "cell_type": "raw",
   "id": "5cd25fed",
   "metadata": {
    "_cell_guid": "b1076dfc-b9ad-4769-8c92-a6c4dae69d19",
    "_uuid": "8f2839f25d086af736a60e9eeb907d3b93b6e0e5",
    "papermill": {
     "duration": 0.025724,
     "end_time": "2023-06-19T05:22:23.647687",
     "exception": false,
     "start_time": "2023-06-19T05:22:23.621963",
     "status": "completed"
    },
    "tags": []
   },
   "source": [
    "# This Python 3 environment comes with many helpful analytics libraries installed\n",
    "# It is defined by the kaggle/python Docker image: https://github.com/kaggle/docker-python\n",
    "# For example, here's several helpful packages to load\n",
    "\n",
    "import numpy as np # linear algebra\n",
    "import pandas as pd # data processing, CSV file I/O (e.g. pd.read_csv)\n",
    "\n",
    "# Input data files are available in the read-only \"../input/\" directory\n",
    "# For example, running this (by clicking run or pressing Shift+Enter) will list all files under the input directory\n",
    "\n",
    "import os\n",
    "for dirname, _, filenames in os.walk('/kaggle/input'):\n",
    "    for filename in filenames:\n",
    "        print(os.path.join(dirname, filename))\n",
    "\n",
    "# You can write up to 20GB to the current directory (/kaggle/working/) that gets preserved as output when you create a version using \"Save & Run All\" \n",
    "# You can also write temporary files to /kaggle/temp/, but they won't be saved outside of the current session"
   ]
  },
  {
   "cell_type": "markdown",
   "id": "3ff57f62",
   "metadata": {
    "papermill": {
     "duration": 0.024027,
     "end_time": "2023-06-19T05:22:23.697555",
     "exception": false,
     "start_time": "2023-06-19T05:22:23.673528",
     "status": "completed"
    },
    "tags": []
   },
   "source": [
    "# Import Libraries\n"
   ]
  },
  {
   "cell_type": "code",
   "execution_count": 1,
   "id": "b5832a39",
   "metadata": {
    "execution": {
     "iopub.execute_input": "2023-06-19T05:22:23.749335Z",
     "iopub.status.busy": "2023-06-19T05:22:23.748951Z",
     "iopub.status.idle": "2023-06-19T05:22:26.806429Z",
     "shell.execute_reply": "2023-06-19T05:22:26.805111Z"
    },
    "papermill": {
     "duration": 3.086893,
     "end_time": "2023-06-19T05:22:26.809372",
     "exception": false,
     "start_time": "2023-06-19T05:22:23.722479",
     "status": "completed"
    },
    "tags": []
   },
   "outputs": [],
   "source": [
    "import pandas as pd\n",
    "import numpy as np\n",
    "import csv\n",
    "import re \n",
    "import string\n",
    "from sklearn.model_selection import train_test_split\n",
    "from sklearn.feature_extraction.text import CountVectorizer\n",
    "from sklearn.feature_extraction.text import TfidfVectorizer\n",
    "import string\n",
    "from nltk.stem import PorterStemmer\n",
    "from nltk.corpus import stopwords\n",
    "\n",
    "from matplotlib import pyplot as plt\n",
    "import seaborn as sns\n",
    "\n",
    "from wordcloud import WordCloud\n",
    "\n",
    "\n",
    "from sklearn.linear_model import LogisticRegression\n",
    "from sklearn.naive_bayes import GaussianNB\n",
    "from sklearn.ensemble import RandomForestClassifier\n",
    "from sklearn.tree import DecisionTreeClassifier\n",
    "from sklearn.neighbors import KNeighborsClassifier\n",
    "from sklearn.ensemble import GradientBoostingClassifier\n",
    "\n",
    "from sklearn import metrics\n",
    "from sklearn.metrics import precision_score, recall_score, f1_score\n",
    "import seaborn as sns\n",
    "\n",
    "\n",
    "import warnings\n",
    "warnings.filterwarnings('ignore')"
   ]
  },
  {
   "cell_type": "code",
   "execution_count": 2,
   "id": "9a1f4a0f",
   "metadata": {
    "execution": {
     "iopub.execute_input": "2023-06-19T05:22:26.863321Z",
     "iopub.status.busy": "2023-06-19T05:22:26.862184Z",
     "iopub.status.idle": "2023-06-19T05:22:27.339963Z",
     "shell.execute_reply": "2023-06-19T05:22:27.338373Z"
    },
    "papermill": {
     "duration": 0.507398,
     "end_time": "2023-06-19T05:22:27.342729",
     "exception": false,
     "start_time": "2023-06-19T05:22:26.835331",
     "status": "completed"
    },
    "tags": []
   },
   "outputs": [],
   "source": [
    "train = pd.read_csv(\"/kaggle/input/covid-19-nlp-text-classification/Corona_NLP_train.csv\", encoding='latin-1')\n",
    "test = pd.read_csv(\"/kaggle/input/covid-19-nlp-text-classification/Corona_NLP_test.csv\", encoding='latin-1')"
   ]
  },
  {
   "cell_type": "code",
   "execution_count": 3,
   "id": "0beb9816",
   "metadata": {
    "execution": {
     "iopub.execute_input": "2023-06-19T05:22:27.394085Z",
     "iopub.status.busy": "2023-06-19T05:22:27.393542Z",
     "iopub.status.idle": "2023-06-19T05:22:27.427987Z",
     "shell.execute_reply": "2023-06-19T05:22:27.427074Z"
    },
    "papermill": {
     "duration": 0.063503,
     "end_time": "2023-06-19T05:22:27.430962",
     "exception": false,
     "start_time": "2023-06-19T05:22:27.367459",
     "status": "completed"
    },
    "tags": []
   },
   "outputs": [
    {
     "data": {
      "text/html": [
       "<div>\n",
       "<style scoped>\n",
       "    .dataframe tbody tr th:only-of-type {\n",
       "        vertical-align: middle;\n",
       "    }\n",
       "\n",
       "    .dataframe tbody tr th {\n",
       "        vertical-align: top;\n",
       "    }\n",
       "\n",
       "    .dataframe thead th {\n",
       "        text-align: right;\n",
       "    }\n",
       "</style>\n",
       "<table border=\"1\" class=\"dataframe\">\n",
       "  <thead>\n",
       "    <tr style=\"text-align: right;\">\n",
       "      <th></th>\n",
       "      <th>UserName</th>\n",
       "      <th>ScreenName</th>\n",
       "      <th>Location</th>\n",
       "      <th>TweetAt</th>\n",
       "      <th>OriginalTweet</th>\n",
       "      <th>Sentiment</th>\n",
       "    </tr>\n",
       "  </thead>\n",
       "  <tbody>\n",
       "    <tr>\n",
       "      <th>0</th>\n",
       "      <td>3799</td>\n",
       "      <td>48751</td>\n",
       "      <td>London</td>\n",
       "      <td>16-03-2020</td>\n",
       "      <td>@MeNyrbie @Phil_Gahan @Chrisitv https://t.co/i...</td>\n",
       "      <td>Neutral</td>\n",
       "    </tr>\n",
       "    <tr>\n",
       "      <th>1</th>\n",
       "      <td>3800</td>\n",
       "      <td>48752</td>\n",
       "      <td>UK</td>\n",
       "      <td>16-03-2020</td>\n",
       "      <td>advice Talk to your neighbours family to excha...</td>\n",
       "      <td>Positive</td>\n",
       "    </tr>\n",
       "    <tr>\n",
       "      <th>2</th>\n",
       "      <td>3801</td>\n",
       "      <td>48753</td>\n",
       "      <td>Vagabonds</td>\n",
       "      <td>16-03-2020</td>\n",
       "      <td>Coronavirus Australia: Woolworths to give elde...</td>\n",
       "      <td>Positive</td>\n",
       "    </tr>\n",
       "    <tr>\n",
       "      <th>3</th>\n",
       "      <td>3802</td>\n",
       "      <td>48754</td>\n",
       "      <td>NaN</td>\n",
       "      <td>16-03-2020</td>\n",
       "      <td>My food stock is not the only one which is emp...</td>\n",
       "      <td>Positive</td>\n",
       "    </tr>\n",
       "    <tr>\n",
       "      <th>4</th>\n",
       "      <td>3803</td>\n",
       "      <td>48755</td>\n",
       "      <td>NaN</td>\n",
       "      <td>16-03-2020</td>\n",
       "      <td>Me, ready to go at supermarket during the #COV...</td>\n",
       "      <td>Extremely Negative</td>\n",
       "    </tr>\n",
       "    <tr>\n",
       "      <th>5</th>\n",
       "      <td>3804</td>\n",
       "      <td>48756</td>\n",
       "      <td>ÃT: 36.319708,-82.363649</td>\n",
       "      <td>16-03-2020</td>\n",
       "      <td>As news of the regionÂs first confirmed COVID...</td>\n",
       "      <td>Positive</td>\n",
       "    </tr>\n",
       "    <tr>\n",
       "      <th>6</th>\n",
       "      <td>3805</td>\n",
       "      <td>48757</td>\n",
       "      <td>35.926541,-78.753267</td>\n",
       "      <td>16-03-2020</td>\n",
       "      <td>Cashier at grocery store was sharing his insig...</td>\n",
       "      <td>Positive</td>\n",
       "    </tr>\n",
       "    <tr>\n",
       "      <th>7</th>\n",
       "      <td>3806</td>\n",
       "      <td>48758</td>\n",
       "      <td>Austria</td>\n",
       "      <td>16-03-2020</td>\n",
       "      <td>Was at the supermarket today. Didn't buy toile...</td>\n",
       "      <td>Neutral</td>\n",
       "    </tr>\n",
       "    <tr>\n",
       "      <th>8</th>\n",
       "      <td>3807</td>\n",
       "      <td>48759</td>\n",
       "      <td>Atlanta, GA USA</td>\n",
       "      <td>16-03-2020</td>\n",
       "      <td>Due to COVID-19 our retail store and classroom...</td>\n",
       "      <td>Positive</td>\n",
       "    </tr>\n",
       "    <tr>\n",
       "      <th>9</th>\n",
       "      <td>3808</td>\n",
       "      <td>48760</td>\n",
       "      <td>BHAVNAGAR,GUJRAT</td>\n",
       "      <td>16-03-2020</td>\n",
       "      <td>For corona prevention,we should stop to buy th...</td>\n",
       "      <td>Negative</td>\n",
       "    </tr>\n",
       "  </tbody>\n",
       "</table>\n",
       "</div>"
      ],
      "text/plain": [
       "   UserName  ScreenName                   Location     TweetAt  \\\n",
       "0      3799       48751                     London  16-03-2020   \n",
       "1      3800       48752                         UK  16-03-2020   \n",
       "2      3801       48753                  Vagabonds  16-03-2020   \n",
       "3      3802       48754                        NaN  16-03-2020   \n",
       "4      3803       48755                        NaN  16-03-2020   \n",
       "5      3804       48756  ÃT: 36.319708,-82.363649  16-03-2020   \n",
       "6      3805       48757       35.926541,-78.753267  16-03-2020   \n",
       "7      3806       48758                    Austria  16-03-2020   \n",
       "8      3807       48759            Atlanta, GA USA  16-03-2020   \n",
       "9      3808       48760           BHAVNAGAR,GUJRAT  16-03-2020   \n",
       "\n",
       "                                       OriginalTweet           Sentiment  \n",
       "0  @MeNyrbie @Phil_Gahan @Chrisitv https://t.co/i...             Neutral  \n",
       "1  advice Talk to your neighbours family to excha...            Positive  \n",
       "2  Coronavirus Australia: Woolworths to give elde...            Positive  \n",
       "3  My food stock is not the only one which is emp...            Positive  \n",
       "4  Me, ready to go at supermarket during the #COV...  Extremely Negative  \n",
       "5  As news of the regionÂs first confirmed COVID...            Positive  \n",
       "6  Cashier at grocery store was sharing his insig...            Positive  \n",
       "7  Was at the supermarket today. Didn't buy toile...             Neutral  \n",
       "8  Due to COVID-19 our retail store and classroom...            Positive  \n",
       "9  For corona prevention,we should stop to buy th...            Negative  "
      ]
     },
     "execution_count": 3,
     "metadata": {},
     "output_type": "execute_result"
    }
   ],
   "source": [
    "train.head(10)"
   ]
  },
  {
   "cell_type": "code",
   "execution_count": 4,
   "id": "8b1a88a0",
   "metadata": {
    "execution": {
     "iopub.execute_input": "2023-06-19T05:22:27.484803Z",
     "iopub.status.busy": "2023-06-19T05:22:27.484344Z",
     "iopub.status.idle": "2023-06-19T05:22:27.495006Z",
     "shell.execute_reply": "2023-06-19T05:22:27.493152Z"
    },
    "papermill": {
     "duration": 0.041174,
     "end_time": "2023-06-19T05:22:27.497694",
     "exception": false,
     "start_time": "2023-06-19T05:22:27.456520",
     "status": "completed"
    },
    "tags": []
   },
   "outputs": [
    {
     "data": {
      "text/plain": [
       "Index(['UserName', 'ScreenName', 'Location', 'TweetAt', 'OriginalTweet',\n",
       "       'Sentiment'],\n",
       "      dtype='object')"
      ]
     },
     "execution_count": 4,
     "metadata": {},
     "output_type": "execute_result"
    }
   ],
   "source": [
    "train.columns\n"
   ]
  },
  {
   "cell_type": "code",
   "execution_count": 5,
   "id": "3681c0f6",
   "metadata": {
    "execution": {
     "iopub.execute_input": "2023-06-19T05:22:27.564343Z",
     "iopub.status.busy": "2023-06-19T05:22:27.563948Z",
     "iopub.status.idle": "2023-06-19T05:22:27.595288Z",
     "shell.execute_reply": "2023-06-19T05:22:27.594312Z"
    },
    "papermill": {
     "duration": 0.069467,
     "end_time": "2023-06-19T05:22:27.597758",
     "exception": false,
     "start_time": "2023-06-19T05:22:27.528291",
     "status": "completed"
    },
    "tags": []
   },
   "outputs": [],
   "source": [
    "train = train.drop(columns = 'UserName')\n",
    "train = train.drop(columns = 'ScreenName')\n",
    "train = train.drop(columns = 'Location')\n",
    "train = train.drop(columns = 'TweetAt')\n"
   ]
  },
  {
   "cell_type": "code",
   "execution_count": 6,
   "id": "56eaf3ad",
   "metadata": {
    "execution": {
     "iopub.execute_input": "2023-06-19T05:22:27.651470Z",
     "iopub.status.busy": "2023-06-19T05:22:27.650267Z",
     "iopub.status.idle": "2023-06-19T05:22:27.660267Z",
     "shell.execute_reply": "2023-06-19T05:22:27.659252Z"
    },
    "papermill": {
     "duration": 0.039021,
     "end_time": "2023-06-19T05:22:27.662872",
     "exception": false,
     "start_time": "2023-06-19T05:22:27.623851",
     "status": "completed"
    },
    "tags": []
   },
   "outputs": [],
   "source": [
    "test = test.drop(columns = 'UserName')\n",
    "test = test.drop(columns = 'ScreenName')\n",
    "test = test.drop(columns = 'Location')\n",
    "test = test.drop(columns = 'TweetAt')\n"
   ]
  },
  {
   "cell_type": "code",
   "execution_count": 7,
   "id": "71a527a3",
   "metadata": {
    "execution": {
     "iopub.execute_input": "2023-06-19T05:22:27.715695Z",
     "iopub.status.busy": "2023-06-19T05:22:27.714375Z",
     "iopub.status.idle": "2023-06-19T05:22:27.734340Z",
     "shell.execute_reply": "2023-06-19T05:22:27.733348Z"
    },
    "papermill": {
     "duration": 0.048775,
     "end_time": "2023-06-19T05:22:27.736833",
     "exception": false,
     "start_time": "2023-06-19T05:22:27.688058",
     "status": "completed"
    },
    "tags": []
   },
   "outputs": [
    {
     "data": {
      "text/plain": [
       "Positive              11422\n",
       "Negative               9917\n",
       "Neutral                7713\n",
       "Extremely Positive     6624\n",
       "Extremely Negative     5481\n",
       "Name: Sentiment, dtype: int64"
      ]
     },
     "execution_count": 7,
     "metadata": {},
     "output_type": "execute_result"
    }
   ],
   "source": [
    "train['Sentiment'].value_counts()\n"
   ]
  },
  {
   "cell_type": "code",
   "execution_count": 8,
   "id": "5d661f6e",
   "metadata": {
    "execution": {
     "iopub.execute_input": "2023-06-19T05:22:27.790574Z",
     "iopub.status.busy": "2023-06-19T05:22:27.789587Z",
     "iopub.status.idle": "2023-06-19T05:22:27.796901Z",
     "shell.execute_reply": "2023-06-19T05:22:27.795973Z"
    },
    "papermill": {
     "duration": 0.03697,
     "end_time": "2023-06-19T05:22:27.799927",
     "exception": false,
     "start_time": "2023-06-19T05:22:27.762957",
     "status": "completed"
    },
    "tags": []
   },
   "outputs": [
    {
     "data": {
      "text/plain": [
       "((41157, 2), (3798, 2))"
      ]
     },
     "execution_count": 8,
     "metadata": {},
     "output_type": "execute_result"
    }
   ],
   "source": [
    "train.shape, test.shape\n"
   ]
  },
  {
   "cell_type": "code",
   "execution_count": 9,
   "id": "614a9053",
   "metadata": {
    "execution": {
     "iopub.execute_input": "2023-06-19T05:22:27.854346Z",
     "iopub.status.busy": "2023-06-19T05:22:27.853928Z",
     "iopub.status.idle": "2023-06-19T05:22:27.910857Z",
     "shell.execute_reply": "2023-06-19T05:22:27.909597Z"
    },
    "papermill": {
     "duration": 0.087197,
     "end_time": "2023-06-19T05:22:27.913895",
     "exception": false,
     "start_time": "2023-06-19T05:22:27.826698",
     "status": "completed"
    },
    "tags": []
   },
   "outputs": [],
   "source": [
    "train0=train[train['Sentiment']=='Positive']\n",
    "train1=train[train['Sentiment']=='Negative']\n",
    "train2=train[train['Sentiment']=='Neutral']\n",
    "train3=train[train['Sentiment']=='Extremely Positive']\n",
    "train4=train[train['Sentiment']=='Extremely Negative']"
   ]
  },
  {
   "cell_type": "code",
   "execution_count": null,
   "id": "fc31b438",
   "metadata": {
    "papermill": {
     "duration": 0.02596,
     "end_time": "2023-06-19T05:22:27.966461",
     "exception": false,
     "start_time": "2023-06-19T05:22:27.940501",
     "status": "completed"
    },
    "tags": []
   },
   "outputs": [],
   "source": []
  },
  {
   "cell_type": "code",
   "execution_count": 10,
   "id": "a51c9801",
   "metadata": {
    "execution": {
     "iopub.execute_input": "2023-06-19T05:22:28.020372Z",
     "iopub.status.busy": "2023-06-19T05:22:28.019982Z",
     "iopub.status.idle": "2023-06-19T05:22:28.027794Z",
     "shell.execute_reply": "2023-06-19T05:22:28.026372Z"
    },
    "papermill": {
     "duration": 0.03726,
     "end_time": "2023-06-19T05:22:28.030377",
     "exception": false,
     "start_time": "2023-06-19T05:22:27.993117",
     "status": "completed"
    },
    "tags": []
   },
   "outputs": [
    {
     "data": {
      "text/plain": [
       "((11422, 2), (9917, 2), (7713, 2), (6624, 2), (5481, 2))"
      ]
     },
     "execution_count": 10,
     "metadata": {},
     "output_type": "execute_result"
    }
   ],
   "source": [
    "train0.shape, train1.shape, train2.shape, train3.shape, train4.shape"
   ]
  },
  {
   "cell_type": "markdown",
   "id": "ec167ffd",
   "metadata": {
    "papermill": {
     "duration": 0.025047,
     "end_time": "2023-06-19T05:22:28.082014",
     "exception": false,
     "start_time": "2023-06-19T05:22:28.056967",
     "status": "completed"
    },
    "tags": []
   },
   "source": [
    "# Pre-Processing Data"
   ]
  },
  {
   "cell_type": "code",
   "execution_count": 11,
   "id": "7ad79776",
   "metadata": {
    "execution": {
     "iopub.execute_input": "2023-06-19T05:22:28.134926Z",
     "iopub.status.busy": "2023-06-19T05:22:28.134524Z",
     "iopub.status.idle": "2023-06-19T05:22:29.046662Z",
     "shell.execute_reply": "2023-06-19T05:22:29.045298Z"
    },
    "papermill": {
     "duration": 0.942077,
     "end_time": "2023-06-19T05:22:29.049547",
     "exception": false,
     "start_time": "2023-06-19T05:22:28.107470",
     "status": "completed"
    },
    "tags": []
   },
   "outputs": [],
   "source": [
    "#Remove Hashtags\n",
    "train['OriginalTweet'].replace( { r\"#(\\w+)\" : '' }, inplace= True, regex = True)\n",
    "\n",
    "#Remove Mention\n",
    "train['OriginalTweet'].replace( { r\"@(\\w+)\" : '' }, inplace= True, regex = True)\n",
    "\n",
    "#Remove URL\n",
    "train['OriginalTweet'].astype(str).replace( { r\"http\\S+\" : '' }, inplace= True, regex = True)\n",
    "\n",
    "train['OriginalTweet']=train['OriginalTweet'].str.lower()\n",
    "\n",
    "#Remove Punctuations\n",
    "train['OriginalTweet'] = train['OriginalTweet'].apply(lambda x: x.translate(str.maketrans('', '', string.punctuation)))\n"
   ]
  },
  {
   "cell_type": "code",
   "execution_count": 12,
   "id": "f4de386a",
   "metadata": {
    "execution": {
     "iopub.execute_input": "2023-06-19T05:22:29.104665Z",
     "iopub.status.busy": "2023-06-19T05:22:29.103441Z",
     "iopub.status.idle": "2023-06-19T05:22:29.203413Z",
     "shell.execute_reply": "2023-06-19T05:22:29.202075Z"
    },
    "papermill": {
     "duration": 0.131594,
     "end_time": "2023-06-19T05:22:29.206896",
     "exception": false,
     "start_time": "2023-06-19T05:22:29.075302",
     "status": "completed"
    },
    "tags": []
   },
   "outputs": [],
   "source": [
    "#Remove Hashtags\n",
    "test['OriginalTweet'].replace( { r\"#(\\w+)\" : '' }, inplace= True, regex = True)\n",
    "\n",
    "#Remove Mention\n",
    "test['OriginalTweet'].replace( { r\"@(\\w+)\" : '' }, inplace= True, regex = True)\n",
    "\n",
    "#Remove URL\n",
    "test['OriginalTweet'].astype(str).replace( { r\"http\\S+\" : '' }, inplace= True, regex = True)\n",
    "\n",
    "test['OriginalTweet']=test['OriginalTweet'].str.lower()\n",
    "\n",
    "#Remove Punctuations\n",
    "test['OriginalTweet'] = test['OriginalTweet'].apply(lambda x: x.translate(str.maketrans('', '', string.punctuation)))\n"
   ]
  },
  {
   "cell_type": "code",
   "execution_count": 13,
   "id": "01d08019",
   "metadata": {
    "execution": {
     "iopub.execute_input": "2023-06-19T05:22:29.260373Z",
     "iopub.status.busy": "2023-06-19T05:22:29.259942Z",
     "iopub.status.idle": "2023-06-19T05:23:06.092571Z",
     "shell.execute_reply": "2023-06-19T05:23:06.091387Z"
    },
    "papermill": {
     "duration": 36.862771,
     "end_time": "2023-06-19T05:23:06.095473",
     "exception": false,
     "start_time": "2023-06-19T05:22:29.232702",
     "status": "completed"
    },
    "tags": []
   },
   "outputs": [],
   "source": [
    "stemmer = PorterStemmer()\n",
    "train['OriginalTweet'] = train['OriginalTweet'].apply(lambda x: ' '.join([stemmer.stem(word) for word in x.split()]))"
   ]
  },
  {
   "cell_type": "code",
   "execution_count": 14,
   "id": "64d5514c",
   "metadata": {
    "execution": {
     "iopub.execute_input": "2023-06-19T05:23:06.148875Z",
     "iopub.status.busy": "2023-06-19T05:23:06.148461Z",
     "iopub.status.idle": "2023-06-19T05:23:08.789914Z",
     "shell.execute_reply": "2023-06-19T05:23:08.789042Z"
    },
    "papermill": {
     "duration": 2.671464,
     "end_time": "2023-06-19T05:23:08.792686",
     "exception": false,
     "start_time": "2023-06-19T05:23:06.121222",
     "status": "completed"
    },
    "tags": []
   },
   "outputs": [],
   "source": [
    "stop = stopwords.words('english')\n",
    "\n",
    "train['OriginalTweet'] = train['OriginalTweet'].apply(lambda x: ' '.join([word for word in x.split() if word not in (stop)]))"
   ]
  },
  {
   "cell_type": "markdown",
   "id": "f779addf",
   "metadata": {
    "papermill": {
     "duration": 0.025134,
     "end_time": "2023-06-19T05:23:08.843542",
     "exception": false,
     "start_time": "2023-06-19T05:23:08.818408",
     "status": "completed"
    },
    "tags": []
   },
   "source": [
    "# Post EDA"
   ]
  },
  {
   "cell_type": "code",
   "execution_count": 15,
   "id": "0806cf65",
   "metadata": {
    "execution": {
     "iopub.execute_input": "2023-06-19T05:23:08.897540Z",
     "iopub.status.busy": "2023-06-19T05:23:08.896526Z",
     "iopub.status.idle": "2023-06-19T05:23:08.909230Z",
     "shell.execute_reply": "2023-06-19T05:23:08.908357Z"
    },
    "papermill": {
     "duration": 0.042138,
     "end_time": "2023-06-19T05:23:08.911661",
     "exception": false,
     "start_time": "2023-06-19T05:23:08.869523",
     "status": "completed"
    },
    "tags": []
   },
   "outputs": [
    {
     "data": {
      "text/html": [
       "<div>\n",
       "<style scoped>\n",
       "    .dataframe tbody tr th:only-of-type {\n",
       "        vertical-align: middle;\n",
       "    }\n",
       "\n",
       "    .dataframe tbody tr th {\n",
       "        vertical-align: top;\n",
       "    }\n",
       "\n",
       "    .dataframe thead th {\n",
       "        text-align: right;\n",
       "    }\n",
       "</style>\n",
       "<table border=\"1\" class=\"dataframe\">\n",
       "  <thead>\n",
       "    <tr style=\"text-align: right;\">\n",
       "      <th></th>\n",
       "      <th>OriginalTweet</th>\n",
       "      <th>Sentiment</th>\n",
       "    </tr>\n",
       "  </thead>\n",
       "  <tbody>\n",
       "    <tr>\n",
       "      <th>0</th>\n",
       "      <td>httpstcoifz9fan2pa httpstcoxx6ghgfzcc httpstco...</td>\n",
       "      <td>Neutral</td>\n",
       "    </tr>\n",
       "    <tr>\n",
       "      <th>1</th>\n",
       "      <td>advic talk neighbour famili exchang phone numb...</td>\n",
       "      <td>Positive</td>\n",
       "    </tr>\n",
       "    <tr>\n",
       "      <th>2</th>\n",
       "      <td>coronaviru australia woolworth give elderli di...</td>\n",
       "      <td>Positive</td>\n",
       "    </tr>\n",
       "    <tr>\n",
       "      <th>3</th>\n",
       "      <td>food stock onli one empti pleas dont panic eno...</td>\n",
       "      <td>Positive</td>\n",
       "    </tr>\n",
       "    <tr>\n",
       "      <th>4</th>\n",
       "      <td>readi go supermarket dure outbreak becaus im p...</td>\n",
       "      <td>Extremely Negative</td>\n",
       "    </tr>\n",
       "    <tr>\n",
       "      <th>5</th>\n",
       "      <td>news regionâ first confirm covid19 case came ...</td>\n",
       "      <td>Positive</td>\n",
       "    </tr>\n",
       "    <tr>\n",
       "      <th>6</th>\n",
       "      <td>cashier groceri store wa share hi insight prov...</td>\n",
       "      <td>Positive</td>\n",
       "    </tr>\n",
       "    <tr>\n",
       "      <th>7</th>\n",
       "      <td>wa supermarket today didnt buy toilet paper ht...</td>\n",
       "      <td>Neutral</td>\n",
       "    </tr>\n",
       "    <tr>\n",
       "      <th>8</th>\n",
       "      <td>due covid19 retail store classroom atlanta ope...</td>\n",
       "      <td>Positive</td>\n",
       "    </tr>\n",
       "    <tr>\n",
       "      <th>9</th>\n",
       "      <td>corona preventionw stop buy thing cash use onl...</td>\n",
       "      <td>Negative</td>\n",
       "    </tr>\n",
       "    <tr>\n",
       "      <th>10</th>\n",
       "      <td>month hasnt crowd supermarket restaur howev re...</td>\n",
       "      <td>Neutral</td>\n",
       "    </tr>\n",
       "    <tr>\n",
       "      <th>11</th>\n",
       "      <td>due covid19 situat increas demand food product...</td>\n",
       "      <td>Extremely Positive</td>\n",
       "    </tr>\n",
       "    <tr>\n",
       "      <th>12</th>\n",
       "      <td>care commun letâ look less capabl villag ensu...</td>\n",
       "      <td>Extremely Positive</td>\n",
       "    </tr>\n",
       "    <tr>\n",
       "      <th>13</th>\n",
       "      <td>dont need stock food ill amazon deliv whatev n...</td>\n",
       "      <td>Positive</td>\n",
       "    </tr>\n",
       "    <tr>\n",
       "      <th>14</th>\n",
       "      <td>adara releas covid19 resourc center travel bra...</td>\n",
       "      <td>Positive</td>\n",
       "    </tr>\n",
       "    <tr>\n",
       "      <th>15</th>\n",
       "      <td>line groceri store unpredict eat safe altern f...</td>\n",
       "      <td>Positive</td>\n",
       "    </tr>\n",
       "    <tr>\n",
       "      <th>16</th>\n",
       "      <td>13 httpstco51bl8p6vzh</td>\n",
       "      <td>Neutral</td>\n",
       "    </tr>\n",
       "    <tr>\n",
       "      <th>17</th>\n",
       "      <td>16mar20 russia consum surveil watchdog report ...</td>\n",
       "      <td>Neutral</td>\n",
       "    </tr>\n",
       "    <tr>\n",
       "      <th>18</th>\n",
       "      <td>amazon glitch stymi whole food fresh groceri d...</td>\n",
       "      <td>Extremely Positive</td>\n",
       "    </tr>\n",
       "    <tr>\n",
       "      <th>19</th>\n",
       "      <td>arent struggl pleas consid donat food bank non...</td>\n",
       "      <td>Positive</td>\n",
       "    </tr>\n",
       "  </tbody>\n",
       "</table>\n",
       "</div>"
      ],
      "text/plain": [
       "                                        OriginalTweet           Sentiment\n",
       "0   httpstcoifz9fan2pa httpstcoxx6ghgfzcc httpstco...             Neutral\n",
       "1   advic talk neighbour famili exchang phone numb...            Positive\n",
       "2   coronaviru australia woolworth give elderli di...            Positive\n",
       "3   food stock onli one empti pleas dont panic eno...            Positive\n",
       "4   readi go supermarket dure outbreak becaus im p...  Extremely Negative\n",
       "5   news regionâ first confirm covid19 case came ...            Positive\n",
       "6   cashier groceri store wa share hi insight prov...            Positive\n",
       "7   wa supermarket today didnt buy toilet paper ht...             Neutral\n",
       "8   due covid19 retail store classroom atlanta ope...            Positive\n",
       "9   corona preventionw stop buy thing cash use onl...            Negative\n",
       "10  month hasnt crowd supermarket restaur howev re...             Neutral\n",
       "11  due covid19 situat increas demand food product...  Extremely Positive\n",
       "12  care commun letâ look less capabl villag ensu...  Extremely Positive\n",
       "13  dont need stock food ill amazon deliv whatev n...            Positive\n",
       "14  adara releas covid19 resourc center travel bra...            Positive\n",
       "15  line groceri store unpredict eat safe altern f...            Positive\n",
       "16                              13 httpstco51bl8p6vzh             Neutral\n",
       "17  16mar20 russia consum surveil watchdog report ...             Neutral\n",
       "18  amazon glitch stymi whole food fresh groceri d...  Extremely Positive\n",
       "19  arent struggl pleas consid donat food bank non...            Positive"
      ]
     },
     "execution_count": 15,
     "metadata": {},
     "output_type": "execute_result"
    }
   ],
   "source": [
    "train.head(20)"
   ]
  },
  {
   "cell_type": "code",
   "execution_count": 16,
   "id": "7b83e924",
   "metadata": {
    "execution": {
     "iopub.execute_input": "2023-06-19T05:23:08.967848Z",
     "iopub.status.busy": "2023-06-19T05:23:08.967031Z",
     "iopub.status.idle": "2023-06-19T05:23:09.031036Z",
     "shell.execute_reply": "2023-06-19T05:23:09.030084Z"
    },
    "papermill": {
     "duration": 0.094853,
     "end_time": "2023-06-19T05:23:09.033469",
     "exception": false,
     "start_time": "2023-06-19T05:23:08.938616",
     "status": "completed"
    },
    "tags": []
   },
   "outputs": [
    {
     "data": {
      "text/html": [
       "<div>\n",
       "<style scoped>\n",
       "    .dataframe tbody tr th:only-of-type {\n",
       "        vertical-align: middle;\n",
       "    }\n",
       "\n",
       "    .dataframe tbody tr th {\n",
       "        vertical-align: top;\n",
       "    }\n",
       "\n",
       "    .dataframe thead th {\n",
       "        text-align: right;\n",
       "    }\n",
       "</style>\n",
       "<table border=\"1\" class=\"dataframe\">\n",
       "  <thead>\n",
       "    <tr style=\"text-align: right;\">\n",
       "      <th></th>\n",
       "      <th>OriginalTweet</th>\n",
       "      <th>Sentiment</th>\n",
       "    </tr>\n",
       "  </thead>\n",
       "  <tbody>\n",
       "    <tr>\n",
       "      <th>count</th>\n",
       "      <td>41157</td>\n",
       "      <td>41157</td>\n",
       "    </tr>\n",
       "    <tr>\n",
       "      <th>unique</th>\n",
       "      <td>41056</td>\n",
       "      <td>5</td>\n",
       "    </tr>\n",
       "    <tr>\n",
       "      <th>top</th>\n",
       "      <td></td>\n",
       "      <td>Positive</td>\n",
       "    </tr>\n",
       "    <tr>\n",
       "      <th>freq</th>\n",
       "      <td>15</td>\n",
       "      <td>11422</td>\n",
       "    </tr>\n",
       "  </tbody>\n",
       "</table>\n",
       "</div>"
      ],
      "text/plain": [
       "       OriginalTweet Sentiment\n",
       "count          41157     41157\n",
       "unique         41056         5\n",
       "top                   Positive\n",
       "freq              15     11422"
      ]
     },
     "execution_count": 16,
     "metadata": {},
     "output_type": "execute_result"
    }
   ],
   "source": [
    "train.describe()"
   ]
  },
  {
   "cell_type": "code",
   "execution_count": 17,
   "id": "231526db",
   "metadata": {
    "execution": {
     "iopub.execute_input": "2023-06-19T05:23:09.088683Z",
     "iopub.status.busy": "2023-06-19T05:23:09.088053Z",
     "iopub.status.idle": "2023-06-19T05:23:09.137528Z",
     "shell.execute_reply": "2023-06-19T05:23:09.136051Z"
    },
    "papermill": {
     "duration": 0.080156,
     "end_time": "2023-06-19T05:23:09.140435",
     "exception": false,
     "start_time": "2023-06-19T05:23:09.060279",
     "status": "completed"
    },
    "tags": []
   },
   "outputs": [
    {
     "name": "stdout",
     "output_type": "stream",
     "text": [
      "<class 'pandas.core.frame.DataFrame'>\n",
      "RangeIndex: 41157 entries, 0 to 41156\n",
      "Data columns (total 2 columns):\n",
      " #   Column         Non-Null Count  Dtype \n",
      "---  ------         --------------  ----- \n",
      " 0   OriginalTweet  41157 non-null  object\n",
      " 1   Sentiment      41157 non-null  object\n",
      "dtypes: object(2)\n",
      "memory usage: 643.2+ KB\n"
     ]
    }
   ],
   "source": [
    "train.info()"
   ]
  },
  {
   "cell_type": "code",
   "execution_count": 18,
   "id": "7e5e9e77",
   "metadata": {
    "execution": {
     "iopub.execute_input": "2023-06-19T05:23:09.195891Z",
     "iopub.status.busy": "2023-06-19T05:23:09.195491Z",
     "iopub.status.idle": "2023-06-19T05:23:09.238371Z",
     "shell.execute_reply": "2023-06-19T05:23:09.237097Z"
    },
    "papermill": {
     "duration": 0.073405,
     "end_time": "2023-06-19T05:23:09.241044",
     "exception": false,
     "start_time": "2023-06-19T05:23:09.167639",
     "status": "completed"
    },
    "tags": []
   },
   "outputs": [
    {
     "data": {
      "text/plain": [
       "OriginalTweet    41056\n",
       "Sentiment            5\n",
       "dtype: int64"
      ]
     },
     "execution_count": 18,
     "metadata": {},
     "output_type": "execute_result"
    }
   ],
   "source": [
    "train.nunique()"
   ]
  },
  {
   "cell_type": "code",
   "execution_count": 19,
   "id": "313b810c",
   "metadata": {
    "execution": {
     "iopub.execute_input": "2023-06-19T05:23:09.296877Z",
     "iopub.status.busy": "2023-06-19T05:23:09.295475Z",
     "iopub.status.idle": "2023-06-19T05:23:09.302689Z",
     "shell.execute_reply": "2023-06-19T05:23:09.301534Z"
    },
    "papermill": {
     "duration": 0.037355,
     "end_time": "2023-06-19T05:23:09.305137",
     "exception": false,
     "start_time": "2023-06-19T05:23:09.267782",
     "status": "completed"
    },
    "tags": []
   },
   "outputs": [
    {
     "data": {
      "text/plain": [
       "(41157, 2)"
      ]
     },
     "execution_count": 19,
     "metadata": {},
     "output_type": "execute_result"
    }
   ],
   "source": [
    "train.shape"
   ]
  },
  {
   "cell_type": "code",
   "execution_count": 20,
   "id": "03d1f825",
   "metadata": {
    "execution": {
     "iopub.execute_input": "2023-06-19T05:23:09.362044Z",
     "iopub.status.busy": "2023-06-19T05:23:09.361583Z",
     "iopub.status.idle": "2023-06-19T05:23:09.399077Z",
     "shell.execute_reply": "2023-06-19T05:23:09.398156Z"
    },
    "papermill": {
     "duration": 0.069813,
     "end_time": "2023-06-19T05:23:09.401545",
     "exception": false,
     "start_time": "2023-06-19T05:23:09.331732",
     "status": "completed"
    },
    "tags": []
   },
   "outputs": [
    {
     "data": {
      "text/plain": [
       "OriginalTweet    0.0\n",
       "Sentiment        0.0\n",
       "dtype: float64"
      ]
     },
     "execution_count": 20,
     "metadata": {},
     "output_type": "execute_result"
    }
   ],
   "source": [
    "nullValues = (train.isnull().sum()/len(train)*100).sort_values(ascending = False)\n",
    "nullValues"
   ]
  },
  {
   "cell_type": "code",
   "execution_count": 21,
   "id": "bd960109",
   "metadata": {
    "execution": {
     "iopub.execute_input": "2023-06-19T05:23:09.457014Z",
     "iopub.status.busy": "2023-06-19T05:23:09.456588Z",
     "iopub.status.idle": "2023-06-19T05:23:09.470433Z",
     "shell.execute_reply": "2023-06-19T05:23:09.469057Z"
    },
    "papermill": {
     "duration": 0.045143,
     "end_time": "2023-06-19T05:23:09.473433",
     "exception": false,
     "start_time": "2023-06-19T05:23:09.428290",
     "status": "completed"
    },
    "tags": []
   },
   "outputs": [],
   "source": [
    "# Replace \"Extremely Positive\" with \"Positive\"\n",
    "train['Sentiment'] = train['Sentiment'].replace('Extremely Positive', 'Positive')\n",
    "\n",
    "# Replace \"Extremely Negative\" with \"Negative\"\n",
    "train['Sentiment'] = train['Sentiment'].replace('Extremely Negative', 'Negative')"
   ]
  },
  {
   "cell_type": "code",
   "execution_count": 22,
   "id": "4c592a4a",
   "metadata": {
    "execution": {
     "iopub.execute_input": "2023-06-19T05:23:09.531580Z",
     "iopub.status.busy": "2023-06-19T05:23:09.530764Z",
     "iopub.status.idle": "2023-06-19T05:23:09.538587Z",
     "shell.execute_reply": "2023-06-19T05:23:09.537317Z"
    },
    "papermill": {
     "duration": 0.039759,
     "end_time": "2023-06-19T05:23:09.541210",
     "exception": false,
     "start_time": "2023-06-19T05:23:09.501451",
     "status": "completed"
    },
    "tags": []
   },
   "outputs": [],
   "source": [
    "# Replace \"Extremely Positive\" with \"Positive\"\n",
    "test['Sentiment'] = test['Sentiment'].replace('Extremely Positive', 'Positive')\n",
    "\n",
    "# Replace \"Extremely Negative\" with \"Negative\"\n",
    "test['Sentiment'] = test['Sentiment'].replace('Extremely Negative', 'Negative')"
   ]
  },
  {
   "cell_type": "code",
   "execution_count": 23,
   "id": "6c197e9d",
   "metadata": {
    "execution": {
     "iopub.execute_input": "2023-06-19T05:23:09.596540Z",
     "iopub.status.busy": "2023-06-19T05:23:09.596109Z",
     "iopub.status.idle": "2023-06-19T05:23:09.612359Z",
     "shell.execute_reply": "2023-06-19T05:23:09.611229Z"
    },
    "papermill": {
     "duration": 0.04672,
     "end_time": "2023-06-19T05:23:09.614699",
     "exception": false,
     "start_time": "2023-06-19T05:23:09.567979",
     "status": "completed"
    },
    "tags": []
   },
   "outputs": [
    {
     "data": {
      "text/plain": [
       "Positive    18046\n",
       "Negative    15398\n",
       "Neutral      7713\n",
       "Name: Sentiment, dtype: int64"
      ]
     },
     "execution_count": 23,
     "metadata": {},
     "output_type": "execute_result"
    }
   ],
   "source": [
    "sentimentClass = train['Sentiment'].value_counts();\n",
    "sentimentClass"
   ]
  },
  {
   "cell_type": "code",
   "execution_count": null,
   "id": "b1c8d217",
   "metadata": {
    "papermill": {
     "duration": 0.027051,
     "end_time": "2023-06-19T05:23:09.668789",
     "exception": false,
     "start_time": "2023-06-19T05:23:09.641738",
     "status": "completed"
    },
    "tags": []
   },
   "outputs": [],
   "source": []
  },
  {
   "cell_type": "code",
   "execution_count": null,
   "id": "06cd61bf",
   "metadata": {
    "papermill": {
     "duration": 0.026719,
     "end_time": "2023-06-19T05:23:09.724510",
     "exception": false,
     "start_time": "2023-06-19T05:23:09.697791",
     "status": "completed"
    },
    "tags": []
   },
   "outputs": [],
   "source": []
  },
  {
   "cell_type": "markdown",
   "id": "47c84870",
   "metadata": {
    "papermill": {
     "duration": 0.027037,
     "end_time": "2023-06-19T05:23:09.779038",
     "exception": false,
     "start_time": "2023-06-19T05:23:09.752001",
     "status": "completed"
    },
    "tags": []
   },
   "source": [
    "# **Distribution of sentiment categories using a bar plot**"
   ]
  },
  {
   "cell_type": "code",
   "execution_count": 24,
   "id": "b46dd340",
   "metadata": {
    "execution": {
     "iopub.execute_input": "2023-06-19T05:23:09.834694Z",
     "iopub.status.busy": "2023-06-19T05:23:09.834307Z",
     "iopub.status.idle": "2023-06-19T05:23:10.190317Z",
     "shell.execute_reply": "2023-06-19T05:23:10.189149Z"
    },
    "papermill": {
     "duration": 0.386845,
     "end_time": "2023-06-19T05:23:10.192795",
     "exception": false,
     "start_time": "2023-06-19T05:23:09.805950",
     "status": "completed"
    },
    "tags": []
   },
   "outputs": [
    {
     "data": {
      "image/png": "[encoded data removed]",
      "text/plain": [
       "<Figure size 800x600 with 1 Axes>"
      ]
     },
     "metadata": {},
     "output_type": "display_data"
    }
   ],
   "source": [
    "plt.figure(figsize=(8, 6))\n",
    "sns.countplot(data=train, x='Sentiment')\n",
    "plt.title('Sentiment Distribution')\n",
    "plt.xlabel('Sentiment')\n",
    "plt.ylabel('Count')\n",
    "plt.show()"
   ]
  },
  {
   "cell_type": "markdown",
   "id": "1dbd1a17",
   "metadata": {
    "papermill": {
     "duration": 0.027205,
     "end_time": "2023-06-19T05:23:10.247472",
     "exception": false,
     "start_time": "2023-06-19T05:23:10.220267",
     "status": "completed"
    },
    "tags": []
   },
   "source": [
    "# Word Cloud"
   ]
  },
  {
   "cell_type": "code",
   "execution_count": 25,
   "id": "931a6382",
   "metadata": {
    "execution": {
     "iopub.execute_input": "2023-06-19T05:23:10.304958Z",
     "iopub.status.busy": "2023-06-19T05:23:10.303907Z",
     "iopub.status.idle": "2023-06-19T05:23:19.136676Z",
     "shell.execute_reply": "2023-06-19T05:23:19.134052Z"
    },
    "papermill": {
     "duration": 8.864379,
     "end_time": "2023-06-19T05:23:19.139396",
     "exception": false,
     "start_time": "2023-06-19T05:23:10.275017",
     "status": "completed"
    },
    "tags": []
   },
   "outputs": [
    {
     "data": {
      "image/png": "[encoded data removed]",
      "text/plain": [
       "<Figure size 1000x600 with 1 Axes>"
      ]
     },
     "metadata": {},
     "output_type": "display_data"
    }
   ],
   "source": [
    "all_tweets_text = \" \".join(tweet for tweet in train['OriginalTweet'])\n",
    "\n",
    "wordcloud = WordCloud(width=800, height=400, background_color='white').generate(all_tweets_text)\n",
    "\n",
    "\n",
    "plt.figure(figsize=(10, 6))\n",
    "plt.imshow(wordcloud, interpolation='bilinear')\n",
    "plt.axis('off')\n",
    "plt.title('Word Cloud of Tweets')\n",
    "plt.show()"
   ]
  },
  {
   "cell_type": "code",
   "execution_count": 26,
   "id": "df764aad",
   "metadata": {
    "execution": {
     "iopub.execute_input": "2023-06-19T05:23:19.206503Z",
     "iopub.status.busy": "2023-06-19T05:23:19.205555Z",
     "iopub.status.idle": "2023-06-19T05:23:19.210250Z",
     "shell.execute_reply": "2023-06-19T05:23:19.209374Z"
    },
    "papermill": {
     "duration": 0.040295,
     "end_time": "2023-06-19T05:23:19.212571",
     "exception": false,
     "start_time": "2023-06-19T05:23:19.172276",
     "status": "completed"
    },
    "tags": []
   },
   "outputs": [],
   "source": [
    "x = train['OriginalTweet']\n",
    "y = train['Sentiment']"
   ]
  },
  {
   "cell_type": "code",
   "execution_count": 27,
   "id": "e18c1bc8",
   "metadata": {
    "execution": {
     "iopub.execute_input": "2023-06-19T05:23:19.279968Z",
     "iopub.status.busy": "2023-06-19T05:23:19.279528Z",
     "iopub.status.idle": "2023-06-19T05:23:19.286741Z",
     "shell.execute_reply": "2023-06-19T05:23:19.285377Z"
    },
    "papermill": {
     "duration": 0.044594,
     "end_time": "2023-06-19T05:23:19.289364",
     "exception": false,
     "start_time": "2023-06-19T05:23:19.244770",
     "status": "completed"
    },
    "tags": []
   },
   "outputs": [
    {
     "data": {
      "text/plain": [
       "(41157,)"
      ]
     },
     "execution_count": 27,
     "metadata": {},
     "output_type": "execute_result"
    }
   ],
   "source": [
    "x.shape"
   ]
  },
  {
   "cell_type": "markdown",
   "id": "15f39faa",
   "metadata": {
    "papermill": {
     "duration": 0.03221,
     "end_time": "2023-06-19T05:23:19.354564",
     "exception": false,
     "start_time": "2023-06-19T05:23:19.322354",
     "status": "completed"
    },
    "tags": []
   },
   "source": [
    "# Vectorization"
   ]
  },
  {
   "cell_type": "markdown",
   "id": "ad52ba53",
   "metadata": {
    "papermill": {
     "duration": 0.031876,
     "end_time": "2023-06-19T05:23:19.419777",
     "exception": false,
     "start_time": "2023-06-19T05:23:19.387901",
     "status": "completed"
    },
    "tags": []
   },
   "source": [
    "## TF-IDF "
   ]
  },
  {
   "cell_type": "code",
   "execution_count": 28,
   "id": "27ca2815",
   "metadata": {
    "execution": {
     "iopub.execute_input": "2023-06-19T05:23:19.486391Z",
     "iopub.status.busy": "2023-06-19T05:23:19.485594Z",
     "iopub.status.idle": "2023-06-19T05:23:20.007091Z",
     "shell.execute_reply": "2023-06-19T05:23:20.005923Z"
    },
    "papermill": {
     "duration": 0.558301,
     "end_time": "2023-06-19T05:23:20.010269",
     "exception": false,
     "start_time": "2023-06-19T05:23:19.451968",
     "status": "completed"
    },
    "tags": []
   },
   "outputs": [],
   "source": [
    "corpus = []\n",
    "for i in range(x.shape[0]):\n",
    "    corpus.append(x.iloc[i])"
   ]
  },
  {
   "cell_type": "code",
   "execution_count": 29,
   "id": "bf47651d",
   "metadata": {
    "execution": {
     "iopub.execute_input": "2023-06-19T05:23:20.079685Z",
     "iopub.status.busy": "2023-06-19T05:23:20.078642Z",
     "iopub.status.idle": "2023-06-19T05:23:44.305320Z",
     "shell.execute_reply": "2023-06-19T05:23:44.304296Z"
    },
    "papermill": {
     "duration": 24.264999,
     "end_time": "2023-06-19T05:23:44.308226",
     "exception": false,
     "start_time": "2023-06-19T05:23:20.043227",
     "status": "completed"
    },
    "tags": []
   },
   "outputs": [],
   "source": [
    "vectorizer1 = TfidfVectorizer(max_features=1000)\n",
    "X1 = vectorizer1.fit_transform(x)\n",
    "feature_names1 = vectorizer1.get_feature_names_out()\n",
    "denselist1 = X1.todense().tolist()\n",
    "train = pd.DataFrame(denselist1, columns=feature_names1)"
   ]
  },
  {
   "cell_type": "code",
   "execution_count": 30,
   "id": "013483c1",
   "metadata": {
    "execution": {
     "iopub.execute_input": "2023-06-19T05:23:44.375015Z",
     "iopub.status.busy": "2023-06-19T05:23:44.374591Z",
     "iopub.status.idle": "2023-06-19T05:23:44.668356Z",
     "shell.execute_reply": "2023-06-19T05:23:44.667477Z"
    },
    "papermill": {
     "duration": 0.330144,
     "end_time": "2023-06-19T05:23:44.670947",
     "exception": false,
     "start_time": "2023-06-19T05:23:44.340803",
     "status": "completed"
    },
    "tags": []
   },
   "outputs": [],
   "source": [
    "X_temp, X_test, y_temp, y_test = train_test_split(train, y, test_size=0.2, random_state=0)\n"
   ]
  },
  {
   "cell_type": "code",
   "execution_count": 31,
   "id": "0682dec5",
   "metadata": {
    "execution": {
     "iopub.execute_input": "2023-06-19T05:23:44.737441Z",
     "iopub.status.busy": "2023-06-19T05:23:44.737051Z",
     "iopub.status.idle": "2023-06-19T05:23:44.742086Z",
     "shell.execute_reply": "2023-06-19T05:23:44.741041Z"
    },
    "papermill": {
     "duration": 0.041091,
     "end_time": "2023-06-19T05:23:44.744335",
     "exception": false,
     "start_time": "2023-06-19T05:23:44.703244",
     "status": "completed"
    },
    "tags": []
   },
   "outputs": [],
   "source": [
    "accuracy = {'TF-IDF':[]}\n"
   ]
  },
  {
   "cell_type": "markdown",
   "id": "efb917e0",
   "metadata": {
    "papermill": {
     "duration": 0.032261,
     "end_time": "2023-06-19T05:23:44.808849",
     "exception": false,
     "start_time": "2023-06-19T05:23:44.776588",
     "status": "completed"
    },
    "tags": []
   },
   "source": [
    "# Models"
   ]
  },
  {
   "cell_type": "markdown",
   "id": "0640f7f2",
   "metadata": {
    "papermill": {
     "duration": 0.031978,
     "end_time": "2023-06-19T05:23:44.873065",
     "exception": false,
     "start_time": "2023-06-19T05:23:44.841087",
     "status": "completed"
    },
    "tags": []
   },
   "source": [
    "## Logistic Regression"
   ]
  },
  {
   "cell_type": "code",
   "execution_count": 32,
   "id": "b560cb07",
   "metadata": {
    "execution": {
     "iopub.execute_input": "2023-06-19T05:23:44.939554Z",
     "iopub.status.busy": "2023-06-19T05:23:44.938544Z",
     "iopub.status.idle": "2023-06-19T05:23:59.155997Z",
     "shell.execute_reply": "2023-06-19T05:23:59.154573Z"
    },
    "papermill": {
     "duration": 14.253624,
     "end_time": "2023-06-19T05:23:59.158609",
     "exception": false,
     "start_time": "2023-06-19T05:23:44.904985",
     "status": "completed"
    },
    "tags": []
   },
   "outputs": [
    {
     "name": "stdout",
     "output_type": "stream",
     "text": [
      "[[2311  238  531]\n",
      " [ 232  995  299]\n",
      " [ 428  237 2961]]\n",
      "              precision    recall  f1-score   support\n",
      "\n",
      "    Negative       0.78      0.75      0.76      3080\n",
      "     Neutral       0.68      0.65      0.66      1526\n",
      "    Positive       0.78      0.82      0.80      3626\n",
      "\n",
      "    accuracy                           0.76      8232\n",
      "   macro avg       0.75      0.74      0.74      8232\n",
      "weighted avg       0.76      0.76      0.76      8232\n",
      "\n",
      "0.7612973760932945\n"
     ]
    }
   ],
   "source": [
    "regressor_LR_tf = LogisticRegression(C=1.0,penalty='l2',solver='newton-cg')\n",
    "regressor_LR_tf.fit(X_temp, y_temp)\n",
    "y_predict_LR_tf = regressor_LR_tf.predict(X_test)\n",
    "a=(regressor_LR_tf.score(X_test, y_test))\n",
    "accuracy['TF-IDF'].append(a)\n",
    "\n",
    "print(metrics.confusion_matrix(y_test, y_predict_LR_tf))\n",
    "print(metrics.classification_report(y_test, y_predict_LR_tf))\n",
    "print(metrics.accuracy_score(y_test, y_predict_LR_tf))"
   ]
  },
  {
   "cell_type": "markdown",
   "id": "9ccbda64",
   "metadata": {
    "papermill": {
     "duration": 0.031837,
     "end_time": "2023-06-19T05:23:59.223396",
     "exception": false,
     "start_time": "2023-06-19T05:23:59.191559",
     "status": "completed"
    },
    "tags": []
   },
   "source": [
    "## Decision Tree"
   ]
  },
  {
   "cell_type": "code",
   "execution_count": 33,
   "id": "ba1ea7f1",
   "metadata": {
    "execution": {
     "iopub.execute_input": "2023-06-19T05:23:59.290228Z",
     "iopub.status.busy": "2023-06-19T05:23:59.289835Z",
     "iopub.status.idle": "2023-06-19T05:24:00.423634Z",
     "shell.execute_reply": "2023-06-19T05:24:00.422195Z"
    },
    "papermill": {
     "duration": 1.170854,
     "end_time": "2023-06-19T05:24:00.426497",
     "exception": false,
     "start_time": "2023-06-19T05:23:59.255643",
     "status": "completed"
    },
    "tags": []
   },
   "outputs": [
    {
     "name": "stdout",
     "output_type": "stream",
     "text": [
      "[[ 593    0 2487]\n",
      " [  19    0 1507]\n",
      " [ 136    0 3490]]\n",
      "              precision    recall  f1-score   support\n",
      "\n",
      "    Negative       0.79      0.19      0.31      3080\n",
      "     Neutral       0.00      0.00      0.00      1526\n",
      "    Positive       0.47      0.96      0.63      3626\n",
      "\n",
      "    accuracy                           0.50      8232\n",
      "   macro avg       0.42      0.39      0.31      8232\n",
      "weighted avg       0.50      0.50      0.39      8232\n",
      "\n",
      "0.49599125364431484\n"
     ]
    }
   ],
   "source": [
    "model_DT_tf = DecisionTreeClassifier(criterion = 'gini', max_depth=2) \n",
    "model_DT_tf.fit(X_temp, y_temp)\n",
    "y_predict_DT_tf = model_DT_tf.predict(X_test)\n",
    "a=(model_DT_tf.score(X_test,y_test))\n",
    "accuracy['TF-IDF'].append(a)\n",
    "\n",
    "print(metrics.confusion_matrix(y_test, y_predict_DT_tf))\n",
    "print(metrics.classification_report(y_test, y_predict_DT_tf))\n",
    "print(metrics.accuracy_score(y_test, y_predict_DT_tf))"
   ]
  },
  {
   "cell_type": "markdown",
   "id": "c5d562e4",
   "metadata": {
    "papermill": {
     "duration": 0.032917,
     "end_time": "2023-06-19T05:24:00.492635",
     "exception": false,
     "start_time": "2023-06-19T05:24:00.459718",
     "status": "completed"
    },
    "tags": []
   },
   "source": [
    "## Gradient Boosting "
   ]
  },
  {
   "cell_type": "code",
   "execution_count": 34,
   "id": "8280141c",
   "metadata": {
    "execution": {
     "iopub.execute_input": "2023-06-19T05:24:00.559878Z",
     "iopub.status.busy": "2023-06-19T05:24:00.559135Z",
     "iopub.status.idle": "2023-06-19T05:26:38.855722Z",
     "shell.execute_reply": "2023-06-19T05:26:38.854003Z"
    },
    "papermill": {
     "duration": 158.333831,
     "end_time": "2023-06-19T05:26:38.859027",
     "exception": false,
     "start_time": "2023-06-19T05:24:00.525196",
     "status": "completed"
    },
    "tags": []
   },
   "outputs": [
    {
     "name": "stdout",
     "output_type": "stream",
     "text": [
      "[[1987  113  980]\n",
      " [ 217  464  845]\n",
      " [ 476  114 3036]]\n",
      "              precision    recall  f1-score   support\n",
      "\n",
      "    Negative       0.74      0.65      0.69      3080\n",
      "     Neutral       0.67      0.30      0.42      1526\n",
      "    Positive       0.62      0.84      0.72      3626\n",
      "\n",
      "    accuracy                           0.67      8232\n",
      "   macro avg       0.68      0.60      0.61      8232\n",
      "weighted avg       0.68      0.67      0.65      8232\n",
      "\n",
      "0.6665451895043731\n"
     ]
    }
   ],
   "source": [
    "model_GB_tf = GradientBoostingClassifier(learning_rate= 0.1, max_depth=3, n_estimators= 100,subsample=1.0) \n",
    "model_GB_tf.fit(X_temp, y_temp)\n",
    "y_predict_GB_tf = model_GB_tf.predict(X_test)\n",
    "a=(model_GB_tf.score(X_test,y_test))\n",
    "accuracy['TF-IDF'].append(a)\n",
    "print(metrics.confusion_matrix(y_test, y_predict_GB_tf))\n",
    "print(metrics.classification_report(y_test, y_predict_GB_tf))\n",
    "print(metrics.accuracy_score(y_test, y_predict_GB_tf))"
   ]
  },
  {
   "cell_type": "markdown",
   "id": "cc80b08d",
   "metadata": {
    "papermill": {
     "duration": 0.033058,
     "end_time": "2023-06-19T05:26:38.925524",
     "exception": false,
     "start_time": "2023-06-19T05:26:38.892466",
     "status": "completed"
    },
    "tags": []
   },
   "source": [
    "## Random Forest"
   ]
  },
  {
   "cell_type": "code",
   "execution_count": 35,
   "id": "f5b3caa8",
   "metadata": {
    "execution": {
     "iopub.execute_input": "2023-06-19T05:26:38.995865Z",
     "iopub.status.busy": "2023-06-19T05:26:38.994562Z",
     "iopub.status.idle": "2023-06-19T05:27:09.954245Z",
     "shell.execute_reply": "2023-06-19T05:27:09.952766Z"
    },
    "papermill": {
     "duration": 30.997109,
     "end_time": "2023-06-19T05:27:09.957019",
     "exception": false,
     "start_time": "2023-06-19T05:26:38.959910",
     "status": "completed"
    },
    "tags": []
   },
   "outputs": [
    {
     "name": "stdout",
     "output_type": "stream",
     "text": [
      "[[2201  194  685]\n",
      " [ 245  906  375]\n",
      " [ 441  221 2964]]\n",
      "              precision    recall  f1-score   support\n",
      "\n",
      "    Negative       0.76      0.71      0.74      3080\n",
      "     Neutral       0.69      0.59      0.64      1526\n",
      "    Positive       0.74      0.82      0.77      3626\n",
      "\n",
      "    accuracy                           0.74      8232\n",
      "   macro avg       0.73      0.71      0.72      8232\n",
      "weighted avg       0.74      0.74      0.74      8232\n",
      "\n",
      "0.7374878522837707\n"
     ]
    }
   ],
   "source": [
    "model_RF_tf = RandomForestClassifier(n_estimators= 100, max_features = 'log2')\n",
    "model_RF_tf.fit(X_temp, y_temp)\n",
    "y_predict_RF_tf = model_RF_tf.predict(X_test)\n",
    "a=(model_RF_tf.score(X_test,y_test))\n",
    "accuracy['TF-IDF'].append(a)\n",
    "\n",
    "print(metrics.confusion_matrix(y_test, y_predict_RF_tf))\n",
    "print(metrics.classification_report(y_test, y_predict_RF_tf))\n",
    "print(metrics.accuracy_score(y_test, y_predict_RF_tf))"
   ]
  },
  {
   "cell_type": "markdown",
   "id": "de94fce4",
   "metadata": {
    "papermill": {
     "duration": 0.032577,
     "end_time": "2023-06-19T05:27:10.023198",
     "exception": false,
     "start_time": "2023-06-19T05:27:09.990621",
     "status": "completed"
    },
    "tags": []
   },
   "source": [
    "## K Nearest Neighbour"
   ]
  },
  {
   "cell_type": "code",
   "execution_count": 36,
   "id": "0da841b6",
   "metadata": {
    "execution": {
     "iopub.execute_input": "2023-06-19T05:27:10.091661Z",
     "iopub.status.busy": "2023-06-19T05:27:10.091253Z",
     "iopub.status.idle": "2023-06-19T05:32:50.301508Z",
     "shell.execute_reply": "2023-06-19T05:32:50.299832Z"
    },
    "papermill": {
     "duration": 340.249526,
     "end_time": "2023-06-19T05:32:50.305614",
     "exception": false,
     "start_time": "2023-06-19T05:27:10.056088",
     "status": "completed"
    },
    "tags": []
   },
   "outputs": [
    {
     "name": "stdout",
     "output_type": "stream",
     "text": [
      "[[ 354 2673   53]\n",
      " [  24 1472   30]\n",
      " [  45 3114  467]]\n",
      "              precision    recall  f1-score   support\n",
      "\n",
      "    Negative       0.84      0.11      0.20      3080\n",
      "     Neutral       0.20      0.96      0.34      1526\n",
      "    Positive       0.85      0.13      0.22      3626\n",
      "\n",
      "    accuracy                           0.28      8232\n",
      "   macro avg       0.63      0.40      0.25      8232\n",
      "weighted avg       0.72      0.28      0.24      8232\n",
      "\n",
      "0.2785471331389699\n"
     ]
    }
   ],
   "source": [
    "model_KN_tf = KNeighborsClassifier(metric= 'manhattan', n_neighbors= 5, weights= 'distance') \n",
    "model_KN_tf.fit(X_temp, y_temp)\n",
    "y_predict_KN_tf = model_KN_tf.predict(X_test)\n",
    "a=(model_KN_tf.score(X_test,y_test))\n",
    "accuracy['TF-IDF'].append(a)\n",
    "\n",
    "print(metrics.confusion_matrix(y_test, y_predict_KN_tf))\n",
    "print(metrics.classification_report(y_test, y_predict_KN_tf))\n",
    "print(metrics.accuracy_score(y_test, y_predict_KN_tf))"
   ]
  },
  {
   "cell_type": "markdown",
   "id": "5c507ca6",
   "metadata": {
    "papermill": {
     "duration": 0.035287,
     "end_time": "2023-06-19T05:32:50.379490",
     "exception": false,
     "start_time": "2023-06-19T05:32:50.344203",
     "status": "completed"
    },
    "tags": []
   },
   "source": [
    "# Evaluation"
   ]
  },
  {
   "cell_type": "code",
   "execution_count": 37,
   "id": "08642e2c",
   "metadata": {
    "execution": {
     "iopub.execute_input": "2023-06-19T05:32:50.455290Z",
     "iopub.status.busy": "2023-06-19T05:32:50.454447Z",
     "iopub.status.idle": "2023-06-19T05:32:50.469101Z",
     "shell.execute_reply": "2023-06-19T05:32:50.467885Z"
    },
    "papermill": {
     "duration": 0.056554,
     "end_time": "2023-06-19T05:32:50.471702",
     "exception": false,
     "start_time": "2023-06-19T05:32:50.415148",
     "status": "completed"
    },
    "tags": []
   },
   "outputs": [
    {
     "data": {
      "text/html": [
       "<div>\n",
       "<style scoped>\n",
       "    .dataframe tbody tr th:only-of-type {\n",
       "        vertical-align: middle;\n",
       "    }\n",
       "\n",
       "    .dataframe tbody tr th {\n",
       "        vertical-align: top;\n",
       "    }\n",
       "\n",
       "    .dataframe thead th {\n",
       "        text-align: right;\n",
       "    }\n",
       "</style>\n",
       "<table border=\"1\" class=\"dataframe\">\n",
       "  <thead>\n",
       "    <tr style=\"text-align: right;\">\n",
       "      <th></th>\n",
       "      <th>model</th>\n",
       "      <th>accuracy</th>\n",
       "    </tr>\n",
       "  </thead>\n",
       "  <tbody>\n",
       "    <tr>\n",
       "      <th>0</th>\n",
       "      <td>LR</td>\n",
       "      <td>0.761297</td>\n",
       "    </tr>\n",
       "    <tr>\n",
       "      <th>1</th>\n",
       "      <td>DT</td>\n",
       "      <td>0.495991</td>\n",
       "    </tr>\n",
       "    <tr>\n",
       "      <th>2</th>\n",
       "      <td>GB</td>\n",
       "      <td>0.666545</td>\n",
       "    </tr>\n",
       "    <tr>\n",
       "      <th>3</th>\n",
       "      <td>RF</td>\n",
       "      <td>0.737488</td>\n",
       "    </tr>\n",
       "    <tr>\n",
       "      <th>4</th>\n",
       "      <td>KN</td>\n",
       "      <td>0.278547</td>\n",
       "    </tr>\n",
       "  </tbody>\n",
       "</table>\n",
       "</div>"
      ],
      "text/plain": [
       "  model  accuracy\n",
       "0    LR  0.761297\n",
       "1    DT  0.495991\n",
       "2    GB  0.666545\n",
       "3    RF  0.737488\n",
       "4    KN  0.278547"
      ]
     },
     "execution_count": 37,
     "metadata": {},
     "output_type": "execute_result"
    }
   ],
   "source": [
    "model = ['LR','DT','GB','RF','KN']\n",
    "data = {'model': model,'accuracy': accuracy['TF-IDF']}\n",
    "compare_models = pd.DataFrame(data)\n",
    "compare_models"
   ]
  },
  {
   "cell_type": "code",
   "execution_count": 38,
   "id": "a1950b60",
   "metadata": {
    "execution": {
     "iopub.execute_input": "2023-06-19T05:32:50.545560Z",
     "iopub.status.busy": "2023-06-19T05:32:50.544861Z",
     "iopub.status.idle": "2023-06-19T05:32:50.780460Z",
     "shell.execute_reply": "2023-06-19T05:32:50.779319Z"
    },
    "papermill": {
     "duration": 0.276296,
     "end_time": "2023-06-19T05:32:50.783116",
     "exception": false,
     "start_time": "2023-06-19T05:32:50.506820",
     "status": "completed"
    },
    "tags": []
   },
   "outputs": [
    {
     "data": {
      "image/png": "[encoded data removed]",
      "text/plain": [
       "<Figure size 1000x800 with 1 Axes>"
      ]
     },
     "metadata": {},
     "output_type": "display_data"
    }
   ],
   "source": [
    "x, y = compare_models['model'],compare_models['accuracy']\n",
    "ind = np.arange(len(y))\n",
    "fig, ax = plt.subplots(figsize=(10,8))\n",
    "ax.bar(ind, y)\n",
    "ax.set_xticks(ind)\n",
    "ax.set_xticklabels(x)\n",
    "ax.bar_label(ax.containers[0])\n",
    "ax.tick_params(axis='both', which='major', labelsize=16)\n",
    "ax.tick_params(axis='both', which='minor', labelsize=12)\n",
    "plt.show()\n",
    "#fig.savefig('Comparision of Models, TFIDF.pdf', format='pdf', bbox_inches = \"tight\")"
   ]
  },
  {
   "cell_type": "markdown",
   "id": "644ecf11",
   "metadata": {
    "papermill": {
     "duration": 0.034059,
     "end_time": "2023-06-19T05:32:50.852103",
     "exception": false,
     "start_time": "2023-06-19T05:32:50.818044",
     "status": "completed"
    },
    "tags": []
   },
   "source": [
    "## BoW"
   ]
  },
  {
   "cell_type": "code",
   "execution_count": 39,
   "id": "3228d161",
   "metadata": {
    "execution": {
     "iopub.execute_input": "2023-06-19T05:32:50.923534Z",
     "iopub.status.busy": "2023-06-19T05:32:50.922878Z",
     "iopub.status.idle": "2023-06-19T05:32:51.144742Z",
     "shell.execute_reply": "2023-06-19T05:32:51.143282Z"
    },
    "papermill": {
     "duration": 0.261169,
     "end_time": "2023-06-19T05:32:51.147656",
     "exception": false,
     "start_time": "2023-06-19T05:32:50.886487",
     "status": "completed"
    },
    "tags": []
   },
   "outputs": [],
   "source": [
    "train = pd.read_csv(\"/kaggle/input/covid-19-nlp-text-classification/Corona_NLP_train.csv\", encoding='latin-1')\n",
    "test = pd.read_csv(\"/kaggle/input/covid-19-nlp-text-classification/Corona_NLP_test.csv\", encoding='latin-1')"
   ]
  },
  {
   "cell_type": "code",
   "execution_count": 40,
   "id": "79bc7626",
   "metadata": {
    "execution": {
     "iopub.execute_input": "2023-06-19T05:32:51.220194Z",
     "iopub.status.busy": "2023-06-19T05:32:51.219504Z",
     "iopub.status.idle": "2023-06-19T05:32:51.228555Z",
     "shell.execute_reply": "2023-06-19T05:32:51.227585Z"
    },
    "papermill": {
     "duration": 0.04801,
     "end_time": "2023-06-19T05:32:51.230961",
     "exception": false,
     "start_time": "2023-06-19T05:32:51.182951",
     "status": "completed"
    },
    "tags": []
   },
   "outputs": [],
   "source": [
    "train=train.drop(['UserName', 'ScreenName', 'Location', 'TweetAt'], axis = 1)\n",
    "\n"
   ]
  },
  {
   "cell_type": "code",
   "execution_count": 41,
   "id": "789ff80d",
   "metadata": {
    "execution": {
     "iopub.execute_input": "2023-06-19T05:32:51.302946Z",
     "iopub.status.busy": "2023-06-19T05:32:51.301593Z",
     "iopub.status.idle": "2023-06-19T05:32:51.309871Z",
     "shell.execute_reply": "2023-06-19T05:32:51.308933Z"
    },
    "papermill": {
     "duration": 0.046997,
     "end_time": "2023-06-19T05:32:51.312673",
     "exception": false,
     "start_time": "2023-06-19T05:32:51.265676",
     "status": "completed"
    },
    "tags": []
   },
   "outputs": [],
   "source": [
    "dff = train.drop(['Sentiment'], axis = 1)\n"
   ]
  },
  {
   "cell_type": "code",
   "execution_count": 42,
   "id": "3e75b3f9",
   "metadata": {
    "execution": {
     "iopub.execute_input": "2023-06-19T05:32:51.383465Z",
     "iopub.status.busy": "2023-06-19T05:32:51.382791Z",
     "iopub.status.idle": "2023-06-19T05:32:51.409840Z",
     "shell.execute_reply": "2023-06-19T05:32:51.408993Z"
    },
    "papermill": {
     "duration": 0.065606,
     "end_time": "2023-06-19T05:32:51.412492",
     "exception": false,
     "start_time": "2023-06-19T05:32:51.346886",
     "status": "completed"
    },
    "tags": []
   },
   "outputs": [],
   "source": [
    "X_temp, X_test, y_temp, y_test = train_test_split(dff, list(train.Sentiment), test_size=0.2)\n"
   ]
  },
  {
   "cell_type": "code",
   "execution_count": 43,
   "id": "27a4fcf2",
   "metadata": {
    "execution": {
     "iopub.execute_input": "2023-06-19T05:32:51.484610Z",
     "iopub.status.busy": "2023-06-19T05:32:51.483945Z",
     "iopub.status.idle": "2023-06-19T05:32:51.491571Z",
     "shell.execute_reply": "2023-06-19T05:32:51.490314Z"
    },
    "papermill": {
     "duration": 0.047512,
     "end_time": "2023-06-19T05:32:51.494067",
     "exception": false,
     "start_time": "2023-06-19T05:32:51.446555",
     "status": "completed"
    },
    "tags": []
   },
   "outputs": [
    {
     "data": {
      "text/plain": [
       "((8232, 1), (32925, 1), 8232, 32925)"
      ]
     },
     "execution_count": 43,
     "metadata": {},
     "output_type": "execute_result"
    }
   ],
   "source": [
    "X_test.shape, X_temp.shape, len(y_test), len(y_temp)\n"
   ]
  },
  {
   "cell_type": "code",
   "execution_count": 44,
   "id": "bc79d341",
   "metadata": {
    "execution": {
     "iopub.execute_input": "2023-06-19T05:32:51.564635Z",
     "iopub.status.busy": "2023-06-19T05:32:51.564003Z",
     "iopub.status.idle": "2023-06-19T05:32:51.571349Z",
     "shell.execute_reply": "2023-06-19T05:32:51.570283Z"
    },
    "papermill": {
     "duration": 0.045887,
     "end_time": "2023-06-19T05:32:51.573990",
     "exception": false,
     "start_time": "2023-06-19T05:32:51.528103",
     "status": "completed"
    },
    "tags": []
   },
   "outputs": [],
   "source": [
    "X_temp['label'] = y_temp\n"
   ]
  },
  {
   "cell_type": "code",
   "execution_count": 45,
   "id": "073ce192",
   "metadata": {
    "execution": {
     "iopub.execute_input": "2023-06-19T05:32:51.645529Z",
     "iopub.status.busy": "2023-06-19T05:32:51.644575Z",
     "iopub.status.idle": "2023-06-19T05:32:51.656261Z",
     "shell.execute_reply": "2023-06-19T05:32:51.655102Z"
    },
    "papermill": {
     "duration": 0.051303,
     "end_time": "2023-06-19T05:32:51.659625",
     "exception": false,
     "start_time": "2023-06-19T05:32:51.608322",
     "status": "completed"
    },
    "tags": []
   },
   "outputs": [
    {
     "data": {
      "text/html": [
       "<div>\n",
       "<style scoped>\n",
       "    .dataframe tbody tr th:only-of-type {\n",
       "        vertical-align: middle;\n",
       "    }\n",
       "\n",
       "    .dataframe tbody tr th {\n",
       "        vertical-align: top;\n",
       "    }\n",
       "\n",
       "    .dataframe thead th {\n",
       "        text-align: right;\n",
       "    }\n",
       "</style>\n",
       "<table border=\"1\" class=\"dataframe\">\n",
       "  <thead>\n",
       "    <tr style=\"text-align: right;\">\n",
       "      <th></th>\n",
       "      <th>OriginalTweet</th>\n",
       "      <th>label</th>\n",
       "    </tr>\n",
       "  </thead>\n",
       "  <tbody>\n",
       "    <tr>\n",
       "      <th>39397</th>\n",
       "      <td>Let's talk covid-19 and its impact on online s...</td>\n",
       "      <td>Positive</td>\n",
       "    </tr>\n",
       "    <tr>\n",
       "      <th>40853</th>\n",
       "      <td>Brain, Nervous System Affected in 1 in 3 Cases...</td>\n",
       "      <td>Extremely Negative</td>\n",
       "    </tr>\n",
       "    <tr>\n",
       "      <th>24186</th>\n",
       "      <td>???URGENT. A large, multi-site trial exploring...</td>\n",
       "      <td>Positive</td>\n",
       "    </tr>\n",
       "    <tr>\n",
       "      <th>30760</th>\n",
       "      <td>?? 2nd walk of the day\\r\\r\\n??? Sunbathing\\r\\r...</td>\n",
       "      <td>Neutral</td>\n",
       "    </tr>\n",
       "    <tr>\n",
       "      <th>23108</th>\n",
       "      <td>We can fight against COVID 19 only by keeping ...</td>\n",
       "      <td>Negative</td>\n",
       "    </tr>\n",
       "  </tbody>\n",
       "</table>\n",
       "</div>"
      ],
      "text/plain": [
       "                                           OriginalTweet               label\n",
       "39397  Let's talk covid-19 and its impact on online s...            Positive\n",
       "40853  Brain, Nervous System Affected in 1 in 3 Cases...  Extremely Negative\n",
       "24186  ???URGENT. A large, multi-site trial exploring...            Positive\n",
       "30760  ?? 2nd walk of the day\\r\\r\\n??? Sunbathing\\r\\r...             Neutral\n",
       "23108  We can fight against COVID 19 only by keeping ...            Negative"
      ]
     },
     "execution_count": 45,
     "metadata": {},
     "output_type": "execute_result"
    }
   ],
   "source": [
    "X_temp.head()"
   ]
  },
  {
   "cell_type": "code",
   "execution_count": 46,
   "id": "73caf52f",
   "metadata": {
    "execution": {
     "iopub.execute_input": "2023-06-19T05:32:51.731757Z",
     "iopub.status.busy": "2023-06-19T05:32:51.731128Z",
     "iopub.status.idle": "2023-06-19T05:32:51.784182Z",
     "shell.execute_reply": "2023-06-19T05:32:51.782888Z"
    },
    "papermill": {
     "duration": 0.091933,
     "end_time": "2023-06-19T05:32:51.787095",
     "exception": false,
     "start_time": "2023-06-19T05:32:51.695162",
     "status": "completed"
    },
    "tags": []
   },
   "outputs": [
    {
     "data": {
      "text/plain": [
       "(9098, 8006, 6150, 4413, 5258)"
      ]
     },
     "execution_count": 46,
     "metadata": {},
     "output_type": "execute_result"
    }
   ],
   "source": [
    "Positive = X_temp[X_temp['label'] == 'Positive']\n",
    "Negative = X_temp[X_temp['label'] == 'Negative']\n",
    "Neutral = X_temp[X_temp['label'] == 'Neutral']\n",
    "Extremely_Negative = X_temp[X_temp['label'] == 'Extremely Negative']\n",
    "Extremely_Positive = X_temp[X_temp['label'] == 'Extremely Positive']\n",
    "\n",
    "Positive.shape[0], Negative.shape[0], Neutral.shape[0], Extremely_Negative.shape[0], Extremely_Positive.shape[0]"
   ]
  },
  {
   "cell_type": "code",
   "execution_count": 47,
   "id": "c3339df9",
   "metadata": {
    "execution": {
     "iopub.execute_input": "2023-06-19T05:32:51.859924Z",
     "iopub.status.busy": "2023-06-19T05:32:51.859516Z",
     "iopub.status.idle": "2023-06-19T05:32:51.866594Z",
     "shell.execute_reply": "2023-06-19T05:32:51.865650Z"
    },
    "papermill": {
     "duration": 0.04602,
     "end_time": "2023-06-19T05:32:51.868999",
     "exception": false,
     "start_time": "2023-06-19T05:32:51.822979",
     "status": "completed"
    },
    "tags": []
   },
   "outputs": [],
   "source": [
    "ds = pd.concat([Positive, Negative, Neutral, Extremely_Negative, Extremely_Positive], axis = 0)\n"
   ]
  },
  {
   "cell_type": "code",
   "execution_count": 48,
   "id": "1a115cc2",
   "metadata": {
    "execution": {
     "iopub.execute_input": "2023-06-19T05:32:51.939659Z",
     "iopub.status.busy": "2023-06-19T05:32:51.939202Z",
     "iopub.status.idle": "2023-06-19T05:32:51.954200Z",
     "shell.execute_reply": "2023-06-19T05:32:51.952852Z"
    },
    "papermill": {
     "duration": 0.053399,
     "end_time": "2023-06-19T05:32:51.956965",
     "exception": false,
     "start_time": "2023-06-19T05:32:51.903566",
     "status": "completed"
    },
    "tags": []
   },
   "outputs": [
    {
     "data": {
      "text/html": [
       "<div>\n",
       "<style scoped>\n",
       "    .dataframe tbody tr th:only-of-type {\n",
       "        vertical-align: middle;\n",
       "    }\n",
       "\n",
       "    .dataframe tbody tr th {\n",
       "        vertical-align: top;\n",
       "    }\n",
       "\n",
       "    .dataframe thead th {\n",
       "        text-align: right;\n",
       "    }\n",
       "</style>\n",
       "<table border=\"1\" class=\"dataframe\">\n",
       "  <thead>\n",
       "    <tr style=\"text-align: right;\">\n",
       "      <th></th>\n",
       "      <th>OriginalTweet</th>\n",
       "      <th>label</th>\n",
       "    </tr>\n",
       "  </thead>\n",
       "  <tbody>\n",
       "    <tr>\n",
       "      <th>39397</th>\n",
       "      <td>Let's talk covid-19 and its impact on online s...</td>\n",
       "      <td>Positive</td>\n",
       "    </tr>\n",
       "    <tr>\n",
       "      <th>24186</th>\n",
       "      <td>???URGENT. A large, multi-site trial exploring...</td>\n",
       "      <td>Positive</td>\n",
       "    </tr>\n",
       "    <tr>\n",
       "      <th>33810</th>\n",
       "      <td>Current property prices should not be given to...</td>\n",
       "      <td>Positive</td>\n",
       "    </tr>\n",
       "    <tr>\n",
       "      <th>2176</th>\n",
       "      <td>I was just helping an elderly gentleman in @Te...</td>\n",
       "      <td>Positive</td>\n",
       "    </tr>\n",
       "    <tr>\n",
       "      <th>8117</th>\n",
       "      <td>Wearing a mask is not a crime. #coronavirus ht...</td>\n",
       "      <td>Positive</td>\n",
       "    </tr>\n",
       "    <tr>\n",
       "      <th>...</th>\n",
       "      <td>...</td>\n",
       "      <td>...</td>\n",
       "    </tr>\n",
       "    <tr>\n",
       "      <th>30813</th>\n",
       "      <td>Also...and I know I keep posting this but it's...</td>\n",
       "      <td>Extremely Positive</td>\n",
       "    </tr>\n",
       "    <tr>\n",
       "      <th>33716</th>\n",
       "      <td>Be careful when you are using hand sanitizer b...</td>\n",
       "      <td>Extremely Positive</td>\n",
       "    </tr>\n",
       "    <tr>\n",
       "      <th>32271</th>\n",
       "      <td>#JackDaniels created hand sanitizer and will d...</td>\n",
       "      <td>Extremely Positive</td>\n",
       "    </tr>\n",
       "    <tr>\n",
       "      <th>28138</th>\n",
       "      <td>You ve probably heard the news by now   the go...</td>\n",
       "      <td>Extremely Positive</td>\n",
       "    </tr>\n",
       "    <tr>\n",
       "      <th>33853</th>\n",
       "      <td>We have a plan to help Ontario s food banks wh...</td>\n",
       "      <td>Extremely Positive</td>\n",
       "    </tr>\n",
       "  </tbody>\n",
       "</table>\n",
       "<p>32925 rows × 2 columns</p>\n",
       "</div>"
      ],
      "text/plain": [
       "                                           OriginalTweet               label\n",
       "39397  Let's talk covid-19 and its impact on online s...            Positive\n",
       "24186  ???URGENT. A large, multi-site trial exploring...            Positive\n",
       "33810  Current property prices should not be given to...            Positive\n",
       "2176   I was just helping an elderly gentleman in @Te...            Positive\n",
       "8117   Wearing a mask is not a crime. #coronavirus ht...            Positive\n",
       "...                                                  ...                 ...\n",
       "30813  Also...and I know I keep posting this but it's...  Extremely Positive\n",
       "33716  Be careful when you are using hand sanitizer b...  Extremely Positive\n",
       "32271  #JackDaniels created hand sanitizer and will d...  Extremely Positive\n",
       "28138  You ve probably heard the news by now   the go...  Extremely Positive\n",
       "33853  We have a plan to help Ontario s food banks wh...  Extremely Positive\n",
       "\n",
       "[32925 rows x 2 columns]"
      ]
     },
     "execution_count": 48,
     "metadata": {},
     "output_type": "execute_result"
    }
   ],
   "source": [
    "ds\n"
   ]
  },
  {
   "cell_type": "code",
   "execution_count": 49,
   "id": "d1c78310",
   "metadata": {
    "execution": {
     "iopub.execute_input": "2023-06-19T05:32:52.029444Z",
     "iopub.status.busy": "2023-06-19T05:32:52.029043Z",
     "iopub.status.idle": "2023-06-19T05:32:52.037093Z",
     "shell.execute_reply": "2023-06-19T05:32:52.036125Z"
    },
    "papermill": {
     "duration": 0.047655,
     "end_time": "2023-06-19T05:32:52.039439",
     "exception": false,
     "start_time": "2023-06-19T05:32:51.991784",
     "status": "completed"
    },
    "tags": []
   },
   "outputs": [
    {
     "data": {
      "text/plain": [
       "(8232, 2)"
      ]
     },
     "execution_count": 49,
     "metadata": {},
     "output_type": "execute_result"
    }
   ],
   "source": [
    "testdf = X_test\n",
    "testdf['label'] = y_test\n",
    "testdf.shape"
   ]
  },
  {
   "cell_type": "code",
   "execution_count": 50,
   "id": "08cdea3e",
   "metadata": {
    "execution": {
     "iopub.execute_input": "2023-06-19T05:32:52.113879Z",
     "iopub.status.busy": "2023-06-19T05:32:52.112713Z",
     "iopub.status.idle": "2023-06-19T05:32:52.138134Z",
     "shell.execute_reply": "2023-06-19T05:32:52.136745Z"
    },
    "papermill": {
     "duration": 0.066379,
     "end_time": "2023-06-19T05:32:52.140975",
     "exception": false,
     "start_time": "2023-06-19T05:32:52.074596",
     "status": "completed"
    },
    "tags": []
   },
   "outputs": [
    {
     "data": {
      "text/plain": [
       "(2324, 1911, 1563, 1068, 1366)"
      ]
     },
     "execution_count": 50,
     "metadata": {},
     "output_type": "execute_result"
    }
   ],
   "source": [
    "len(testdf[testdf['label']=='Positive']),len(testdf[testdf['label']=='Negative']),len(testdf[testdf['label']=='Neutral']),len(testdf[testdf['label']=='Extremely Negative']),len(testdf[testdf['label']=='Extremely Positive'])\n"
   ]
  },
  {
   "cell_type": "code",
   "execution_count": 51,
   "id": "6266bdd6",
   "metadata": {
    "execution": {
     "iopub.execute_input": "2023-06-19T05:32:52.214387Z",
     "iopub.status.busy": "2023-06-19T05:32:52.213831Z",
     "iopub.status.idle": "2023-06-19T05:32:52.222402Z",
     "shell.execute_reply": "2023-06-19T05:32:52.220744Z"
    },
    "papermill": {
     "duration": 0.048203,
     "end_time": "2023-06-19T05:32:52.225211",
     "exception": false,
     "start_time": "2023-06-19T05:32:52.177008",
     "status": "completed"
    },
    "tags": []
   },
   "outputs": [],
   "source": [
    "ds = pd.concat([ds, testdf], axis = 0)\n"
   ]
  },
  {
   "cell_type": "code",
   "execution_count": 52,
   "id": "d7ea18ce",
   "metadata": {
    "execution": {
     "iopub.execute_input": "2023-06-19T05:32:52.301828Z",
     "iopub.status.busy": "2023-06-19T05:32:52.301383Z",
     "iopub.status.idle": "2023-06-19T05:32:52.360700Z",
     "shell.execute_reply": "2023-06-19T05:32:52.359423Z"
    },
    "papermill": {
     "duration": 0.10017,
     "end_time": "2023-06-19T05:32:52.363665",
     "exception": false,
     "start_time": "2023-06-19T05:32:52.263495",
     "status": "completed"
    },
    "tags": []
   },
   "outputs": [
    {
     "data": {
      "text/plain": [
       "((11422, 2), (9917, 2), (7713, 2), (5481, 2), (6624, 2))"
      ]
     },
     "execution_count": 52,
     "metadata": {},
     "output_type": "execute_result"
    }
   ],
   "source": [
    "ds[ds['label']=='Positive'].shape, ds[ds['label']=='Negative'].shape, ds[ds['label']=='Neutral'].shape, ds[ds['label']=='Extremely Negative'].shape, ds[ds['label']=='Extremely Positive'].shape\n"
   ]
  },
  {
   "cell_type": "code",
   "execution_count": 53,
   "id": "395f47b8",
   "metadata": {
    "execution": {
     "iopub.execute_input": "2023-06-19T05:32:52.436501Z",
     "iopub.status.busy": "2023-06-19T05:32:52.436097Z",
     "iopub.status.idle": "2023-06-19T05:32:54.452248Z",
     "shell.execute_reply": "2023-06-19T05:32:54.451073Z"
    },
    "papermill": {
     "duration": 2.055796,
     "end_time": "2023-06-19T05:32:54.455119",
     "exception": false,
     "start_time": "2023-06-19T05:32:52.399323",
     "status": "completed"
    },
    "tags": []
   },
   "outputs": [],
   "source": [
    "corpus = []\n",
    "for i in range(ds.shape[0]):\n",
    "    corpus.append(ds.iloc[i][0])"
   ]
  },
  {
   "cell_type": "code",
   "execution_count": 54,
   "id": "bc8e4596",
   "metadata": {
    "execution": {
     "iopub.execute_input": "2023-06-19T05:32:54.529050Z",
     "iopub.status.busy": "2023-06-19T05:32:54.528611Z",
     "iopub.status.idle": "2023-06-19T05:32:56.897594Z",
     "shell.execute_reply": "2023-06-19T05:32:56.896209Z"
    },
    "papermill": {
     "duration": 2.409423,
     "end_time": "2023-06-19T05:32:56.900379",
     "exception": false,
     "start_time": "2023-06-19T05:32:54.490956",
     "status": "completed"
    },
    "tags": []
   },
   "outputs": [],
   "source": [
    "vectorizer_train = CountVectorizer(max_features=1000)\n",
    "vocabulary_train = vectorizer_train.fit_transform(corpus)\n",
    "bow = pd.DataFrame(vocabulary_train.toarray(), columns = vectorizer_train.get_feature_names_out())"
   ]
  },
  {
   "cell_type": "code",
   "execution_count": 55,
   "id": "8d81d318",
   "metadata": {
    "execution": {
     "iopub.execute_input": "2023-06-19T05:32:56.975474Z",
     "iopub.status.busy": "2023-06-19T05:32:56.974516Z",
     "iopub.status.idle": "2023-06-19T05:32:56.989056Z",
     "shell.execute_reply": "2023-06-19T05:32:56.987670Z"
    },
    "papermill": {
     "duration": 0.056149,
     "end_time": "2023-06-19T05:32:56.992173",
     "exception": false,
     "start_time": "2023-06-19T05:32:56.936024",
     "status": "completed"
    },
    "tags": []
   },
   "outputs": [],
   "source": [
    "bow['labelxyz'] = list(ds.label)"
   ]
  },
  {
   "cell_type": "code",
   "execution_count": 56,
   "id": "43f823c4",
   "metadata": {
    "execution": {
     "iopub.execute_input": "2023-06-19T05:32:57.065536Z",
     "iopub.status.busy": "2023-06-19T05:32:57.065122Z",
     "iopub.status.idle": "2023-06-19T05:32:57.734141Z",
     "shell.execute_reply": "2023-06-19T05:32:57.732695Z"
    },
    "papermill": {
     "duration": 0.709163,
     "end_time": "2023-06-19T05:32:57.737340",
     "exception": false,
     "start_time": "2023-06-19T05:32:57.028177",
     "status": "completed"
    },
    "tags": []
   },
   "outputs": [],
   "source": [
    "bow_positive = bow[bow.labelxyz == 'Positive']\n",
    "bow_negative = bow[bow.labelxyz == 'Negative']\n",
    "bow_neutral = bow[bow.labelxyz == 'Neutral']\n",
    "bow_extremely_negative = bow[bow.labelxyz == 'Extremely Negative']\n",
    "bow_extremely_positive = bow[bow.labelxyz == 'Extremely Positive']\n",
    "\n",
    "\n",
    "\n",
    "X_train_positive = bow_positive.sample(frac=0.8, random_state=0)\n",
    "X_test_positive = bow_positive.drop(X_train_positive.index)\n",
    "X_train_negative = bow_negative.sample(frac=0.8, random_state=0)\n",
    "X_test_negative = bow_negative.drop(X_train_negative.index)\n",
    "X_train_neutral = bow_neutral.sample(frac=0.8, random_state=0)\n",
    "X_test_neutral = bow_neutral.drop(X_train_neutral.index)\n",
    "X_train_extremely_negative = bow_extremely_negative.sample(frac=0.8, random_state=0)\n",
    "X_test_extremely_negative = bow_extremely_negative.drop(X_train_extremely_negative.index)\n",
    "X_train_extremely_positive = bow_extremely_positive.sample(frac=0.8, random_state=0)\n",
    "X_test_extremely_positive = bow_extremely_positive.drop(X_train_extremely_positive.index)\n",
    "\n",
    "X_train_df = pd.concat([X_train_positive, X_train_negative, X_train_neutral, X_train_extremely_negative, X_train_extremely_positive], axis = 0)\n",
    "bow_train = X_train_df.drop(['labelxyz'], axis = 1)\n",
    "y_train = list(X_train_df.labelxyz)\n",
    "X_test_df = pd.concat([X_test_positive, X_test_negative, X_test_neutral, X_test_extremely_negative, X_test_extremely_positive], axis = 0)\n",
    "bow_test = X_test_df.drop(['labelxyz'], axis = 1)\n",
    "y_test = list(X_test_df.labelxyz)"
   ]
  },
  {
   "cell_type": "code",
   "execution_count": 57,
   "id": "e6e57cf3",
   "metadata": {
    "execution": {
     "iopub.execute_input": "2023-06-19T05:32:57.812716Z",
     "iopub.status.busy": "2023-06-19T05:32:57.811843Z",
     "iopub.status.idle": "2023-06-19T05:32:57.817453Z",
     "shell.execute_reply": "2023-06-19T05:32:57.816552Z"
    },
    "papermill": {
     "duration": 0.045959,
     "end_time": "2023-06-19T05:32:57.820137",
     "exception": false,
     "start_time": "2023-06-19T05:32:57.774178",
     "status": "completed"
    },
    "tags": []
   },
   "outputs": [],
   "source": [
    "model = ['LR','RF','DT','KN','GB']\n",
    "accuracy = {'BOW':[]}"
   ]
  },
  {
   "cell_type": "markdown",
   "id": "f48361f4",
   "metadata": {
    "papermill": {
     "duration": 0.034941,
     "end_time": "2023-06-19T05:32:57.890304",
     "exception": false,
     "start_time": "2023-06-19T05:32:57.855363",
     "status": "completed"
    },
    "tags": []
   },
   "source": [
    "# Models"
   ]
  },
  {
   "cell_type": "markdown",
   "id": "9f8c228a",
   "metadata": {
    "papermill": {
     "duration": 0.034857,
     "end_time": "2023-06-19T05:32:57.960315",
     "exception": false,
     "start_time": "2023-06-19T05:32:57.925458",
     "status": "completed"
    },
    "tags": []
   },
   "source": [
    "## Logistic Regression"
   ]
  },
  {
   "cell_type": "code",
   "execution_count": 58,
   "id": "7ea658e9",
   "metadata": {
    "execution": {
     "iopub.execute_input": "2023-06-19T05:32:58.035068Z",
     "iopub.status.busy": "2023-06-19T05:32:58.034231Z",
     "iopub.status.idle": "2023-06-19T05:33:02.546188Z",
     "shell.execute_reply": "2023-06-19T05:33:02.543989Z"
    },
    "papermill": {
     "duration": 4.554219,
     "end_time": "2023-06-19T05:33:02.549673",
     "exception": false,
     "start_time": "2023-06-19T05:32:57.995454",
     "status": "completed"
    },
    "tags": []
   },
   "outputs": [
    {
     "name": "stdout",
     "output_type": "stream",
     "text": [
      "[[ 576   25  310  100   85]\n",
      " [  18  848   62   60  337]\n",
      " [ 321   69  840  358  395]\n",
      " [  21   29  144 1151  198]\n",
      " [  79  395  345  382 1083]]\n",
      "                    precision    recall  f1-score   support\n",
      "\n",
      "Extremely Negative       0.57      0.53      0.55      1096\n",
      "Extremely Positive       0.62      0.64      0.63      1325\n",
      "          Negative       0.49      0.42      0.46      1983\n",
      "           Neutral       0.56      0.75      0.64      1543\n",
      "          Positive       0.52      0.47      0.49      2284\n",
      "\n",
      "          accuracy                           0.55      8231\n",
      "         macro avg       0.55      0.56      0.55      8231\n",
      "      weighted avg       0.54      0.55      0.54      8231\n",
      "\n",
      "0.5464706597011298\n"
     ]
    }
   ],
   "source": [
    "regressor_LR_bow = LogisticRegression(C= 1.0, penalty='l2', solver= 'liblinear')\n",
    "regressor_LR_bow.fit(bow_train,y_train)\n",
    "y_predict_LR_bow = regressor_LR_bow.predict(bow_test)\n",
    "a=(regressor_LR_bow.score(bow_test,y_test))\n",
    "accuracy['BOW'].append(a)\n",
    "print(metrics.confusion_matrix(y_test, y_predict_LR_bow))\n",
    "print(metrics.classification_report(y_test, y_predict_LR_bow))\n",
    "print(metrics.accuracy_score(y_test, y_predict_LR_bow))"
   ]
  },
  {
   "cell_type": "markdown",
   "id": "9c407a7f",
   "metadata": {
    "papermill": {
     "duration": 0.035835,
     "end_time": "2023-06-19T05:33:02.622755",
     "exception": false,
     "start_time": "2023-06-19T05:33:02.586920",
     "status": "completed"
    },
    "tags": []
   },
   "source": [
    "## Random Forest"
   ]
  },
  {
   "cell_type": "code",
   "execution_count": 59,
   "id": "58dfa540",
   "metadata": {
    "execution": {
     "iopub.execute_input": "2023-06-19T05:33:02.696381Z",
     "iopub.status.busy": "2023-06-19T05:33:02.695989Z",
     "iopub.status.idle": "2023-06-19T05:38:45.559665Z",
     "shell.execute_reply": "2023-06-19T05:38:45.558316Z"
    },
    "papermill": {
     "duration": 342.93833,
     "end_time": "2023-06-19T05:38:45.597213",
     "exception": false,
     "start_time": "2023-06-19T05:33:02.658883",
     "status": "completed"
    },
    "tags": []
   },
   "outputs": [
    {
     "name": "stdout",
     "output_type": "stream",
     "text": [
      "[[ 419   20  397   73  187]\n",
      " [  14  594   79   52  586]\n",
      " [ 179   44  939  309  512]\n",
      " [   7   18  184  968  366]\n",
      " [  54  191  368  313 1358]]\n",
      "                    precision    recall  f1-score   support\n",
      "\n",
      "Extremely Negative       0.62      0.38      0.47      1096\n",
      "Extremely Positive       0.69      0.45      0.54      1325\n",
      "          Negative       0.48      0.47      0.48      1983\n",
      "           Neutral       0.56      0.63      0.59      1543\n",
      "          Positive       0.45      0.59      0.51      2284\n",
      "\n",
      "          accuracy                           0.52      8231\n",
      "         macro avg       0.56      0.51      0.52      8231\n",
      "      weighted avg       0.54      0.52      0.52      8231\n",
      "\n",
      "0.519742437127931\n"
     ]
    }
   ],
   "source": [
    "model_RF_bow = RandomForestClassifier(max_features='sqrt', n_estimators= 1000)\n",
    "model_RF_bow.fit(bow_train,y_train)\n",
    "y_predict_RF_bow = model_RF_bow.predict(bow_test)\n",
    "a=(model_RF_bow.score(bow_test,y_test))\n",
    "accuracy['BOW'].append(a)\n",
    "print(metrics.confusion_matrix(y_test, y_predict_RF_bow))\n",
    "print(metrics.classification_report(y_test, y_predict_RF_bow))\n",
    "print(metrics.accuracy_score(y_test, y_predict_RF_bow))"
   ]
  },
  {
   "cell_type": "markdown",
   "id": "a6e23e80",
   "metadata": {
    "papermill": {
     "duration": 0.035294,
     "end_time": "2023-06-19T05:38:45.667690",
     "exception": false,
     "start_time": "2023-06-19T05:38:45.632396",
     "status": "completed"
    },
    "tags": []
   },
   "source": [
    "## Decision Tree"
   ]
  },
  {
   "cell_type": "code",
   "execution_count": 60,
   "id": "84de6f96",
   "metadata": {
    "execution": {
     "iopub.execute_input": "2023-06-19T05:38:45.743274Z",
     "iopub.status.busy": "2023-06-19T05:38:45.742874Z",
     "iopub.status.idle": "2023-06-19T05:38:47.060492Z",
     "shell.execute_reply": "2023-06-19T05:38:47.058888Z"
    },
    "papermill": {
     "duration": 1.359411,
     "end_time": "2023-06-19T05:38:47.063272",
     "exception": false,
     "start_time": "2023-06-19T05:38:45.703861",
     "status": "completed"
    },
    "tags": []
   },
   "outputs": [
    {
     "name": "stdout",
     "output_type": "stream",
     "text": [
      "[[ 344    0    0    0  752]\n",
      " [  43    0    0    0 1282]\n",
      " [ 292    0    0    0 1691]\n",
      " [  25    0    0    0 1518]\n",
      " [ 108    0    0    0 2176]]\n",
      "                    precision    recall  f1-score   support\n",
      "\n",
      "Extremely Negative       0.42      0.31      0.36      1096\n",
      "Extremely Positive       0.00      0.00      0.00      1325\n",
      "          Negative       0.00      0.00      0.00      1983\n",
      "           Neutral       0.00      0.00      0.00      1543\n",
      "          Positive       0.29      0.95      0.45      2284\n",
      "\n",
      "          accuracy                           0.31      8231\n",
      "         macro avg       0.14      0.25      0.16      8231\n",
      "      weighted avg       0.14      0.31      0.17      8231\n",
      "\n",
      "0.30615964038391447\n"
     ]
    }
   ],
   "source": [
    "model_DT_bow = DecisionTreeClassifier(criterion= 'gini', max_depth= 2) \n",
    "model_DT_bow.fit(bow_train,y_train)\n",
    "y_predict_DT_bow = model_DT_bow.predict(bow_test)\n",
    "a=(model_DT_bow.score(bow_test,y_test))\n",
    "accuracy['BOW'].append(a)\n",
    "print(metrics.confusion_matrix(y_test, y_predict_DT_bow))\n",
    "print(metrics.classification_report(y_test, y_predict_DT_bow))\n",
    "print(metrics.accuracy_score(y_test, y_predict_DT_bow))"
   ]
  },
  {
   "cell_type": "markdown",
   "id": "01fdd326",
   "metadata": {
    "papermill": {
     "duration": 0.036342,
     "end_time": "2023-06-19T05:38:47.136229",
     "exception": false,
     "start_time": "2023-06-19T05:38:47.099887",
     "status": "completed"
    },
    "tags": []
   },
   "source": [
    "## K Neighbours"
   ]
  },
  {
   "cell_type": "code",
   "execution_count": 61,
   "id": "4c3ef43b",
   "metadata": {
    "execution": {
     "iopub.execute_input": "2023-06-19T05:38:47.212976Z",
     "iopub.status.busy": "2023-06-19T05:38:47.212330Z",
     "iopub.status.idle": "2023-06-19T05:39:16.234651Z",
     "shell.execute_reply": "2023-06-19T05:39:16.233183Z"
    },
    "papermill": {
     "duration": 29.06333,
     "end_time": "2023-06-19T05:39:16.237610",
     "exception": false,
     "start_time": "2023-06-19T05:38:47.174280",
     "status": "completed"
    },
    "tags": []
   },
   "outputs": [
    {
     "name": "stdout",
     "output_type": "stream",
     "text": [
      "[[  71    3  245  672  105]\n",
      " [   6   64  119  829  307]\n",
      " [  32    3  351 1411  186]\n",
      " [   5    5   66 1402   65]\n",
      " [  10   19  226 1636  393]]\n",
      "                    precision    recall  f1-score   support\n",
      "\n",
      "Extremely Negative       0.57      0.06      0.12      1096\n",
      "Extremely Positive       0.68      0.05      0.09      1325\n",
      "          Negative       0.35      0.18      0.23      1983\n",
      "           Neutral       0.24      0.91      0.37      1543\n",
      "          Positive       0.37      0.17      0.24      2284\n",
      "\n",
      "          accuracy                           0.28      8231\n",
      "         macro avg       0.44      0.27      0.21      8231\n",
      "      weighted avg       0.42      0.28      0.22      8231\n",
      "\n",
      "0.27712307131575753\n"
     ]
    }
   ],
   "source": [
    "model_KN_bow = KNeighborsClassifier(metric= 'euclidean', n_neighbors= 19, weights= 'distance') \n",
    "model_KN_bow.fit(bow_train,y_train)\n",
    "y_predict_KN_bow = model_KN_bow.predict(bow_test)\n",
    "a=(model_KN_bow.score(bow_test,y_test))\n",
    "accuracy['BOW'].append(a)\n",
    "print(metrics.confusion_matrix(y_test, y_predict_KN_bow))\n",
    "print(metrics.classification_report(y_test, y_predict_KN_bow))\n",
    "print(metrics.accuracy_score(y_test, y_predict_KN_bow))"
   ]
  },
  {
   "cell_type": "markdown",
   "id": "78c4a4d0",
   "metadata": {
    "papermill": {
     "duration": 0.036362,
     "end_time": "2023-06-19T05:39:16.310568",
     "exception": false,
     "start_time": "2023-06-19T05:39:16.274206",
     "status": "completed"
    },
    "tags": []
   },
   "source": [
    "## Gradient Boosting"
   ]
  },
  {
   "cell_type": "code",
   "execution_count": 62,
   "id": "62f13199",
   "metadata": {
    "execution": {
     "iopub.execute_input": "2023-06-19T05:39:16.384395Z",
     "iopub.status.busy": "2023-06-19T05:39:16.384004Z",
     "iopub.status.idle": "2023-06-19T05:50:11.030192Z",
     "shell.execute_reply": "2023-06-19T05:50:11.028821Z"
    },
    "papermill": {
     "duration": 654.722718,
     "end_time": "2023-06-19T05:50:11.069130",
     "exception": false,
     "start_time": "2023-06-19T05:39:16.346412",
     "status": "completed"
    },
    "tags": []
   },
   "outputs": [
    {
     "name": "stdout",
     "output_type": "stream",
     "text": [
      "[[ 438   17  325   97  219]\n",
      " [  18  584   56   77  590]\n",
      " [ 231   36  732  387  597]\n",
      " [   6   12   82  918  525]\n",
      " [  58  179  317  383 1347]]\n",
      "                    precision    recall  f1-score   support\n",
      "\n",
      "Extremely Negative       0.58      0.40      0.47      1096\n",
      "Extremely Positive       0.71      0.44      0.54      1325\n",
      "          Negative       0.48      0.37      0.42      1983\n",
      "           Neutral       0.49      0.59      0.54      1543\n",
      "          Positive       0.41      0.59      0.48      2284\n",
      "\n",
      "          accuracy                           0.49      8231\n",
      "         macro avg       0.54      0.48      0.49      8231\n",
      "      weighted avg       0.51      0.49      0.49      8231\n",
      "\n",
      "0.48827602964402866\n"
     ]
    }
   ],
   "source": [
    "model_GB_bow = GradientBoostingClassifier(learning_rate= 0.1, max_depth= 3, n_estimators= 100, subsample= 1.0)\n",
    "model_GB_bow.fit(bow_train,y_train)\n",
    "y_predict_GB_bow = model_GB_bow.predict(bow_test)\n",
    "a=(model_GB_bow.score(bow_test,y_test))\n",
    "accuracy['BOW'].append(a)\n",
    "print(metrics.confusion_matrix(y_test, y_predict_GB_bow))\n",
    "print(metrics.classification_report(y_test, y_predict_GB_bow))\n",
    "print(metrics.accuracy_score(y_test, y_predict_GB_bow))"
   ]
  },
  {
   "cell_type": "markdown",
   "id": "3de8dc89",
   "metadata": {
    "papermill": {
     "duration": 0.036814,
     "end_time": "2023-06-19T05:50:11.142034",
     "exception": false,
     "start_time": "2023-06-19T05:50:11.105220",
     "status": "completed"
    },
    "tags": []
   },
   "source": [
    "## Evaluation"
   ]
  },
  {
   "cell_type": "code",
   "execution_count": 63,
   "id": "9f305239",
   "metadata": {
    "execution": {
     "iopub.execute_input": "2023-06-19T05:50:11.219878Z",
     "iopub.status.busy": "2023-06-19T05:50:11.219441Z",
     "iopub.status.idle": "2023-06-19T05:50:11.232596Z",
     "shell.execute_reply": "2023-06-19T05:50:11.231261Z"
    },
    "papermill": {
     "duration": 0.054679,
     "end_time": "2023-06-19T05:50:11.235167",
     "exception": false,
     "start_time": "2023-06-19T05:50:11.180488",
     "status": "completed"
    },
    "tags": []
   },
   "outputs": [
    {
     "data": {
      "text/html": [
       "<div>\n",
       "<style scoped>\n",
       "    .dataframe tbody tr th:only-of-type {\n",
       "        vertical-align: middle;\n",
       "    }\n",
       "\n",
       "    .dataframe tbody tr th {\n",
       "        vertical-align: top;\n",
       "    }\n",
       "\n",
       "    .dataframe thead th {\n",
       "        text-align: right;\n",
       "    }\n",
       "</style>\n",
       "<table border=\"1\" class=\"dataframe\">\n",
       "  <thead>\n",
       "    <tr style=\"text-align: right;\">\n",
       "      <th></th>\n",
       "      <th>model</th>\n",
       "      <th>accuracy</th>\n",
       "    </tr>\n",
       "  </thead>\n",
       "  <tbody>\n",
       "    <tr>\n",
       "      <th>0</th>\n",
       "      <td>LR</td>\n",
       "      <td>0.546471</td>\n",
       "    </tr>\n",
       "    <tr>\n",
       "      <th>1</th>\n",
       "      <td>RF</td>\n",
       "      <td>0.519742</td>\n",
       "    </tr>\n",
       "    <tr>\n",
       "      <th>2</th>\n",
       "      <td>DT</td>\n",
       "      <td>0.306160</td>\n",
       "    </tr>\n",
       "    <tr>\n",
       "      <th>3</th>\n",
       "      <td>KN</td>\n",
       "      <td>0.277123</td>\n",
       "    </tr>\n",
       "    <tr>\n",
       "      <th>4</th>\n",
       "      <td>GB</td>\n",
       "      <td>0.488276</td>\n",
       "    </tr>\n",
       "  </tbody>\n",
       "</table>\n",
       "</div>"
      ],
      "text/plain": [
       "  model  accuracy\n",
       "0    LR  0.546471\n",
       "1    RF  0.519742\n",
       "2    DT  0.306160\n",
       "3    KN  0.277123\n",
       "4    GB  0.488276"
      ]
     },
     "execution_count": 63,
     "metadata": {},
     "output_type": "execute_result"
    }
   ],
   "source": [
    "data_bow = {'model':model,'accuracy':accuracy['BOW']}\n",
    "compare_models_bow = pd.DataFrame(data_bow)\n",
    "compare_models_bow"
   ]
  },
  {
   "cell_type": "code",
   "execution_count": 64,
   "id": "d9e91e06",
   "metadata": {
    "execution": {
     "iopub.execute_input": "2023-06-19T05:50:11.390157Z",
     "iopub.status.busy": "2023-06-19T05:50:11.389375Z",
     "iopub.status.idle": "2023-06-19T05:50:12.013426Z",
     "shell.execute_reply": "2023-06-19T05:50:12.011858Z"
    },
    "papermill": {
     "duration": 0.667944,
     "end_time": "2023-06-19T05:50:12.018211",
     "exception": false,
     "start_time": "2023-06-19T05:50:11.350267",
     "status": "completed"
    },
    "tags": []
   },
   "outputs": [
    {
     "data": {
      "image/png": "[encoded data removed]",
      "text/plain": [
       "<Figure size 800x500 with 1 Axes>"
      ]
     },
     "metadata": {},
     "output_type": "display_data"
    }
   ],
   "source": [
    "x, y = compare_models_bow['model'],compare_models_bow['accuracy']\n",
    "ind = np.arange(len(y))\n",
    "fig, ax = plt.subplots(figsize=(8,5))\n",
    "ax.bar(ind, y)\n",
    "ax.set_xticks(ind)\n",
    "ax.set_xticklabels(x)\n",
    "ax.bar_label(ax.containers[0])\n",
    "ax.tick_params(axis='both', which='major', labelsize=16)\n",
    "ax.tick_params(axis='both', which='minor', labelsize=12)\n",
    "plt.show()\n",
    "fig.savefig('Comparision of Models, BoW.pdf', format='pdf')"
   ]
  },
  {
   "cell_type": "code",
   "execution_count": 65,
   "id": "eb04318c",
   "metadata": {
    "execution": {
     "iopub.execute_input": "2023-06-19T05:50:12.127425Z",
     "iopub.status.busy": "2023-06-19T05:50:12.126439Z",
     "iopub.status.idle": "2023-06-19T05:50:12.471428Z",
     "shell.execute_reply": "2023-06-19T05:50:12.470200Z"
    },
    "papermill": {
     "duration": 0.386559,
     "end_time": "2023-06-19T05:50:12.474023",
     "exception": false,
     "start_time": "2023-06-19T05:50:12.087464",
     "status": "completed"
    },
    "tags": []
   },
   "outputs": [
    {
     "data": {
      "image/png": "[encoded data removed]",
      "text/plain": [
       "<Figure size 640x480 with 1 Axes>"
      ]
     },
     "metadata": {},
     "output_type": "display_data"
    }
   ],
   "source": [
    "\n",
    "position1 = range(len(model))\n",
    "position2 = [x + 0.2 for x in position1]  # Shifted by 0.2 for side-by-side placement\n",
    "\n",
    "# Create the figure and axes\n",
    "fig, ax = plt.subplots()\n",
    "accuracy1 = [0.571186, 0.309281, 0.479956, 0.544461, 0.258017]\n",
    "accuracy2 = [0.544891, 0.514397, 0.297291, 0.284170, 0.488883]\n",
    "\n",
    "# Plot the bars\n",
    "ax.bar(position1, accuracy2, width=0.4, label='BOW')\n",
    "ax.bar(position2, accuracy1, width=0.4, label='TF-IDF')\n",
    "\n",
    "# Set the x-axis tick positions and labels\n",
    "ax.set_xticks(position1)\n",
    "ax.set_xticklabels(model)\n",
    "ax.bar_label(ax.containers[0])\n",
    "# Set labels and title\n",
    "ax.set_xlabel('Model')\n",
    "ax.set_ylabel('Accuracy')\n",
    "ax.set_title('Comparison of Accuracies')\n",
    "\n",
    "# Add a legend\n",
    "ax.legend()\n",
    "\n",
    "# Show the plot\n",
    "plt.show()"
   ]
  },
  {
   "cell_type": "code",
   "execution_count": null,
   "id": "dc89c098",
   "metadata": {
    "papermill": {
     "duration": 0.038447,
     "end_time": "2023-06-19T05:50:12.549977",
     "exception": false,
     "start_time": "2023-06-19T05:50:12.511530",
     "status": "completed"
    },
    "tags": []
   },
   "outputs": [],
   "source": []
  }
 ],
 "metadata": {
  "kernelspec": {
   "display_name": "Python 3",
   "language": "python",
   "name": "python3"
  },
  "language_info": {
   "codemirror_mode": {
    "name": "ipython",
    "version": 3
   },
   "file_extension": ".py",
   "mimetype": "text/x-python",
   "name": "python",
   "nbconvert_exporter": "python",
   "pygments_lexer": "ipython3",
   "version": "3.10.10"
  },
  "papermill": {
   "default_parameters": {},
   "duration": 1686.10053,
   "end_time": "2023-06-19T05:50:15.516121",
   "environment_variables": {},
   "exception": null,
   "input_path": "__notebook__.ipynb",
   "output_path": "__notebook__.ipynb",
   "parameters": {},
   "start_time": "2023-06-19T05:22:09.415591",
   "version": "2.4.0"
  }
 },
 "nbformat": 4,
 "nbformat_minor": 5
}
