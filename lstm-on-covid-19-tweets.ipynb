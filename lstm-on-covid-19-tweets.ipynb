{
 "cells": [
  {
   "cell_type": "code",
   "execution_count": 1,
   "id": "c58cbc56",
   "metadata": {
    "_cell_guid": "b1076dfc-b9ad-4769-8c92-a6c4dae69d19",
    "_uuid": "8f2839f25d086af736a60e9eeb907d3b93b6e0e5",
    "execution": {
     "iopub.execute_input": "2023-07-14T11:57:59.772453Z",
     "iopub.status.busy": "2023-07-14T11:57:59.772042Z",
     "iopub.status.idle": "2023-07-14T11:57:59.858805Z",
     "shell.execute_reply": "2023-07-14T11:57:59.856577Z"
    },
    "papermill": {
     "duration": 0.102311,
     "end_time": "2023-07-14T11:57:59.861833",
     "exception": false,
     "start_time": "2023-07-14T11:57:59.759522",
     "status": "completed"
    },
    "tags": []
   },
   "outputs": [
    {
     "name": "stdout",
     "output_type": "stream",
     "text": [
      "/kaggle/input/covid-19-nlp-text-classification/Corona_NLP_test.csv\n",
      "/kaggle/input/covid-19-nlp-text-classification/Corona_NLP_train.csv\n"
     ]
    }
   ],
   "source": [
    "# This Python 3 environment comes with many helpful analytics libraries installed\n",
    "# It is defined by the kaggle/python Docker image: https://github.com/kaggle/docker-python\n",
    "# For example, here's several helpful packages to load\n",
    "\n",
    "import numpy as np # linear algebra\n",
    "import pandas as pd # data processing, CSV file I/O (e.g. pd.read_csv)\n",
    "\n",
    "# Input data files are available in the read-only \"../input/\" directory\n",
    "# For example, running this (by clicking run or pressing Shift+Enter) will list all files under the input directory\n",
    "\n",
    "import os\n",
    "for dirname, _, filenames in os.walk('/kaggle/input'):\n",
    "    for filename in filenames:\n",
    "        print(os.path.join(dirname, filename))\n",
    "\n",
    "# You can write up to 20GB to the current directory (/kaggle/working/) that gets preserved as output when you create a version using \"Save & Run All\" \n",
    "# You can also write temporary files to /kaggle/temp/, but they won't be saved outside of the current session"
   ]
  },
  {
   "cell_type": "code",
   "execution_count": 2,
   "id": "658ef6f5",
   "metadata": {
    "execution": {
     "iopub.execute_input": "2023-07-14T11:57:59.881286Z",
     "iopub.status.busy": "2023-07-14T11:57:59.880827Z",
     "iopub.status.idle": "2023-07-14T11:58:13.006339Z",
     "shell.execute_reply": "2023-07-14T11:58:13.004687Z"
    },
    "papermill": {
     "duration": 13.13851,
     "end_time": "2023-07-14T11:58:13.009206",
     "exception": false,
     "start_time": "2023-07-14T11:57:59.870696",
     "status": "completed"
    },
    "tags": []
   },
   "outputs": [
    {
     "name": "stderr",
     "output_type": "stream",
     "text": [
      "/opt/conda/lib/python3.10/site-packages/tensorflow_io/python/ops/__init__.py:98: UserWarning: unable to load libtensorflow_io_plugins.so: unable to open file: libtensorflow_io_plugins.so, from paths: ['/opt/conda/lib/python3.10/site-packages/tensorflow_io/python/ops/libtensorflow_io_plugins.so']\n",
      "caused by: ['/opt/conda/lib/python3.10/site-packages/tensorflow_io/python/ops/libtensorflow_io_plugins.so: undefined symbol: _ZN3tsl6StatusC1EN10tensorflow5error4CodeESt17basic_string_viewIcSt11char_traitsIcEENS_14SourceLocationE']\n",
      "  warnings.warn(f\"unable to load libtensorflow_io_plugins.so: {e}\")\n",
      "/opt/conda/lib/python3.10/site-packages/tensorflow_io/python/ops/__init__.py:104: UserWarning: file system plugins are not loaded: unable to open file: libtensorflow_io.so, from paths: ['/opt/conda/lib/python3.10/site-packages/tensorflow_io/python/ops/libtensorflow_io.so']\n",
      "caused by: ['/opt/conda/lib/python3.10/site-packages/tensorflow_io/python/ops/libtensorflow_io.so: undefined symbol: _ZTVN10tensorflow13GcsFileSystemE']\n",
      "  warnings.warn(f\"file system plugins are not loaded: {e}\")\n"
     ]
    }
   ],
   "source": [
    "import csv\n",
    "import re \n",
    "import string\n",
    "from sklearn.model_selection import train_test_split\n",
    "from sklearn.feature_extraction.text import CountVectorizer\n",
    "from sklearn.feature_extraction.text import TfidfVectorizer\n",
    "import string\n",
    "from nltk.stem import PorterStemmer\n",
    "from nltk.corpus import stopwords\n",
    "\n",
    "from matplotlib import pyplot as plt\n",
    "import seaborn as sns\n",
    "\n",
    "from wordcloud import WordCloud\n",
    "from tensorflow.keras import metrics\n",
    "\n",
    "\n",
    "from sklearn.metrics import precision_score, recall_score, f1_score\n",
    "import seaborn as sns\n",
    "\n",
    "import random\n",
    "\n",
    "from sklearn.feature_extraction.text import CountVectorizer\n",
    "\n",
    "from sklearn.preprocessing import LabelEncoder\n",
    "from keras.models import Sequential\n",
    "from keras.layers import Dense\n",
    "from keras.utils import to_categorical\n",
    "\n",
    "\n",
    "import tensorflow as tf\n",
    "from sklearn.feature_extraction.text import CountVectorizer\n",
    "from sklearn.model_selection import train_test_split\n",
    "from keras.models import Sequential\n",
    "from keras.layers import Dense\n",
    "\n",
    "\n",
    "from scipy.sparse import csr_matrix\n",
    "\n",
    "import tensorflow as tf\n",
    "\n",
    "\n",
    "import warnings\n",
    "warnings.filterwarnings('ignore')\n",
    "\n",
    "\n",
    "\n",
    "from keras.layers import LSTM\n",
    "from tensorflow.keras.layers import Embedding, LSTM, Dense\n",
    "from tensorflow.keras.optimizers import Adam\n",
    "\n",
    "import tensorflow.keras.metrics as metrics\n"
   ]
  },
  {
   "cell_type": "code",
   "execution_count": 3,
   "id": "31304fee",
   "metadata": {
    "execution": {
     "iopub.execute_input": "2023-07-14T11:58:13.028670Z",
     "iopub.status.busy": "2023-07-14T11:58:13.027775Z",
     "iopub.status.idle": "2023-07-14T11:58:13.448436Z",
     "shell.execute_reply": "2023-07-14T11:58:13.446899Z"
    },
    "papermill": {
     "duration": 0.434304,
     "end_time": "2023-07-14T11:58:13.452037",
     "exception": false,
     "start_time": "2023-07-14T11:58:13.017733",
     "status": "completed"
    },
    "tags": []
   },
   "outputs": [],
   "source": [
    "train = pd.read_csv(\"/kaggle/input/covid-19-nlp-text-classification/Corona_NLP_train.csv\", encoding='latin-1')\n",
    "test = pd.read_csv(\"/kaggle/input/covid-19-nlp-text-classification/Corona_NLP_test.csv\", encoding='latin-1')"
   ]
  },
  {
   "cell_type": "code",
   "execution_count": 4,
   "id": "3e9116d6",
   "metadata": {
    "execution": {
     "iopub.execute_input": "2023-07-14T11:58:13.470369Z",
     "iopub.status.busy": "2023-07-14T11:58:13.469398Z",
     "iopub.status.idle": "2023-07-14T11:58:13.507733Z",
     "shell.execute_reply": "2023-07-14T11:58:13.506082Z"
    },
    "papermill": {
     "duration": 0.051268,
     "end_time": "2023-07-14T11:58:13.511089",
     "exception": false,
     "start_time": "2023-07-14T11:58:13.459821",
     "status": "completed"
    },
    "tags": []
   },
   "outputs": [
    {
     "data": {
      "text/html": [
       "<div>\n",
       "<style scoped>\n",
       "    .dataframe tbody tr th:only-of-type {\n",
       "        vertical-align: middle;\n",
       "    }\n",
       "\n",
       "    .dataframe tbody tr th {\n",
       "        vertical-align: top;\n",
       "    }\n",
       "\n",
       "    .dataframe thead th {\n",
       "        text-align: right;\n",
       "    }\n",
       "</style>\n",
       "<table border=\"1\" class=\"dataframe\">\n",
       "  <thead>\n",
       "    <tr style=\"text-align: right;\">\n",
       "      <th></th>\n",
       "      <th>UserName</th>\n",
       "      <th>ScreenName</th>\n",
       "      <th>Location</th>\n",
       "      <th>TweetAt</th>\n",
       "      <th>OriginalTweet</th>\n",
       "      <th>Sentiment</th>\n",
       "    </tr>\n",
       "  </thead>\n",
       "  <tbody>\n",
       "    <tr>\n",
       "      <th>0</th>\n",
       "      <td>3799</td>\n",
       "      <td>48751</td>\n",
       "      <td>London</td>\n",
       "      <td>16-03-2020</td>\n",
       "      <td>@MeNyrbie @Phil_Gahan @Chrisitv https://t.co/i...</td>\n",
       "      <td>Neutral</td>\n",
       "    </tr>\n",
       "    <tr>\n",
       "      <th>1</th>\n",
       "      <td>3800</td>\n",
       "      <td>48752</td>\n",
       "      <td>UK</td>\n",
       "      <td>16-03-2020</td>\n",
       "      <td>advice Talk to your neighbours family to excha...</td>\n",
       "      <td>Positive</td>\n",
       "    </tr>\n",
       "    <tr>\n",
       "      <th>2</th>\n",
       "      <td>3801</td>\n",
       "      <td>48753</td>\n",
       "      <td>Vagabonds</td>\n",
       "      <td>16-03-2020</td>\n",
       "      <td>Coronavirus Australia: Woolworths to give elde...</td>\n",
       "      <td>Positive</td>\n",
       "    </tr>\n",
       "    <tr>\n",
       "      <th>3</th>\n",
       "      <td>3802</td>\n",
       "      <td>48754</td>\n",
       "      <td>NaN</td>\n",
       "      <td>16-03-2020</td>\n",
       "      <td>My food stock is not the only one which is emp...</td>\n",
       "      <td>Positive</td>\n",
       "    </tr>\n",
       "    <tr>\n",
       "      <th>4</th>\n",
       "      <td>3803</td>\n",
       "      <td>48755</td>\n",
       "      <td>NaN</td>\n",
       "      <td>16-03-2020</td>\n",
       "      <td>Me, ready to go at supermarket during the #COV...</td>\n",
       "      <td>Extremely Negative</td>\n",
       "    </tr>\n",
       "    <tr>\n",
       "      <th>5</th>\n",
       "      <td>3804</td>\n",
       "      <td>48756</td>\n",
       "      <td>ÃT: 36.319708,-82.363649</td>\n",
       "      <td>16-03-2020</td>\n",
       "      <td>As news of the regionÂs first confirmed COVID...</td>\n",
       "      <td>Positive</td>\n",
       "    </tr>\n",
       "    <tr>\n",
       "      <th>6</th>\n",
       "      <td>3805</td>\n",
       "      <td>48757</td>\n",
       "      <td>35.926541,-78.753267</td>\n",
       "      <td>16-03-2020</td>\n",
       "      <td>Cashier at grocery store was sharing his insig...</td>\n",
       "      <td>Positive</td>\n",
       "    </tr>\n",
       "    <tr>\n",
       "      <th>7</th>\n",
       "      <td>3806</td>\n",
       "      <td>48758</td>\n",
       "      <td>Austria</td>\n",
       "      <td>16-03-2020</td>\n",
       "      <td>Was at the supermarket today. Didn't buy toile...</td>\n",
       "      <td>Neutral</td>\n",
       "    </tr>\n",
       "    <tr>\n",
       "      <th>8</th>\n",
       "      <td>3807</td>\n",
       "      <td>48759</td>\n",
       "      <td>Atlanta, GA USA</td>\n",
       "      <td>16-03-2020</td>\n",
       "      <td>Due to COVID-19 our retail store and classroom...</td>\n",
       "      <td>Positive</td>\n",
       "    </tr>\n",
       "    <tr>\n",
       "      <th>9</th>\n",
       "      <td>3808</td>\n",
       "      <td>48760</td>\n",
       "      <td>BHAVNAGAR,GUJRAT</td>\n",
       "      <td>16-03-2020</td>\n",
       "      <td>For corona prevention,we should stop to buy th...</td>\n",
       "      <td>Negative</td>\n",
       "    </tr>\n",
       "  </tbody>\n",
       "</table>\n",
       "</div>"
      ],
      "text/plain": [
       "   UserName  ScreenName                   Location     TweetAt  \\\n",
       "0      3799       48751                     London  16-03-2020   \n",
       "1      3800       48752                         UK  16-03-2020   \n",
       "2      3801       48753                  Vagabonds  16-03-2020   \n",
       "3      3802       48754                        NaN  16-03-2020   \n",
       "4      3803       48755                        NaN  16-03-2020   \n",
       "5      3804       48756  ÃT: 36.319708,-82.363649  16-03-2020   \n",
       "6      3805       48757       35.926541,-78.753267  16-03-2020   \n",
       "7      3806       48758                    Austria  16-03-2020   \n",
       "8      3807       48759            Atlanta, GA USA  16-03-2020   \n",
       "9      3808       48760           BHAVNAGAR,GUJRAT  16-03-2020   \n",
       "\n",
       "                                       OriginalTweet           Sentiment  \n",
       "0  @MeNyrbie @Phil_Gahan @Chrisitv https://t.co/i...             Neutral  \n",
       "1  advice Talk to your neighbours family to excha...            Positive  \n",
       "2  Coronavirus Australia: Woolworths to give elde...            Positive  \n",
       "3  My food stock is not the only one which is emp...            Positive  \n",
       "4  Me, ready to go at supermarket during the #COV...  Extremely Negative  \n",
       "5  As news of the regionÂs first confirmed COVID...            Positive  \n",
       "6  Cashier at grocery store was sharing his insig...            Positive  \n",
       "7  Was at the supermarket today. Didn't buy toile...             Neutral  \n",
       "8  Due to COVID-19 our retail store and classroom...            Positive  \n",
       "9  For corona prevention,we should stop to buy th...            Negative  "
      ]
     },
     "execution_count": 4,
     "metadata": {},
     "output_type": "execute_result"
    }
   ],
   "source": [
    "train.head(10)"
   ]
  },
  {
   "cell_type": "code",
   "execution_count": 5,
   "id": "8b908095",
   "metadata": {
    "execution": {
     "iopub.execute_input": "2023-07-14T11:58:13.532509Z",
     "iopub.status.busy": "2023-07-14T11:58:13.531749Z",
     "iopub.status.idle": "2023-07-14T11:58:13.542023Z",
     "shell.execute_reply": "2023-07-14T11:58:13.540605Z"
    },
    "papermill": {
     "duration": 0.023314,
     "end_time": "2023-07-14T11:58:13.544475",
     "exception": false,
     "start_time": "2023-07-14T11:58:13.521161",
     "status": "completed"
    },
    "tags": []
   },
   "outputs": [
    {
     "data": {
      "text/plain": [
       "Index(['UserName', 'ScreenName', 'Location', 'TweetAt', 'OriginalTweet',\n",
       "       'Sentiment'],\n",
       "      dtype='object')"
      ]
     },
     "execution_count": 5,
     "metadata": {},
     "output_type": "execute_result"
    }
   ],
   "source": [
    "train.columns"
   ]
  },
  {
   "cell_type": "code",
   "execution_count": 6,
   "id": "82162300",
   "metadata": {
    "execution": {
     "iopub.execute_input": "2023-07-14T11:58:13.564717Z",
     "iopub.status.busy": "2023-07-14T11:58:13.563712Z",
     "iopub.status.idle": "2023-07-14T11:58:13.592686Z",
     "shell.execute_reply": "2023-07-14T11:58:13.591436Z"
    },
    "papermill": {
     "duration": 0.043483,
     "end_time": "2023-07-14T11:58:13.596246",
     "exception": false,
     "start_time": "2023-07-14T11:58:13.552763",
     "status": "completed"
    },
    "tags": []
   },
   "outputs": [],
   "source": [
    "train = train.drop(columns = 'UserName')\n",
    "train = train.drop(columns = 'ScreenName')\n",
    "train = train.drop(columns = 'Location')\n",
    "train = train.drop(columns = 'TweetAt')"
   ]
  },
  {
   "cell_type": "code",
   "execution_count": 7,
   "id": "c3defa10",
   "metadata": {
    "execution": {
     "iopub.execute_input": "2023-07-14T11:58:13.615820Z",
     "iopub.status.busy": "2023-07-14T11:58:13.615349Z",
     "iopub.status.idle": "2023-07-14T11:58:13.627709Z",
     "shell.execute_reply": "2023-07-14T11:58:13.626495Z"
    },
    "papermill": {
     "duration": 0.025288,
     "end_time": "2023-07-14T11:58:13.630354",
     "exception": false,
     "start_time": "2023-07-14T11:58:13.605066",
     "status": "completed"
    },
    "tags": []
   },
   "outputs": [],
   "source": [
    "test = test.drop(columns = 'UserName')\n",
    "test = test.drop(columns = 'ScreenName')\n",
    "test = test.drop(columns = 'Location')\n",
    "test = test.drop(columns = 'TweetAt')"
   ]
  },
  {
   "cell_type": "code",
   "execution_count": 8,
   "id": "c7f21134",
   "metadata": {
    "execution": {
     "iopub.execute_input": "2023-07-14T11:58:13.651099Z",
     "iopub.status.busy": "2023-07-14T11:58:13.650096Z",
     "iopub.status.idle": "2023-07-14T11:58:13.666901Z",
     "shell.execute_reply": "2023-07-14T11:58:13.665973Z"
    },
    "papermill": {
     "duration": 0.029943,
     "end_time": "2023-07-14T11:58:13.669887",
     "exception": false,
     "start_time": "2023-07-14T11:58:13.639944",
     "status": "completed"
    },
    "tags": []
   },
   "outputs": [],
   "source": [
    "# Replace \"Extremely Positive\" with \"Positive\"\n",
    "train['Sentiment'] = train['Sentiment'].replace('Extremely Positive', 'Positive')\n",
    "\n",
    "# Replace \"Extremely Negative\" with \"Negative\"\n",
    "train['Sentiment'] = train['Sentiment'].replace('Extremely Negative', 'Negative')\n",
    "\n",
    "# Replace \"Extremely Positive\" with \"Positive\"\n",
    "test['Sentiment'] = test['Sentiment'].replace('Extremely Positive', 'Positive')\n",
    "\n",
    "# Replace \"Extremely Negative\" with \"Negative\"\n",
    "test['Sentiment'] = test['Sentiment'].replace('Extremely Negative', 'Negative')"
   ]
  },
  {
   "cell_type": "code",
   "execution_count": 9,
   "id": "d1e50870",
   "metadata": {
    "execution": {
     "iopub.execute_input": "2023-07-14T11:58:13.692072Z",
     "iopub.status.busy": "2023-07-14T11:58:13.691466Z",
     "iopub.status.idle": "2023-07-14T11:58:13.710175Z",
     "shell.execute_reply": "2023-07-14T11:58:13.707914Z"
    },
    "papermill": {
     "duration": 0.033057,
     "end_time": "2023-07-14T11:58:13.712958",
     "exception": false,
     "start_time": "2023-07-14T11:58:13.679901",
     "status": "completed"
    },
    "tags": []
   },
   "outputs": [
    {
     "data": {
      "text/plain": [
       "Positive    18046\n",
       "Negative    15398\n",
       "Neutral      7713\n",
       "Name: Sentiment, dtype: int64"
      ]
     },
     "execution_count": 9,
     "metadata": {},
     "output_type": "execute_result"
    }
   ],
   "source": [
    "train['Sentiment'].value_counts()\n"
   ]
  },
  {
   "cell_type": "code",
   "execution_count": 10,
   "id": "0111ace8",
   "metadata": {
    "execution": {
     "iopub.execute_input": "2023-07-14T11:58:13.734255Z",
     "iopub.status.busy": "2023-07-14T11:58:13.733770Z",
     "iopub.status.idle": "2023-07-14T11:58:13.742182Z",
     "shell.execute_reply": "2023-07-14T11:58:13.741004Z"
    },
    "papermill": {
     "duration": 0.022538,
     "end_time": "2023-07-14T11:58:13.744743",
     "exception": false,
     "start_time": "2023-07-14T11:58:13.722205",
     "status": "completed"
    },
    "tags": []
   },
   "outputs": [
    {
     "data": {
      "text/plain": [
       "((41157, 2), (3798, 2))"
      ]
     },
     "execution_count": 10,
     "metadata": {},
     "output_type": "execute_result"
    }
   ],
   "source": [
    "train.shape, test.shape\n",
    "\n"
   ]
  },
  {
   "cell_type": "code",
   "execution_count": 11,
   "id": "ebfdc2cb",
   "metadata": {
    "execution": {
     "iopub.execute_input": "2023-07-14T11:58:13.766198Z",
     "iopub.status.busy": "2023-07-14T11:58:13.765766Z",
     "iopub.status.idle": "2023-07-14T11:58:13.796324Z",
     "shell.execute_reply": "2023-07-14T11:58:13.794474Z"
    },
    "papermill": {
     "duration": 0.045615,
     "end_time": "2023-07-14T11:58:13.800097",
     "exception": false,
     "start_time": "2023-07-14T11:58:13.754482",
     "status": "completed"
    },
    "tags": []
   },
   "outputs": [],
   "source": [
    "train0=train[train['Sentiment']=='Positive']\n",
    "train1=train[train['Sentiment']=='Negative']\n",
    "train2=train[train['Sentiment']=='Neutral']"
   ]
  },
  {
   "cell_type": "code",
   "execution_count": 12,
   "id": "6da04a23",
   "metadata": {
    "execution": {
     "iopub.execute_input": "2023-07-14T11:58:13.821505Z",
     "iopub.status.busy": "2023-07-14T11:58:13.820909Z",
     "iopub.status.idle": "2023-07-14T11:58:13.831162Z",
     "shell.execute_reply": "2023-07-14T11:58:13.829882Z"
    },
    "papermill": {
     "duration": 0.025167,
     "end_time": "2023-07-14T11:58:13.833651",
     "exception": false,
     "start_time": "2023-07-14T11:58:13.808484",
     "status": "completed"
    },
    "tags": []
   },
   "outputs": [],
   "source": [
    "train=pd.concat([train0,train1,train2],axis=0)\n"
   ]
  },
  {
   "cell_type": "code",
   "execution_count": 13,
   "id": "1b514d52",
   "metadata": {
    "execution": {
     "iopub.execute_input": "2023-07-14T11:58:13.867745Z",
     "iopub.status.busy": "2023-07-14T11:58:13.867312Z",
     "iopub.status.idle": "2023-07-14T11:58:13.875666Z",
     "shell.execute_reply": "2023-07-14T11:58:13.874359Z"
    },
    "papermill": {
     "duration": 0.021153,
     "end_time": "2023-07-14T11:58:13.878382",
     "exception": false,
     "start_time": "2023-07-14T11:58:13.857229",
     "status": "completed"
    },
    "tags": []
   },
   "outputs": [
    {
     "data": {
      "text/plain": [
       "(41157, 2)"
      ]
     },
     "execution_count": 13,
     "metadata": {},
     "output_type": "execute_result"
    }
   ],
   "source": [
    "train.shape"
   ]
  },
  {
   "cell_type": "markdown",
   "id": "df5abb6f",
   "metadata": {
    "papermill": {
     "duration": 0.008983,
     "end_time": "2023-07-14T11:58:13.896456",
     "exception": false,
     "start_time": "2023-07-14T11:58:13.887473",
     "status": "completed"
    },
    "tags": []
   },
   "source": [
    "# Pre-processing"
   ]
  },
  {
   "cell_type": "code",
   "execution_count": 14,
   "id": "4f6307c4",
   "metadata": {
    "execution": {
     "iopub.execute_input": "2023-07-14T11:58:13.919031Z",
     "iopub.status.busy": "2023-07-14T11:58:13.918349Z",
     "iopub.status.idle": "2023-07-14T11:58:14.744382Z",
     "shell.execute_reply": "2023-07-14T11:58:14.743305Z"
    },
    "papermill": {
     "duration": 0.840959,
     "end_time": "2023-07-14T11:58:14.746894",
     "exception": false,
     "start_time": "2023-07-14T11:58:13.905935",
     "status": "completed"
    },
    "tags": []
   },
   "outputs": [],
   "source": [
    "#Remove Hashtags\n",
    "train['OriginalTweet'].replace( { r\"#(\\w+)\" : '' }, inplace= True, regex = True)\n",
    "\n",
    "#Remove Mention\n",
    "train['OriginalTweet'].replace( { r\"@(\\w+)\" : '' }, inplace= True, regex = True)\n",
    "\n",
    "#Remove URL\n",
    "train['OriginalTweet'].astype(str).replace( { r\"http\\S+\" : '' }, inplace= True, regex = True)\n",
    "\n",
    "train['OriginalTweet']=train['OriginalTweet'].str.lower()\n",
    "\n",
    "#Remove Punctuations\n",
    "train['OriginalTweet'] = train['OriginalTweet'].apply(lambda x: x.translate(str.maketrans('', '', string.punctuation)))\n"
   ]
  },
  {
   "cell_type": "code",
   "execution_count": 15,
   "id": "964945b6",
   "metadata": {
    "execution": {
     "iopub.execute_input": "2023-07-14T11:58:14.769388Z",
     "iopub.status.busy": "2023-07-14T11:58:14.768622Z",
     "iopub.status.idle": "2023-07-14T11:58:14.856733Z",
     "shell.execute_reply": "2023-07-14T11:58:14.855543Z"
    },
    "papermill": {
     "duration": 0.102418,
     "end_time": "2023-07-14T11:58:14.859505",
     "exception": false,
     "start_time": "2023-07-14T11:58:14.757087",
     "status": "completed"
    },
    "tags": []
   },
   "outputs": [],
   "source": [
    "#Remove Hashtags\n",
    "test['OriginalTweet'].replace( { r\"#(\\w+)\" : '' }, inplace= True, regex = True)\n",
    "\n",
    "#Remove Mention\n",
    "test['OriginalTweet'].replace( { r\"@(\\w+)\" : '' }, inplace= True, regex = True)\n",
    "\n",
    "#Remove URL\n",
    "test['OriginalTweet'].astype(str).replace( { r\"http\\S+\" : '' }, inplace= True, regex = True)\n",
    "\n",
    "test['OriginalTweet']=test['OriginalTweet'].str.lower()\n",
    "\n",
    "#Remove Punctuations\n",
    "test['OriginalTweet'] = test['OriginalTweet'].apply(lambda x: x.translate(str.maketrans('', '', string.punctuation)))\n"
   ]
  },
  {
   "cell_type": "code",
   "execution_count": 16,
   "id": "a67210bf",
   "metadata": {
    "execution": {
     "iopub.execute_input": "2023-07-14T11:58:14.880011Z",
     "iopub.status.busy": "2023-07-14T11:58:14.878920Z",
     "iopub.status.idle": "2023-07-14T11:58:41.111368Z",
     "shell.execute_reply": "2023-07-14T11:58:41.109591Z"
    },
    "papermill": {
     "duration": 26.246408,
     "end_time": "2023-07-14T11:58:41.115295",
     "exception": false,
     "start_time": "2023-07-14T11:58:14.868887",
     "status": "completed"
    },
    "tags": []
   },
   "outputs": [],
   "source": [
    "stemmer = PorterStemmer()\n",
    "train['OriginalTweet'] = train['OriginalTweet'].apply(lambda x: ' '.join([stemmer.stem(word) for word in x.split()]))"
   ]
  },
  {
   "cell_type": "code",
   "execution_count": 17,
   "id": "7def23f0",
   "metadata": {
    "execution": {
     "iopub.execute_input": "2023-07-14T11:58:41.136206Z",
     "iopub.status.busy": "2023-07-14T11:58:41.135802Z",
     "iopub.status.idle": "2023-07-14T11:58:43.629090Z",
     "shell.execute_reply": "2023-07-14T11:58:43.628008Z"
    },
    "papermill": {
     "duration": 2.505716,
     "end_time": "2023-07-14T11:58:43.631574",
     "exception": false,
     "start_time": "2023-07-14T11:58:41.125858",
     "status": "completed"
    },
    "tags": []
   },
   "outputs": [],
   "source": [
    "stop = stopwords.words('english')\n",
    "train['OriginalTweet'] = train['OriginalTweet'].apply(lambda x: ' '.join([word for word in x.split() if word not in (stop)]))"
   ]
  },
  {
   "cell_type": "code",
   "execution_count": 18,
   "id": "ceb88878",
   "metadata": {
    "execution": {
     "iopub.execute_input": "2023-07-14T11:58:43.650842Z",
     "iopub.status.busy": "2023-07-14T11:58:43.650472Z",
     "iopub.status.idle": "2023-07-14T11:58:43.665773Z",
     "shell.execute_reply": "2023-07-14T11:58:43.664684Z"
    },
    "papermill": {
     "duration": 0.027958,
     "end_time": "2023-07-14T11:58:43.668361",
     "exception": false,
     "start_time": "2023-07-14T11:58:43.640403",
     "status": "completed"
    },
    "tags": []
   },
   "outputs": [],
   "source": [
    "train = train.sample(frac=1, random_state=42)"
   ]
  },
  {
   "cell_type": "code",
   "execution_count": 19,
   "id": "738d987e",
   "metadata": {
    "execution": {
     "iopub.execute_input": "2023-07-14T11:58:43.687204Z",
     "iopub.status.busy": "2023-07-14T11:58:43.686801Z",
     "iopub.status.idle": "2023-07-14T11:58:43.693947Z",
     "shell.execute_reply": "2023-07-14T11:58:43.692659Z"
    },
    "papermill": {
     "duration": 0.019856,
     "end_time": "2023-07-14T11:58:43.697139",
     "exception": false,
     "start_time": "2023-07-14T11:58:43.677283",
     "status": "completed"
    },
    "tags": []
   },
   "outputs": [],
   "source": [
    "train = train.reset_index(drop=True)\n"
   ]
  },
  {
   "cell_type": "code",
   "execution_count": 20,
   "id": "e9aa6031",
   "metadata": {
    "execution": {
     "iopub.execute_input": "2023-07-14T11:58:43.717140Z",
     "iopub.status.busy": "2023-07-14T11:58:43.716748Z",
     "iopub.status.idle": "2023-07-14T11:58:43.727513Z",
     "shell.execute_reply": "2023-07-14T11:58:43.726494Z"
    },
    "papermill": {
     "duration": 0.023068,
     "end_time": "2023-07-14T11:58:43.729762",
     "exception": false,
     "start_time": "2023-07-14T11:58:43.706694",
     "status": "completed"
    },
    "tags": []
   },
   "outputs": [
    {
     "data": {
      "text/html": [
       "<div>\n",
       "<style scoped>\n",
       "    .dataframe tbody tr th:only-of-type {\n",
       "        vertical-align: middle;\n",
       "    }\n",
       "\n",
       "    .dataframe tbody tr th {\n",
       "        vertical-align: top;\n",
       "    }\n",
       "\n",
       "    .dataframe thead th {\n",
       "        text-align: right;\n",
       "    }\n",
       "</style>\n",
       "<table border=\"1\" class=\"dataframe\">\n",
       "  <thead>\n",
       "    <tr style=\"text-align: right;\">\n",
       "      <th></th>\n",
       "      <th>OriginalTweet</th>\n",
       "      <th>Sentiment</th>\n",
       "    </tr>\n",
       "  </thead>\n",
       "  <tbody>\n",
       "    <tr>\n",
       "      <th>0</th>\n",
       "      <td>cdc boss downplay death estim still go groceri...</td>\n",
       "      <td>Negative</td>\n",
       "    </tr>\n",
       "    <tr>\n",
       "      <th>1</th>\n",
       "      <td>supermarket httpstcoo1kjpagcnv</td>\n",
       "      <td>Neutral</td>\n",
       "    </tr>\n",
       "    <tr>\n",
       "      <th>2</th>\n",
       "      <td>youâr welcom amid httpstcot3nzullqwn</td>\n",
       "      <td>Positive</td>\n",
       "    </tr>\n",
       "    <tr>\n",
       "      <th>3</th>\n",
       "      <td>thereâ direct correl shop onlin groceri stron...</td>\n",
       "      <td>Positive</td>\n",
       "    </tr>\n",
       "    <tr>\n",
       "      <th>4</th>\n",
       "      <td>know peopl opinion sun saw thi fb group thi sh...</td>\n",
       "      <td>Negative</td>\n",
       "    </tr>\n",
       "    <tr>\n",
       "      <th>5</th>\n",
       "      <td>whisper employe trader joeâ âyâal got ani g...</td>\n",
       "      <td>Negative</td>\n",
       "    </tr>\n",
       "    <tr>\n",
       "      <th>6</th>\n",
       "      <td>share profit low crude oil price peopl amid co...</td>\n",
       "      <td>Negative</td>\n",
       "    </tr>\n",
       "    <tr>\n",
       "      <th>7</th>\n",
       "      <td>know thi prepar power outag stock batteri flas...</td>\n",
       "      <td>Positive</td>\n",
       "    </tr>\n",
       "    <tr>\n",
       "      <th>8</th>\n",
       "      <td>mask may veri effect prevent wearer get sick p...</td>\n",
       "      <td>Negative</td>\n",
       "    </tr>\n",
       "    <tr>\n",
       "      <th>9</th>\n",
       "      <td>victoria help food product 1st time sinc wwii ...</td>\n",
       "      <td>Positive</td>\n",
       "    </tr>\n",
       "  </tbody>\n",
       "</table>\n",
       "</div>"
      ],
      "text/plain": [
       "                                       OriginalTweet Sentiment\n",
       "0  cdc boss downplay death estim still go groceri...  Negative\n",
       "1                     supermarket httpstcoo1kjpagcnv   Neutral\n",
       "2              youâr welcom amid httpstcot3nzullqwn  Positive\n",
       "3  thereâ direct correl shop onlin groceri stron...  Positive\n",
       "4  know peopl opinion sun saw thi fb group thi sh...  Negative\n",
       "5  whisper employe trader joeâ âyâal got ani g...  Negative\n",
       "6  share profit low crude oil price peopl amid co...  Negative\n",
       "7  know thi prepar power outag stock batteri flas...  Positive\n",
       "8  mask may veri effect prevent wearer get sick p...  Negative\n",
       "9  victoria help food product 1st time sinc wwii ...  Positive"
      ]
     },
     "execution_count": 20,
     "metadata": {},
     "output_type": "execute_result"
    }
   ],
   "source": [
    "train.head(10)"
   ]
  },
  {
   "cell_type": "code",
   "execution_count": 21,
   "id": "359cfb09",
   "metadata": {
    "execution": {
     "iopub.execute_input": "2023-07-14T11:58:43.751770Z",
     "iopub.status.busy": "2023-07-14T11:58:43.751358Z",
     "iopub.status.idle": "2023-07-14T11:58:43.768546Z",
     "shell.execute_reply": "2023-07-14T11:58:43.767081Z"
    },
    "papermill": {
     "duration": 0.030905,
     "end_time": "2023-07-14T11:58:43.771185",
     "exception": false,
     "start_time": "2023-07-14T11:58:43.740280",
     "status": "completed"
    },
    "tags": []
   },
   "outputs": [],
   "source": [
    "X = train[\"OriginalTweet\"]\n",
    "y = train[\"Sentiment\"]\n",
    "label_encoder = LabelEncoder()\n",
    "y = label_encoder.fit_transform(y)\n",
    "\n"
   ]
  },
  {
   "cell_type": "code",
   "execution_count": null,
   "id": "a183c151",
   "metadata": {
    "papermill": {
     "duration": 0.008226,
     "end_time": "2023-07-14T11:58:43.788831",
     "exception": false,
     "start_time": "2023-07-14T11:58:43.780605",
     "status": "completed"
    },
    "tags": []
   },
   "outputs": [],
   "source": []
  },
  {
   "cell_type": "code",
   "execution_count": 22,
   "id": "49842863",
   "metadata": {
    "execution": {
     "iopub.execute_input": "2023-07-14T11:58:43.807717Z",
     "iopub.status.busy": "2023-07-14T11:58:43.807269Z",
     "iopub.status.idle": "2023-07-14T11:58:43.818702Z",
     "shell.execute_reply": "2023-07-14T11:58:43.817916Z"
    },
    "papermill": {
     "duration": 0.023521,
     "end_time": "2023-07-14T11:58:43.821035",
     "exception": false,
     "start_time": "2023-07-14T11:58:43.797514",
     "status": "completed"
    },
    "tags": []
   },
   "outputs": [],
   "source": [
    "X_train, X_test, y_train, y_test = train_test_split(X, y, test_size=0.2, random_state=42)"
   ]
  },
  {
   "cell_type": "code",
   "execution_count": 23,
   "id": "8852d75e",
   "metadata": {
    "execution": {
     "iopub.execute_input": "2023-07-14T11:58:43.840158Z",
     "iopub.status.busy": "2023-07-14T11:58:43.839251Z",
     "iopub.status.idle": "2023-07-14T11:58:43.851718Z",
     "shell.execute_reply": "2023-07-14T11:58:43.850822Z"
    },
    "papermill": {
     "duration": 0.02449,
     "end_time": "2023-07-14T11:58:43.854009",
     "exception": false,
     "start_time": "2023-07-14T11:58:43.829519",
     "status": "completed"
    },
    "tags": []
   },
   "outputs": [],
   "source": [
    "label_encoder = LabelEncoder()\n",
    "y_train_encoded = label_encoder.fit_transform(y_train)\n",
    "y_test_encoded = label_encoder.fit_transform(y_test)\n"
   ]
  },
  {
   "cell_type": "markdown",
   "id": "3eaf5c47",
   "metadata": {
    "papermill": {
     "duration": 0.00893,
     "end_time": "2023-07-14T11:58:43.871396",
     "exception": false,
     "start_time": "2023-07-14T11:58:43.862466",
     "status": "completed"
    },
    "tags": []
   },
   "source": [
    "# Vectorization"
   ]
  },
  {
   "cell_type": "code",
   "execution_count": 24,
   "id": "ef1b8c81",
   "metadata": {
    "execution": {
     "iopub.execute_input": "2023-07-14T11:58:43.890222Z",
     "iopub.status.busy": "2023-07-14T11:58:43.889832Z",
     "iopub.status.idle": "2023-07-14T11:58:45.351449Z",
     "shell.execute_reply": "2023-07-14T11:58:45.350512Z"
    },
    "papermill": {
     "duration": 1.474912,
     "end_time": "2023-07-14T11:58:45.354860",
     "exception": false,
     "start_time": "2023-07-14T11:58:43.879948",
     "status": "completed"
    },
    "tags": []
   },
   "outputs": [],
   "source": [
    "vectorizer = TfidfVectorizer(max_features=1000)\n",
    "X_train_tfidf = vectorizer.fit_transform(X_train).toarray()\n",
    "X_test_tfidf = vectorizer.transform(X_test).toarray()"
   ]
  },
  {
   "cell_type": "code",
   "execution_count": 25,
   "id": "74aea1f8",
   "metadata": {
    "execution": {
     "iopub.execute_input": "2023-07-14T11:58:45.374185Z",
     "iopub.status.busy": "2023-07-14T11:58:45.373510Z",
     "iopub.status.idle": "2023-07-14T11:58:45.943142Z",
     "shell.execute_reply": "2023-07-14T11:58:45.941830Z"
    },
    "papermill": {
     "duration": 0.582522,
     "end_time": "2023-07-14T11:58:45.945931",
     "exception": false,
     "start_time": "2023-07-14T11:58:45.363409",
     "status": "completed"
    },
    "tags": []
   },
   "outputs": [],
   "source": [
    "model1 = Sequential()\n",
    "model1.add(Embedding(input_dim=X_train_tfidf.shape[1], output_dim=128))  # Use a smaller embedding size\n",
    "model1.add(LSTM(128))\n",
    "model1.add(Dense(3, activation='sigmoid'))  # Assuming three sentiment classes (Negative, Neutral, Positive)"
   ]
  },
  {
   "cell_type": "code",
   "execution_count": 26,
   "id": "097635f2",
   "metadata": {
    "execution": {
     "iopub.execute_input": "2023-07-14T11:58:45.965153Z",
     "iopub.status.busy": "2023-07-14T11:58:45.964724Z",
     "iopub.status.idle": "2023-07-14T11:58:45.987878Z",
     "shell.execute_reply": "2023-07-14T11:58:45.986932Z"
    },
    "papermill": {
     "duration": 0.035996,
     "end_time": "2023-07-14T11:58:45.990533",
     "exception": false,
     "start_time": "2023-07-14T11:58:45.954537",
     "status": "completed"
    },
    "tags": []
   },
   "outputs": [],
   "source": [
    "model1.compile(loss='sparse_categorical_crossentropy', optimizer=Adam(), metrics=['accuracy'])\n"
   ]
  },
  {
   "cell_type": "code",
   "execution_count": 27,
   "id": "005111f7",
   "metadata": {
    "execution": {
     "iopub.execute_input": "2023-07-14T11:58:46.010646Z",
     "iopub.status.busy": "2023-07-14T11:58:46.009452Z",
     "iopub.status.idle": "2023-07-14T13:38:00.104135Z",
     "shell.execute_reply": "2023-07-14T13:38:00.103112Z"
    },
    "papermill": {
     "duration": 5954.192608,
     "end_time": "2023-07-14T13:38:00.192250",
     "exception": false,
     "start_time": "2023-07-14T11:58:45.999642",
     "status": "completed"
    },
    "tags": []
   },
   "outputs": [
    {
     "name": "stdout",
     "output_type": "stream",
     "text": [
      "Epoch 1/10\n",
      "129/129 [==============================] - 584s 4s/step - loss: 1.0465 - accuracy: 0.4357 - val_loss: 1.0375 - val_accuracy: 0.4450\n",
      "Epoch 2/10\n",
      "129/129 [==============================] - 575s 4s/step - loss: 1.0456 - accuracy: 0.4368 - val_loss: 1.0397 - val_accuracy: 0.4450\n",
      "Epoch 3/10\n",
      "129/129 [==============================] - 601s 5s/step - loss: 1.0455 - accuracy: 0.4368 - val_loss: 1.0385 - val_accuracy: 0.4450\n",
      "Epoch 4/10\n",
      "129/129 [==============================] - 607s 5s/step - loss: 1.0449 - accuracy: 0.4368 - val_loss: 1.0378 - val_accuracy: 0.4450\n",
      "Epoch 5/10\n",
      "129/129 [==============================] - 584s 5s/step - loss: 1.0450 - accuracy: 0.4368 - val_loss: 1.0380 - val_accuracy: 0.4450\n",
      "Epoch 6/10\n",
      "129/129 [==============================] - 584s 5s/step - loss: 1.0450 - accuracy: 0.4368 - val_loss: 1.0381 - val_accuracy: 0.4450\n",
      "Epoch 7/10\n",
      "129/129 [==============================] - 622s 5s/step - loss: 1.0448 - accuracy: 0.4368 - val_loss: 1.0377 - val_accuracy: 0.4450\n",
      "Epoch 8/10\n",
      "129/129 [==============================] - 608s 5s/step - loss: 1.0451 - accuracy: 0.4368 - val_loss: 1.0379 - val_accuracy: 0.4450\n",
      "Epoch 9/10\n",
      "129/129 [==============================] - 603s 5s/step - loss: 1.0448 - accuracy: 0.4368 - val_loss: 1.0394 - val_accuracy: 0.4450\n",
      "Epoch 10/10\n",
      "129/129 [==============================] - 587s 5s/step - loss: 1.0448 - accuracy: 0.4368 - val_loss: 1.0377 - val_accuracy: 0.4450\n"
     ]
    }
   ],
   "source": [
    "history1 = model1.fit(X_train_tfidf, y_train_encoded, epochs=10, batch_size=256, validation_data=(X_test_tfidf, y_test_encoded))"
   ]
  },
  {
   "cell_type": "code",
   "execution_count": 28,
   "id": "480c6044",
   "metadata": {
    "execution": {
     "iopub.execute_input": "2023-07-14T13:38:00.386240Z",
     "iopub.status.busy": "2023-07-14T13:38:00.385807Z",
     "iopub.status.idle": "2023-07-14T13:40:22.488446Z",
     "shell.execute_reply": "2023-07-14T13:40:22.487222Z"
    },
    "papermill": {
     "duration": 142.320317,
     "end_time": "2023-07-14T13:40:22.606514",
     "exception": false,
     "start_time": "2023-07-14T13:38:00.286197",
     "status": "completed"
    },
    "tags": []
   },
   "outputs": [
    {
     "name": "stdout",
     "output_type": "stream",
     "text": [
      "258/258 [==============================] - 112s 435ms/step - loss: 1.0377 - accuracy: 0.4450\n",
      "Test Loss: 1.0377013683319092\n",
      "Test Accuracy: 0.44497084617614746\n"
     ]
    }
   ],
   "source": [
    "loss, accuracy = model1.evaluate(X_test_tfidf, y_test_encoded)\n",
    "print(\"Test Loss:\", loss)\n",
    "print(\"Test Accuracy:\", accuracy)"
   ]
  },
  {
   "cell_type": "code",
   "execution_count": 29,
   "id": "fbebdadb",
   "metadata": {
    "execution": {
     "iopub.execute_input": "2023-07-14T13:40:22.838662Z",
     "iopub.status.busy": "2023-07-14T13:40:22.837546Z",
     "iopub.status.idle": "2023-07-14T13:40:23.201002Z",
     "shell.execute_reply": "2023-07-14T13:40:23.199626Z"
    },
    "papermill": {
     "duration": 0.484071,
     "end_time": "2023-07-14T13:40:23.203421",
     "exception": false,
     "start_time": "2023-07-14T13:40:22.719350",
     "status": "completed"
    },
    "tags": []
   },
   "outputs": [
    {
     "data": {
      "image/png": "[encoded data removed]",
      "text/plain": [
       "<Figure size 800x600 with 1 Axes>"
      ]
     },
     "metadata": {},
     "output_type": "display_data"
    }
   ],
   "source": [
    "plt.figure(figsize=(8, 6))\n",
    "plt.plot(history1.history['accuracy'], label='Training Accuracy')\n",
    "plt.plot(history1.history['val_accuracy'], label='Validation Accuracy')\n",
    "plt.title('Training and Validation Accuracy')\n",
    "plt.xlabel('Epoch')\n",
    "plt.ylabel('Accuracy')\n",
    "plt.legend()\n",
    "plt.show()"
   ]
  },
  {
   "cell_type": "code",
   "execution_count": 30,
   "id": "25fe224c",
   "metadata": {
    "execution": {
     "iopub.execute_input": "2023-07-14T13:40:23.434497Z",
     "iopub.status.busy": "2023-07-14T13:40:23.433870Z",
     "iopub.status.idle": "2023-07-14T13:40:23.752784Z",
     "shell.execute_reply": "2023-07-14T13:40:23.751548Z"
    },
    "papermill": {
     "duration": 0.439876,
     "end_time": "2023-07-14T13:40:23.755791",
     "exception": false,
     "start_time": "2023-07-14T13:40:23.315915",
     "status": "completed"
    },
    "tags": []
   },
   "outputs": [
    {
     "data": {
      "image/png": "[encoded data removed]",
      "text/plain": [
       "<Figure size 800x600 with 1 Axes>"
      ]
     },
     "metadata": {},
     "output_type": "display_data"
    }
   ],
   "source": [
    "plt.figure(figsize=(8, 6))\n",
    "plt.plot(history1.history['loss'], label='Training Loss')\n",
    "plt.plot(history1.history['val_loss'], label='Validation Loss')\n",
    "plt.title('Training and Validation Loss')\n",
    "plt.xlabel('Epoch')\n",
    "plt.ylabel('Loss')\n",
    "plt.legend()\n",
    "plt.show()"
   ]
  }
 ],
 "metadata": {
  "kernelspec": {
   "display_name": "Python 3",
   "language": "python",
   "name": "python3"
  },
  "language_info": {
   "codemirror_mode": {
    "name": "ipython",
    "version": 3
   },
   "file_extension": ".py",
   "mimetype": "text/x-python",
   "name": "python",
   "nbconvert_exporter": "python",
   "pygments_lexer": "ipython3",
   "version": "3.10.10"
  },
  "papermill": {
   "default_parameters": {},
   "duration": 6162.003644,
   "end_time": "2023-07-14T13:40:26.872591",
   "environment_variables": {},
   "exception": null,
   "input_path": "__notebook__.ipynb",
   "output_path": "__notebook__.ipynb",
   "parameters": {},
   "start_time": "2023-07-14T11:57:44.868947",
   "version": "2.4.0"
  }
 },
 "nbformat": 4,
 "nbformat_minor": 5
}
